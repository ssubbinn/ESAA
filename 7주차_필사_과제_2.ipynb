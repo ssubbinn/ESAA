{
  "nbformat": 4,
  "nbformat_minor": 0,
  "metadata": {
    "colab": {
      "provenance": [],
      "authorship_tag": "ABX9TyMPHNCHOHdDk2GBcr28Jsrs",
      "include_colab_link": true
    },
    "kernelspec": {
      "name": "python3",
      "display_name": "Python 3"
    },
    "language_info": {
      "name": "python"
    }
  },
  "cells": [
    {
      "cell_type": "markdown",
      "metadata": {
        "id": "view-in-github",
        "colab_type": "text"
      },
      "source": [
        "<a href=\"https://colab.research.google.com/github/ssubbinn/ESAA/blob/main/7%EC%A3%BC%EC%B0%A8_%ED%95%84%EC%82%AC_%EA%B3%BC%EC%A0%9C_2.ipynb\" target=\"_parent\"><img src=\"https://colab.research.google.com/assets/colab-badge.svg\" alt=\"Open In Colab\"/></a>"
      ]
    },
    {
      "cell_type": "markdown",
      "source": [
        "## 평가\n",
        "\n",
        "<분류 성능 평가 지표>\n",
        "\n",
        "- 정확도\n",
        "\n",
        "- 오차행렬(confusion matrix)\n",
        "\n",
        "- 정밀도(Precision)\n",
        "\n",
        "- 재현율(Recall)\n",
        "\n",
        "- F1 score\n",
        "\n",
        "- ROC AUC\n",
        "\n",
        "*이진분류에서 중요하게 강조하는 지표\n",
        "\n",
        "### 정확도 : 실제 데이터에서 예측 데이터가 얼마나 같은지를 판단하는 지표"
      ],
      "metadata": {
        "id": "gY0YgeA67dmN"
      }
    },
    {
      "cell_type": "code",
      "source": [
        "from sklearn.base import BaseEstimator\n",
        "\n",
        "class MyDummyClassifier(BaseEstimator):\n",
        "  # fit() 메서드는 아무것도 학습하지 안음.\n",
        "  def fit(self, X, y=None):\n",
        "    pass\n",
        "  #predict() 메서드는 단순히 Sex 피처가 1이면0, 그렇지 않으면 1로 예측함.\n",
        "  def predict(self, X):\n",
        "    pred = np.zeros((X.shape[0],1))\n",
        "    for i in range (X.shape[0]):\n",
        "      if X['Sex'].iloc[i] == 1:\n",
        "        pred[i]=0\n",
        "      else :\n",
        "        pred[i]=1\n",
        "    return pred"
      ],
      "metadata": {
        "id": "kjb8raMU9Q_X"
      },
      "execution_count": 1,
      "outputs": []
    },
    {
      "cell_type": "code",
      "source": [
        "from google.colab import drive\n",
        "drive.mount('/content/drive')"
      ],
      "metadata": {
        "colab": {
          "base_uri": "https://localhost:8080/"
        },
        "id": "vrPxsDd7_kuz",
        "outputId": "26d62c80-f188-4d20-88b8-effb66bf476a"
      },
      "execution_count": 2,
      "outputs": [
        {
          "output_type": "stream",
          "name": "stdout",
          "text": [
            "Mounted at /content/drive\n"
          ]
        }
      ]
    },
    {
      "cell_type": "code",
      "source": [
        "import pandas as pd\n",
        "import numpy as np\n",
        "from sklearn.model_selection import train_test_split\n",
        "from sklearn.metrics import accuracy_score\n",
        "from sklearn import preprocessing\n",
        "titanic_df=pd.read_csv('/content/drive/MyDrive/김수빈/esaa/data/titanic_train.csv')"
      ],
      "metadata": {
        "id": "k2enNpXnB91s"
      },
      "execution_count": 3,
      "outputs": []
    },
    {
      "cell_type": "code",
      "source": [
        "from sklearn.preprocessing import LabelEncoder\n",
        "\n",
        "#Null 처리 함수\n",
        "def fillna(df):\n",
        "  df['Age'].fillna(df['Age'].mean(),inplace=True)\n",
        "  df['Cabin'].fillna('N',inplace=True)\n",
        "  df['Embarked'].fillna('N',inplace=True)\n",
        "  df['Fare'].fillna(0, inplace=True)\n",
        "  return df\n",
        "\n",
        "def drop_features(df):\n",
        "  df.drop(['PassengerId','Name','Ticket'],axis=1, inplace=True)\n",
        "  return df\n",
        "\n",
        "def format_features(df):\n",
        "  df['Cabin'] = df['Cabin'].str[:1]\n",
        "  features = ['Cabin','Sex','Embarked']\n",
        "  for feature in features:\n",
        "    le = preprocessing.LabelEncoder()\n",
        "    le = le.fit(df[feature])\n",
        "    df[feature] = le.transform(df[feature])\n",
        "  return df\n",
        "\n",
        "def transform_features(df):\n",
        "  df = fillna(df)\n",
        "  df = drop_features(df)\n",
        "  df = format_features(df)\n",
        "  return df\n",
        "\n",
        "y_titanic_df=titanic_df['Survived']\n",
        "X_titanic_df= titanic_df.drop('Survived', axis=1)\n",
        "X_titanic_df= transform_features(X_titanic_df)\n",
        "X_train, X_test, y_train, y_test=train_test_split(X_titanic_df,y_titanic_df, test_size=0.2, random_state=0)"
      ],
      "metadata": {
        "id": "jTbC544VB-0H"
      },
      "execution_count": 4,
      "outputs": []
    },
    {
      "cell_type": "code",
      "source": [
        "#위에서 생성한 Dummy Classifier를 이용해 학습/예측/평가 수행\n",
        "\n",
        "myclf=MyDummyClassifier()\n",
        "myclf.fit(X_train,y_train)\n",
        "\n",
        "mypredictions=myclf.predict(X_test)\n",
        "print('Dummy Classifier의 정확도는: {0:.4f}'.format(accuracy_score(y_test, mypredictions)))"
      ],
      "metadata": {
        "colab": {
          "base_uri": "https://localhost:8080/"
        },
        "id": "gUearJS9-Z_n",
        "outputId": "6267c073-d0f7-48a1-dbb0-1300a93e63b9"
      },
      "execution_count": 5,
      "outputs": [
        {
          "output_type": "stream",
          "name": "stdout",
          "text": [
            "Dummy Classifier의 정확도는: 0.7877\n"
          ]
        }
      ]
    },
    {
      "cell_type": "markdown",
      "source": [
        "꽤 높은 결과가 나옴-정확도를 평가 지표로 사용할 때 매우 신중!"
      ],
      "metadata": {
        "id": "_Uz682HzDg8B"
      }
    },
    {
      "cell_type": "code",
      "source": [
        "#MNIST 데이터 이용 예시\n",
        "from sklearn.datasets import load_digits\n",
        "class MyFakeClassifier(BaseEstimator):\n",
        "  def fit(self, X,y):\n",
        "    pass\n",
        "\n",
        "  #입력값으로 들어오는 X 데이터 세트의 크기만큼 모두 0값으로 만들어서 반환\n",
        "  def predict(self, X):\n",
        "    return np.zeros((len(X),1),dtype=bool)\n",
        "\n",
        "#사이킷런의 내장 데이터 세트인 load_digits()를 이용해 MNIST 데이터 로딩\n",
        "digits = load_digits()\n",
        "\n",
        "#digits 번호가 7번이면 True이고 이를 astype(int)로 1로 변환, 7번이 아니면 False이고 0으로 변환\n",
        "y=(digits.target == 7).astype(int)\n",
        "X_train, X_test, y_train, y_test=train_test_split(digits.data,y, random_state=11)\n"
      ],
      "metadata": {
        "id": "lDj-Dfi6Dot0"
      },
      "execution_count": 6,
      "outputs": []
    },
    {
      "cell_type": "code",
      "source": [
        "#불균형한 레이블 데이터 분포도 확인\n",
        "print('레이블 테스트 세트 크기:', y_test.shape)\n",
        "print('테스트 세트 레이블 0과 1의 분포도')\n",
        "print(pd.Series(y_test).value_counts())\n",
        "\n",
        "#Dummy Classifier로 학습/예측/정확도 평가\n",
        "fakeclf=MyFakeClassifier()\n",
        "fakeclf.fit(X_train, y_train)\n",
        "fakepred=fakeclf.predict(X_test)\n",
        "print('모든 예측을 0으로 하여도 정확도는:{:.3f}'.format(accuracy_score(y_test, fakepred)))"
      ],
      "metadata": {
        "colab": {
          "base_uri": "https://localhost:8080/"
        },
        "id": "fypdHb-eFXWl",
        "outputId": "5ec0fe98-36ca-450c-f1ec-431006b1ec02"
      },
      "execution_count": 7,
      "outputs": [
        {
          "output_type": "stream",
          "name": "stdout",
          "text": [
            "레이블 테스트 세트 크기: (450,)\n",
            "테스트 세트 레이블 0과 1의 분포도\n",
            "0    405\n",
            "1     45\n",
            "dtype: int64\n",
            "모든 예측을 0으로 하여도 정확도는:0.900\n"
          ]
        }
      ]
    },
    {
      "cell_type": "markdown",
      "source": [
        "모든것을 0으로만 예측해도 정확도 90%\n",
        "-> 정확도 평가 지표는 불균형한 레이블 데이터 세트에서는 성능 수치로 사용돼서는 안됨!"
      ],
      "metadata": {
        "id": "-GC3XXqd8ihs"
      }
    },
    {
      "cell_type": "markdown",
      "source": [
        "### 오차 행렬\n",
        "\n",
        "오차 행렬 : 예측 오류가 얼마인지와 더불어 어떠한 유형의 예측 오류가 발생하고 있는지를 함께 나타내는 지표\n",
        "\n",
        "왼쪽 위부터 TN, FP, FN, TP"
      ],
      "metadata": {
        "id": "cH8jJuFeZkJm"
      }
    },
    {
      "cell_type": "code",
      "source": [
        "from sklearn.metrics import confusion_matrix\n",
        "confusion_matrix(y_test,fakepred)"
      ],
      "metadata": {
        "colab": {
          "base_uri": "https://localhost:8080/"
        },
        "id": "8GMpdscTaMcd",
        "outputId": "e4f88fb4-0fcb-4b31-ca59-fa9c50652a41"
      },
      "execution_count": 8,
      "outputs": [
        {
          "output_type": "execute_result",
          "data": {
            "text/plain": [
              "array([[405,   0],\n",
              "       [ 45,   0]])"
            ]
          },
          "metadata": {},
          "execution_count": 8
        }
      ]
    },
    {
      "cell_type": "markdown",
      "source": [
        "### 정밀도와 재현율\n",
        "\n",
        "정밀도 = TP/(FP+TP)\n",
        "\n",
        "재현율 = TP/(FN+TP)"
      ],
      "metadata": {
        "id": "Cfz7Mb6qdIqn"
      }
    },
    {
      "cell_type": "code",
      "source": [
        "from sklearn.metrics import accuracy_score, precision_score, recall_score, confusion_matrix\n",
        "\n",
        "def get_clf_eval(y_test,pred):\n",
        "  confusion=confusion_matrix(y_test,pred)\n",
        "  accuracy=accuracy_score(y_test,pred)\n",
        "  precision=precision_score(y_test,pred)\n",
        "  recall=recall_score(y_test,pred)\n",
        "  print('오차 행렬')\n",
        "  print(confusion)\n",
        "  print('정확도: {0:.4f}, 정밀도: {1:.4f}, 재현율: {2:.4f}'.format(accuracy, precision, recall))"
      ],
      "metadata": {
        "id": "T9TCSpI6dhqP"
      },
      "execution_count": 9,
      "outputs": []
    },
    {
      "cell_type": "code",
      "source": [
        "import pandas as pd\n",
        "from sklearn.model_selection import train_test_split\n",
        "from sklearn.linear_model import LogisticRegression\n",
        "\n",
        "#원본 데이터를 재로딩, 데이터 가공, 학습 데이터/테스트 데이터 분할\n",
        "titanic_df=pd.read_csv('/content/drive/MyDrive/김수빈/esaa/data/titanic_train.csv')\n",
        "y_titanic_df=titanic_df['Survived']\n",
        "X_titanic_df= titanic_df.drop('Survived', axis=1)\n",
        "X_titanic_df= transform_features(X_titanic_df)\n",
        "\n",
        "X_train, X_test, y_train, y_test=train_test_split(X_titanic_df,y_titanic_df, test_size=0.2, random_state=11)\n",
        "\n",
        "lr_clf=LogisticRegression()\n",
        "\n",
        "lr_clf.fit(X_train,y_train)\n",
        "pred=lr_clf.predict(X_test)\n",
        "get_clf_eval(y_test, pred)"
      ],
      "metadata": {
        "colab": {
          "base_uri": "https://localhost:8080/"
        },
        "id": "V-1bq9tXf2su",
        "outputId": "c13f4419-f52b-4cc9-995d-b84f8d09f808"
      },
      "execution_count": 10,
      "outputs": [
        {
          "output_type": "stream",
          "name": "stdout",
          "text": [
            "오차 행렬\n",
            "[[104  14]\n",
            " [ 13  48]]\n",
            "정확도: 0.8492, 정밀도: 0.7742, 재현율: 0.7869\n"
          ]
        },
        {
          "output_type": "stream",
          "name": "stderr",
          "text": [
            "/usr/local/lib/python3.7/dist-packages/sklearn/linear_model/_logistic.py:818: ConvergenceWarning: lbfgs failed to converge (status=1):\n",
            "STOP: TOTAL NO. of ITERATIONS REACHED LIMIT.\n",
            "\n",
            "Increase the number of iterations (max_iter) or scale the data as shown in:\n",
            "    https://scikit-learn.org/stable/modules/preprocessing.html\n",
            "Please also refer to the documentation for alternative solver options:\n",
            "    https://scikit-learn.org/stable/modules/linear_model.html#logistic-regression\n",
            "  extra_warning_msg=_LOGISTIC_SOLVER_CONVERGENCE_MSG,\n"
          ]
        }
      ]
    },
    {
      "cell_type": "markdown",
      "source": [
        "[정밀도/재현율 트레이드오프]\n",
        "\n",
        "정밀도와 재현율은 상호 보완적인 평가 지표이기 때문에 어느 한쪽을 강제로 높으면 다른 하나의 수치는 떨어지기 쉽다."
      ],
      "metadata": {
        "id": "mq_GxUcZho_e"
      }
    },
    {
      "cell_type": "code",
      "source": [
        "pred_proba=lr_clf.predict_proba(X_test)\n",
        "pred = lr_clf.predict(X_test)\n",
        "print('pred_proba()결과 Shape : {0}'.format(pred_proba.shape))\n",
        "print('pred_proba array에서 앞 3개만 샘플로 추출 /n:', pred_proba[:3])\n",
        "\n",
        "#예측 확률 array와 예측 결괏값 array를 병합(concatenate)해 예측 확률과 결괏값을 한눈에 확인\n",
        "pred_proba_result=np.concatenate([pred_proba, pred.reshape(-1,1)], axis=1)\n",
        "print('두 개의 class 중에서 더 큰 확률을 클래스 값으로 예측 /n', pred_proba_result[:3])"
      ],
      "metadata": {
        "colab": {
          "base_uri": "https://localhost:8080/"
        },
        "id": "eHWG3MgsiBK6",
        "outputId": "687a1a2c-8246-4a34-92c3-a28c3c0a907c"
      },
      "execution_count": 11,
      "outputs": [
        {
          "output_type": "stream",
          "name": "stdout",
          "text": [
            "pred_proba()결과 Shape : (179, 2)\n",
            "pred_proba array에서 앞 3개만 샘플로 추출 /n: [[0.46191519 0.53808481]\n",
            " [0.878675   0.121325  ]\n",
            " [0.87716185 0.12283815]]\n",
            "두 개의 class 중에서 더 큰 확률을 클래스 값으로 예측 /n [[0.46191519 0.53808481 1.        ]\n",
            " [0.878675   0.121325   0.        ]\n",
            " [0.87716185 0.12283815 0.        ]]\n"
          ]
        }
      ]
    },
    {
      "cell_type": "code",
      "source": [
        "#Binarizer 클래스 사용 예제\n",
        "from sklearn.preprocessing import Binarizer\n",
        "\n",
        "X=[[1,-1,2],\n",
        "   [2,0,0],\n",
        "   [0,1.1,1.2]]\n",
        "\n",
        "#X의 개별 원소들이 theshold값보다 같거나 작으면 0을, 크면 1을 반환\n",
        "binarizer=Binarizer(threshold=1.1)\n",
        "print(binarizer.fit_transform(X))\n",
        "#1.1보다 같거나 작으면 0, 크면 1로 변환됨을 알수 있음"
      ],
      "metadata": {
        "colab": {
          "base_uri": "https://localhost:8080/"
        },
        "id": "RIhYB4d-jkKM",
        "outputId": "dcd25e11-3639-4b3d-cc8b-bda23579d9f1"
      },
      "execution_count": 12,
      "outputs": [
        {
          "output_type": "stream",
          "name": "stdout",
          "text": [
            "[[0. 0. 1.]\n",
            " [1. 0. 0.]\n",
            " [0. 0. 1.]]\n"
          ]
        }
      ]
    },
    {
      "cell_type": "code",
      "source": [
        "from sklearn.preprocessing import Binarizer\n",
        "\n",
        "#Binarizer의 threshold 설정값, 분류 결정 임곗값임.\n",
        "custom_threshold=0.5\n",
        "\n",
        "#predict_proba() 반환값의 두 번째 칼럼, 즉 Positive 클래스 칼럼 하나만 추출해 Binarizer를 적용\n",
        "pred_proba_1=pred_proba[:,1].reshape(-1,1)\n",
        "\n",
        "binarizer=Binarizer(threshold=custom_threshold).fit(pred_proba_1)\n",
        "custom_predict=binarizer.transform(pred_proba_1)\n",
        "\n",
        "get_clf_eval(y_test, custom_predict)"
      ],
      "metadata": {
        "colab": {
          "base_uri": "https://localhost:8080/"
        },
        "id": "GLg9jj_8kW56",
        "outputId": "d2db00d0-1669-47dd-bd2d-66b264a45336"
      },
      "execution_count": 13,
      "outputs": [
        {
          "output_type": "stream",
          "name": "stdout",
          "text": [
            "오차 행렬\n",
            "[[104  14]\n",
            " [ 13  48]]\n",
            "정확도: 0.8492, 정밀도: 0.7742, 재현율: 0.7869\n"
          ]
        }
      ]
    },
    {
      "cell_type": "code",
      "source": [
        "#Binarizer의 threshold 설정값을 0.4로 설정. 즉 분류 결정 임곗값을 0.5에서 0.4로 낮춤\n",
        "custom_threshold=0.4\n",
        "pred_proba_1=pred_proba[:,1].reshape(-1,1)\n",
        "binarizer=Binarizer(threshold=custom_threshold).fit(pred_proba_1)\n",
        "custom_predict=binarizer.transform(pred_proba_1)\n",
        "\n",
        "get_clf_eval(y_test, custom_predict)\n",
        "#임곗값을 낮추니 재현울 올라가고 정밀도 떨어짐"
      ],
      "metadata": {
        "colab": {
          "base_uri": "https://localhost:8080/"
        },
        "id": "SX8toV_GkXAo",
        "outputId": "5cfe1d90-64bb-48eb-e5d2-dfd1783a6d4c"
      },
      "execution_count": 14,
      "outputs": [
        {
          "output_type": "stream",
          "name": "stdout",
          "text": [
            "오차 행렬\n",
            "[[98 20]\n",
            " [10 51]]\n",
            "정확도: 0.8324, 정밀도: 0.7183, 재현율: 0.8361\n"
          ]
        }
      ]
    },
    {
      "cell_type": "code",
      "source": [
        "#테스트를 수행할 모든 임곗값을 리스트 객체로 저장\n",
        "thresholds=[0.4,0.45,0.5,0.55,0.6]\n",
        "def get_eval_by_threshold(y_tst, pred_proba_c1, thresholds):\n",
        "  #thresholds list 객체 내의 값을 차례로 iteration하면서 Evaluation 수행\n",
        "  for custom_threshold in thresholds:\n",
        "    binarizer = Binarizer(threshold=custom_threshold).fit(pred_proba_c1)\n",
        "    custom_predict=binarizer.transform(pred_proba_c1)\n",
        "    print('임곗값:',custom_threshold)\n",
        "    get_clf_eval(y_test, custom_predict)\n",
        "\n",
        "get_eval_by_threshold(y_test, pred_proba[:,1].reshape(-1,1), thresholds)"
      ],
      "metadata": {
        "colab": {
          "base_uri": "https://localhost:8080/"
        },
        "id": "nZzGVEgcl9qP",
        "outputId": "811ea7a1-ad6f-4e5c-f7bb-a7f05c5b49f6"
      },
      "execution_count": 15,
      "outputs": [
        {
          "output_type": "stream",
          "name": "stdout",
          "text": [
            "임곗값: 0.4\n",
            "오차 행렬\n",
            "[[98 20]\n",
            " [10 51]]\n",
            "정확도: 0.8324, 정밀도: 0.7183, 재현율: 0.8361\n",
            "임곗값: 0.45\n",
            "오차 행렬\n",
            "[[103  15]\n",
            " [ 12  49]]\n",
            "정확도: 0.8492, 정밀도: 0.7656, 재현율: 0.8033\n",
            "임곗값: 0.5\n",
            "오차 행렬\n",
            "[[104  14]\n",
            " [ 13  48]]\n",
            "정확도: 0.8492, 정밀도: 0.7742, 재현율: 0.7869\n",
            "임곗값: 0.55\n",
            "오차 행렬\n",
            "[[109   9]\n",
            " [ 15  46]]\n",
            "정확도: 0.8659, 정밀도: 0.8364, 재현율: 0.7541\n",
            "임곗값: 0.6\n",
            "오차 행렬\n",
            "[[112   6]\n",
            " [ 16  45]]\n",
            "정확도: 0.8771, 정밀도: 0.8824, 재현율: 0.7377\n"
          ]
        }
      ]
    },
    {
      "cell_type": "code",
      "source": [
        "from sklearn.metrics import precision_recall_curve\n",
        "\n",
        "#레이블 값이 1일 때의 예측 확률을 추출\n",
        "pred_proba_class1=lr_clf.predict_proba(X_test)[:,1]\n",
        "\n",
        "#실제값 데이터 세트와 레이블 값이 1일 때의 예측 확률을 precision_recall_curve 인자로 입력\n",
        "precisions, recalls, thresholds = precision_recall_curve(y_test, pred_proba_class1)\n",
        "print('반환된 분류 결정 임곗값 배열의 Shape:', thresholds.shape)\n",
        "\n",
        "#반환된 임계값 배열 로우가 147건이므로 샘플로 10건만 추출하되, 임계값을 15 Step으로 추출\n",
        "thr_index=np.arange(0, thresholds.shape[0], 15)\n",
        "print('샘플 추출을 위한 임계값 배열의 index 10개:', thr_index)\n",
        "print('샘플용 10개의 임곗값:', np.round(thresholds[thr_index],2))\n",
        "\n",
        "#15step 단위로 추출된 임계값에 따른 정밀도와 재현율 값\n",
        "print('샘플 임계값별 정밀도:', np.round(precisions[thr_index],3))\n",
        "print('샘플 임계값별 재현율:', np.round(recalls[thr_index],3))"
      ],
      "metadata": {
        "id": "kjMxFL7cq7K8",
        "colab": {
          "base_uri": "https://localhost:8080/"
        },
        "outputId": "6327f5bd-0066-46d9-a438-3ab95e704758"
      },
      "execution_count": 17,
      "outputs": [
        {
          "output_type": "stream",
          "name": "stdout",
          "text": [
            "반환된 분류 결정 임곗값 배열의 Shape: (143,)\n",
            "샘플 추출을 위한 임계값 배열의 index 10개: [  0  15  30  45  60  75  90 105 120 135]\n",
            "샘플용 10개의 임곗값: [0.1  0.12 0.14 0.19 0.28 0.4  0.56 0.67 0.82 0.95]\n",
            "샘플 임계값별 정밀도: [0.389 0.44  0.466 0.539 0.647 0.729 0.836 0.949 0.958 1.   ]\n",
            "샘플 임계값별 재현율: [1.    0.967 0.902 0.902 0.902 0.836 0.754 0.607 0.377 0.148]\n"
          ]
        }
      ]
    },
    {
      "cell_type": "code",
      "source": [
        "import matplotlib.pyplot as plt\n",
        "import matplotlib.ticker as ticker\n",
        "%matplotlib inline"
      ],
      "metadata": {
        "id": "VddUyxM2w-zv"
      },
      "execution_count": 18,
      "outputs": []
    },
    {
      "cell_type": "code",
      "source": [
        "def precision_recall_curve_plot(y_test, pred_proba_c1):\n",
        "  precisions, recalls, thresholds = precision_recall_curve(y_test, pred_proba_c1)\n",
        "\n",
        "  plt.figure(figsize=(8,6))\n",
        "  threshold_boundary=thresholds.shape[0]\n",
        "  plt.plot(thresholds, precisions[0:threshold_boundary], linestyle='-', label='precsion')\n",
        "  plt.plot(thresholds, recalls[0:threshold_boundary], label='recall')\n",
        "\n",
        "  start, end=plt.xlim()\n",
        "  plt.xticks(np.round(np.arange(start, end, 0.1),2))\n",
        "\n",
        "  plt.xlabel('Threshold value'); plt.ylabel('Precision and Recall value')\n",
        "  plt.legend( ); plt.grid()\n",
        "  plt.show()\n",
        "\n",
        "precision_recall_curve_plot(y_test, lr_clf.predict_proba(X_test)[:,1])\n",
        "\n",
        "#임곗값이 낮을수록 재현율 값이 높아지고 정밀도 값이 낮아진다."
      ],
      "metadata": {
        "colab": {
          "base_uri": "https://localhost:8080/",
          "height": 388
        },
        "id": "b5GDEcrVxAwC",
        "outputId": "cbaecef4-c77c-444e-e0cf-26777b9c4b87"
      },
      "execution_count": 19,
      "outputs": [
        {
          "output_type": "display_data",
          "data": {
            "text/plain": [
              "<Figure size 576x432 with 1 Axes>"
            ],
            "image/png": "[encoded data removed]"
          },
          "metadata": {
            "needs_background": "light"
          }
        }
      ]
    },
    {
      "cell_type": "markdown",
      "source": [
        "### 정밀도와 재현율의 맹점\n",
        "-임곗값을 변경함에 따라 정밀도와 재현율의 수치가 변경\n",
        "\n",
        "<정밀도가 100%가 되는 방법>\n",
        "\n",
        "- 확실한 기준이 되는 경우만 positive로 예측하고 나머지는 모두 negative로 예측\n",
        "\n",
        "<재현율이 100%가 되는 방법>\n",
        "- 모든 환자를 positive로 예측\n",
        "\n",
        "이렇게 어느 한쪽만 참조하면 극단적인 수치 조작이 가능\n"
      ],
      "metadata": {
        "id": "juCAd-T3zfXN"
      }
    },
    {
      "cell_type": "markdown",
      "source": [
        "### F1 스코어\n",
        "\n",
        "-정밀도와 재현율을 결합한 지표\n",
        "\n",
        "![화면 캡처 2022-10-30 211636.png](data:image/png;base64,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)"
      ],
      "metadata": {
        "id": "g6pfLoGS0Qxl"
      }
    },
    {
      "cell_type": "code",
      "source": [
        "from sklearn.metrics import f1_score\n",
        "f1=f1_score(y_test, pred)\n",
        "print('F1 스코어: {0:.4f}'.format(f1))"
      ],
      "metadata": {
        "colab": {
          "base_uri": "https://localhost:8080/"
        },
        "id": "3n_LWaJdxE_5",
        "outputId": "ade5cd18-f975-433e-9864-76fbb8557cbd"
      },
      "execution_count": 20,
      "outputs": [
        {
          "output_type": "stream",
          "name": "stdout",
          "text": [
            "F1 스코어: 0.7805\n"
          ]
        }
      ]
    },
    {
      "cell_type": "code",
      "source": [
        "#get_clf_eval() 함수에 F1 스코어 추가\n",
        "\n",
        "def get_clf_eval(y_test, pred):\n",
        "  confusion=confusion_matrix(y_test, pred)\n",
        "  accuracy=accuracy_score(y_test, pred)\n",
        "  precision=precision_score(y_test, pred)\n",
        "  recall=recall_score(y_test, pred)\n",
        "\n",
        "  f1=f1_score(y_test, pred)\n",
        "  print('오차 행렬')\n",
        "  print(confusion)\n",
        "\n",
        "  print('정확도: {0:.4f}, 정밀도: {1:.4f}, 재현율: {2:.4f}, F1: {3:.4f}'.format(accuracy, precision, recall, f1))\n",
        "\n",
        "thresholds=[0.4, 0.45, 0.5, 0.55, 0.6]\n",
        "pred_proba=lr_clf.predict_proba(X_test)\n",
        "get_eval_by_threshold(y_test, pred_proba[:,1].reshape(-1,1), thresholds)"
      ],
      "metadata": {
        "colab": {
          "base_uri": "https://localhost:8080/"
        },
        "id": "tDdO44jNxHJL",
        "outputId": "82e78612-abb7-4b6d-fa6e-081bd9674f59"
      },
      "execution_count": 21,
      "outputs": [
        {
          "output_type": "stream",
          "name": "stdout",
          "text": [
            "임곗값: 0.4\n",
            "오차 행렬\n",
            "[[98 20]\n",
            " [10 51]]\n",
            "정확도: 0.8324, 정밀도: 0.7183, 재현율: 0.8361, F1: 0.7727\n",
            "임곗값: 0.45\n",
            "오차 행렬\n",
            "[[103  15]\n",
            " [ 12  49]]\n",
            "정확도: 0.8492, 정밀도: 0.7656, 재현율: 0.8033, F1: 0.7840\n",
            "임곗값: 0.5\n",
            "오차 행렬\n",
            "[[104  14]\n",
            " [ 13  48]]\n",
            "정확도: 0.8492, 정밀도: 0.7742, 재현율: 0.7869, F1: 0.7805\n",
            "임곗값: 0.55\n",
            "오차 행렬\n",
            "[[109   9]\n",
            " [ 15  46]]\n",
            "정확도: 0.8659, 정밀도: 0.8364, 재현율: 0.7541, F1: 0.7931\n",
            "임곗값: 0.6\n",
            "오차 행렬\n",
            "[[112   6]\n",
            " [ 16  45]]\n",
            "정확도: 0.8771, 정밀도: 0.8824, 재현율: 0.7377, F1: 0.8036\n"
          ]
        }
      ]
    },
    {
      "cell_type": "markdown",
      "source": [
        "### ROC 곡선과 AUC\n",
        "\n",
        "-False Positive Rate(X축) 가 변할 때 True Positive Rate(Y축)가 어떻게 변하는지를 나타내는 곡선\n",
        "\n",
        "TPR=TP/(FN+TP)\n",
        "\n",
        "TNR=TN/(FP+TN)\n",
        "\n",
        "FPR=FP/(FP+TN)=1-TNR(특이성)\n",
        "\n",
        "ROC곡선이 y=x 직선에 가까울수록 성능이 떨어짐, 멀어질수록 성능이 뛰어남"
      ],
      "metadata": {
        "id": "V6Q6w-Sp0_kI"
      }
    },
    {
      "cell_type": "code",
      "source": [
        "from sklearn.metrics import roc_curve\n",
        "pred_proba_class1=lr_clf.predict_proba(X_test)[:,1]\n",
        "\n",
        "fprs, tprs, thresholds=roc_curve(y_test, pred_proba_class1)\n",
        "\n",
        "thr_index=np.arange(0, thresholds.shape[0],5)\n",
        "\n",
        "print('샘플 추출을 위한 임곗값 배열의 index 10개:', thr_index)\n",
        "print('샘플용 10개의 임곗값: ',np.round(thresholds[thr_index],2))\n",
        "\n",
        "print('샘플 임곗값별 FPR: ', np.round(fprs[thr_index],3))\n",
        "print('샘플 임곗값별 TPR: ', np.round(tprs[thr_index],3))"
      ],
      "metadata": {
        "colab": {
          "base_uri": "https://localhost:8080/"
        },
        "id": "oAJxqL-3xIoD",
        "outputId": "130f4986-17de-4526-fb67-4790f5bee9c4"
      },
      "execution_count": 22,
      "outputs": [
        {
          "output_type": "stream",
          "name": "stdout",
          "text": [
            "샘플 추출을 위한 임곗값 배열의 index 10개: [ 0  5 10 15 20 25 30 35 40 45 50]\n",
            "샘플용 10개의 임곗값:  [1.97 0.75 0.63 0.59 0.49 0.4  0.35 0.23 0.13 0.12 0.11]\n",
            "샘플 임곗값별 FPR:  [0.    0.017 0.034 0.051 0.127 0.161 0.203 0.331 0.585 0.636 0.797]\n",
            "샘플 임곗값별 TPR:  [0.    0.475 0.689 0.754 0.787 0.836 0.869 0.902 0.918 0.967 0.967]\n"
          ]
        }
      ]
    },
    {
      "cell_type": "code",
      "source": [
        "def roc_curve_plot(y_test, pred_proba_c1):\n",
        "  # 임곘값에 따른 FPR, TPR 값을 반환받음\n",
        "  fprs, tprs, thresholds=roc_curve(y_test, pred_proba_c1)\n",
        "  # ROC 곡선을 그래프 곡선으로 그림\n",
        "  plt.plot(fprs, tprs, label='ROC')\n",
        "  # 가운데 대각선 직선을 그림\n",
        "  plt.plot([0,1],[0,1], 'k--', label='Random')\n",
        "\n",
        "  # FPR X 축의 Scale을 0.1 단위로 변경, X, Y축 명 설정 등\n",
        "  start, end = plt.xlim()\n",
        "  plt.xticks(np.round(np.arange(start, end, 0.1), 2))\n",
        "  plt.xlim(0,1); plt.ylim(0,1)\n",
        "  plt.xlabel('FPR( 1 - Sensitivity)'); plt.ylabel('TPR( Recall )')\n",
        "  plt.legend()\n",
        "\n",
        "roc_curve_plot(y_test, pred_proba[:,1])"
      ],
      "metadata": {
        "colab": {
          "base_uri": "https://localhost:8080/",
          "height": 283
        },
        "id": "0NJw8eXGxKUW",
        "outputId": "eeb405e5-8872-419b-f453-11fe0e3ee6ec"
      },
      "execution_count": 23,
      "outputs": [
        {
          "output_type": "display_data",
          "data": {
            "text/plain": [
              "<Figure size 432x288 with 1 Axes>"
            ],
            "image/png": "[encoded data removed]"
          },
          "metadata": {
            "needs_background": "light"
          }
        }
      ]
    },
    {
      "cell_type": "markdown",
      "source": [
        "AUC값은 ROC곡선 밑의 면적을 구한 것, 일반적으로 1에 가까울수록 좋은 수치"
      ],
      "metadata": {
        "id": "D5BYoUwE2Wcd"
      }
    },
    {
      "cell_type": "code",
      "source": [
        "from sklearn.metrics import accuracy_score, confusion_matrix, precision_score\n",
        "from sklearn.metrics import recall_score, f1_score, roc_auc_score\n",
        "import numpy as np\n",
        "\n",
        "print(confusion_matrix(y_test, pred))\n",
        "print('정확도: ', np.round(accuracy_score(y_test, pred), 4))\n",
        "print('정밀도: ', np.round(precision_score(y_test, pred), 4))\n",
        "print('재현율: ', np.round(recall_score(y_test, pred), 4))"
      ],
      "metadata": {
        "colab": {
          "base_uri": "https://localhost:8080/"
        },
        "id": "RIaLfQlnxL33",
        "outputId": "76c933af-67c8-406c-d1bf-0623585c4aaa"
      },
      "execution_count": 26,
      "outputs": [
        {
          "output_type": "stream",
          "name": "stdout",
          "text": [
            "[[104  14]\n",
            " [ 13  48]]\n",
            "정확도:  0.8492\n",
            "정밀도:  0.7742\n",
            "재현율:  0.7869\n"
          ]
        }
      ]
    },
    {
      "cell_type": "code",
      "source": [
        "#get_clf_eval에 ROC AUC 값추가\n",
        "\n",
        "def get_clf_eval(y_test, pred=None, pred_proba=None):\n",
        "  confusion=confusion_matrix(y_test, pred)\n",
        "  accuracy=accuracy_score(y_test, pred)\n",
        "  precision=precision_score(y_test, pred)\n",
        "  recall=recall_score(y_test, pred)\n",
        "  f1=f1_score(y_test, pred)\n",
        "\n",
        "\n",
        "  #ROC-AUC 추가 \n",
        "  roc_auc=roc_auc_score(y_test, pred_proba)\n",
        "  print('오차 행렬')\n",
        "  print(confusion)\n",
        "\n",
        "  #ROC-AUC print 추가\n",
        "  print('정확도: {0:.4f}, 정밀도: {1:.4f}, 재현율: {2:.4f}, F1: {3:.4f}'.format(accuracy, precision, recall, f1, roc_auc))"
      ],
      "metadata": {
        "id": "G32yFoTtxOiJ"
      },
      "execution_count": 27,
      "outputs": []
    }
  ]
}