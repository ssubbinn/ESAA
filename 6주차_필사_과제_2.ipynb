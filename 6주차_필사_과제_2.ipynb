{
  "nbformat": 4,
  "nbformat_minor": 0,
  "metadata": {
    "colab": {
      "provenance": [],
      "authorship_tag": "ABX9TyPgKSe0R2s6q2I50bZKO0pC",
      "include_colab_link": true
    },
    "kernelspec": {
      "name": "python3",
      "display_name": "Python 3"
    },
    "language_info": {
      "name": "python"
    }
  },
  "cells": [
    {
      "cell_type": "markdown",
      "metadata": {
        "id": "view-in-github",
        "colab_type": "text"
      },
      "source": [
        "<a href=\"https://colab.research.google.com/github/ssubbinn/ESAA/blob/main/6%EC%A3%BC%EC%B0%A8_%ED%95%84%EC%82%AC_%EA%B3%BC%EC%A0%9C_2.ipynb\" target=\"_parent\"><img src=\"https://colab.research.google.com/assets/colab-badge.svg\" alt=\"Open In Colab\"/></a>"
      ]
    },
    {
      "cell_type": "code",
      "source": [
        "from google.colab import drive\n",
        "drive.mount('/content/drive')"
      ],
      "metadata": {
        "colab": {
          "base_uri": "https://localhost:8080/"
        },
        "id": "4b18NDcwFgI3",
        "outputId": "da0d7432-50e0-4445-80d6-5a7799413f47"
      },
      "execution_count": 27,
      "outputs": [
        {
          "output_type": "stream",
          "name": "stdout",
          "text": [
            "Drive already mounted at /content/drive; to attempt to forcibly remount, call drive.mount(\"/content/drive\", force_remount=True).\n"
          ]
        }
      ]
    },
    {
      "cell_type": "markdown",
      "source": [
        "## datetime 오브젝트\n",
        "\n",
        "- 날짜와 시간을 처리하는 기능을 제공하는 라이브러리\n",
        "\n",
        "date: 날짜\n",
        "\n",
        "time: 시간\n",
        "\n",
        "datetime: 날짜, 시간"
      ],
      "metadata": {
        "id": "oFmcmLkW7AyK"
      }
    },
    {
      "cell_type": "code",
      "source": [
        "from datetime import datetime\n",
        "\n",
        "now1=datetime.now()\n",
        "print(now1)"
      ],
      "metadata": {
        "colab": {
          "base_uri": "https://localhost:8080/"
        },
        "id": "RhvIwI9j7V9k",
        "outputId": "822c92ac-b4d9-4f2c-8bb3-0f2051aa0705"
      },
      "execution_count": 8,
      "outputs": [
        {
          "output_type": "stream",
          "name": "stdout",
          "text": [
            "2022-10-09 08:48:10.997656\n"
          ]
        }
      ]
    },
    {
      "cell_type": "code",
      "source": [
        "now2=datetime.today()\n",
        "print(now2)"
      ],
      "metadata": {
        "colab": {
          "base_uri": "https://localhost:8080/"
        },
        "id": "mqReIgkm7i2n",
        "outputId": "c5f194fe-c39f-4cb3-de14-d0f8e59d6cac"
      },
      "execution_count": 9,
      "outputs": [
        {
          "output_type": "stream",
          "name": "stdout",
          "text": [
            "2022-10-09 08:48:36.184124\n"
          ]
        }
      ]
    },
    {
      "cell_type": "code",
      "source": [
        "#시간 직접 입력\n",
        "t1=datetime.now()\n",
        "t2=datetime(1970,1,1)\n",
        "t3=datetime(1970,12,12,13,24,34)\n",
        "\n",
        "print(t1)\n",
        "print(t2)\n",
        "print(t3)"
      ],
      "metadata": {
        "colab": {
          "base_uri": "https://localhost:8080/"
        },
        "id": "ykXhnNlF7sUB",
        "outputId": "4e07a9ce-9656-4c4e-a7ec-6393046a96e7"
      },
      "execution_count": 10,
      "outputs": [
        {
          "output_type": "stream",
          "name": "stdout",
          "text": [
            "2022-10-09 08:50:07.798542\n",
            "1970-01-01 00:00:00\n",
            "1970-12-12 13:24:34\n"
          ]
        }
      ]
    },
    {
      "cell_type": "code",
      "source": [
        "#시간 계산\n",
        "diff1 = t1-t2\n",
        "\n",
        "print(diff1)\n",
        "print(type(diff1))"
      ],
      "metadata": {
        "colab": {
          "base_uri": "https://localhost:8080/"
        },
        "id": "vqsC1xsl8CHo",
        "outputId": "e311a5e6-7d44-47d9-b618-a3466f21aade"
      },
      "execution_count": 11,
      "outputs": [
        {
          "output_type": "stream",
          "name": "stdout",
          "text": [
            "19274 days, 8:50:07.798542\n",
            "<class 'datetime.timedelta'>\n"
          ]
        }
      ]
    },
    {
      "cell_type": "code",
      "source": [
        "diff2 = t2-t1\n",
        "\n",
        "print(diff2)\n",
        "print(type(diff2))"
      ],
      "metadata": {
        "colab": {
          "base_uri": "https://localhost:8080/"
        },
        "id": "P0dkQKAB8KW4",
        "outputId": "2cb5e338-9147-4687-e9cf-a844372c1d1a"
      },
      "execution_count": 12,
      "outputs": [
        {
          "output_type": "stream",
          "name": "stdout",
          "text": [
            "-19275 days, 15:09:52.201458\n",
            "<class 'datetime.timedelta'>\n"
          ]
        }
      ]
    },
    {
      "cell_type": "markdown",
      "source": [
        "### 테슬라 주식 데이터로 시간 계산하기"
      ],
      "metadata": {
        "id": "F-VjadhC_0hk"
      }
    },
    {
      "cell_type": "code",
      "source": [
        "pip install pandas-datareader"
      ],
      "metadata": {
        "colab": {
          "base_uri": "https://localhost:8080/"
        },
        "id": "if5yuz_DAESV",
        "outputId": "c2f789e3-75ff-4c63-87ba-762a3a318aae"
      },
      "execution_count": 14,
      "outputs": [
        {
          "output_type": "stream",
          "name": "stdout",
          "text": [
            "Looking in indexes: https://pypi.org/simple, https://us-python.pkg.dev/colab-wheels/public/simple/\n",
            "Requirement already satisfied: pandas-datareader in /usr/local/lib/python3.7/dist-packages (0.9.0)\n",
            "Requirement already satisfied: requests>=2.19.0 in /usr/local/lib/python3.7/dist-packages (from pandas-datareader) (2.23.0)\n",
            "Requirement already satisfied: lxml in /usr/local/lib/python3.7/dist-packages (from pandas-datareader) (4.9.1)\n",
            "Requirement already satisfied: pandas>=0.23 in /usr/local/lib/python3.7/dist-packages (from pandas-datareader) (1.3.5)\n",
            "Requirement already satisfied: pytz>=2017.3 in /usr/local/lib/python3.7/dist-packages (from pandas>=0.23->pandas-datareader) (2022.4)\n",
            "Requirement already satisfied: numpy>=1.17.3 in /usr/local/lib/python3.7/dist-packages (from pandas>=0.23->pandas-datareader) (1.21.6)\n",
            "Requirement already satisfied: python-dateutil>=2.7.3 in /usr/local/lib/python3.7/dist-packages (from pandas>=0.23->pandas-datareader) (2.8.2)\n",
            "Requirement already satisfied: six>=1.5 in /usr/local/lib/python3.7/dist-packages (from python-dateutil>=2.7.3->pandas>=0.23->pandas-datareader) (1.15.0)\n",
            "Requirement already satisfied: idna<3,>=2.5 in /usr/local/lib/python3.7/dist-packages (from requests>=2.19.0->pandas-datareader) (2.10)\n",
            "Requirement already satisfied: urllib3!=1.25.0,!=1.25.1,<1.26,>=1.21.1 in /usr/local/lib/python3.7/dist-packages (from requests>=2.19.0->pandas-datareader) (1.24.3)\n",
            "Requirement already satisfied: certifi>=2017.4.17 in /usr/local/lib/python3.7/dist-packages (from requests>=2.19.0->pandas-datareader) (2022.9.24)\n",
            "Requirement already satisfied: chardet<4,>=3.0.2 in /usr/local/lib/python3.7/dist-packages (from requests>=2.19.0->pandas-datareader) (3.0.4)\n"
          ]
        }
      ]
    },
    {
      "cell_type": "code",
      "source": [
        "#데이터 불러오기\n",
        "pd.core.common.is_list_like = pd.api.types.is_list_like\n",
        "import pandas_datareader as pdr\n",
        "\n",
        "tesla=pdr.get_data_quandl('TSLA', api_key = 'X5aZJefmob3vp_xs1DsJ')\n",
        "\n",
        "tesla.to_csv('/content/drive/MyDrive/김수빈/esaa/data/tesla_stock_quandl.csv')"
      ],
      "metadata": {
        "id": "Dqr4H3g0AJ9K"
      },
      "execution_count": 29,
      "outputs": []
    },
    {
      "cell_type": "code",
      "source": [
        "#date 열이 문자열인것 확인\n",
        "print(tesla.head())"
      ],
      "metadata": {
        "colab": {
          "base_uri": "https://localhost:8080/"
        },
        "id": "9HXJHKIyD5sf",
        "outputId": "e23fe370-5435-484b-f25b-fa366b9e1b31"
      },
      "execution_count": 30,
      "outputs": [
        {
          "output_type": "stream",
          "name": "stdout",
          "text": [
            "              Open    High     Low   Close      Volume  ExDividend  \\\n",
            "Date                                                                 \n",
            "2018-03-27  304.00  304.27  277.18  279.18  13696168.0         0.0   \n",
            "2018-03-26  307.34  307.59  291.36  304.18   8324639.0         0.0   \n",
            "2018-03-23  311.25  311.61  300.45  301.54   6600538.0         0.0   \n",
            "2018-03-22  313.89  318.82  308.18  309.10   4914307.0         0.0   \n",
            "2018-03-21  310.25  322.44  310.19  316.53   5927881.0         0.0   \n",
            "\n",
            "            SplitRatio  AdjOpen  AdjHigh  AdjLow  AdjClose   AdjVolume  \n",
            "Date                                                                    \n",
            "2018-03-27         1.0   304.00   304.27  277.18    279.18  13696168.0  \n",
            "2018-03-26         1.0   307.34   307.59  291.36    304.18   8324639.0  \n",
            "2018-03-23         1.0   311.25   311.61  300.45    301.54   6600538.0  \n",
            "2018-03-22         1.0   313.89   318.82  308.18    309.10   4914307.0  \n",
            "2018-03-21         1.0   310.25   322.44  310.19    316.53   5927881.0  \n"
          ]
        }
      ]
    },
    {
      "cell_type": "code",
      "source": [
        "#Date 열을 Datetime 형으로 변환\n",
        "tesla=pd.read_csv('/content/drive/MyDrive/김수빈/esaa/data/tesla_stock_quandl.csv', parse_dates=[0]) # parse_dates 인자에 Date열 전달\n",
        "print(tesla.info())"
      ],
      "metadata": {
        "colab": {
          "base_uri": "https://localhost:8080/"
        },
        "id": "cbjZCo0REC8v",
        "outputId": "d9156eaf-aa1f-4238-97c1-4b63d8081f4a"
      },
      "execution_count": 33,
      "outputs": [
        {
          "output_type": "stream",
          "name": "stdout",
          "text": [
            "<class 'pandas.core.frame.DataFrame'>\n",
            "RangeIndex: 115 entries, 0 to 114\n",
            "Data columns (total 13 columns):\n",
            " #   Column      Non-Null Count  Dtype         \n",
            "---  ------      --------------  -----         \n",
            " 0   Date        115 non-null    datetime64[ns]\n",
            " 1   Open        115 non-null    float64       \n",
            " 2   High        115 non-null    float64       \n",
            " 3   Low         115 non-null    float64       \n",
            " 4   Close       115 non-null    float64       \n",
            " 5   Volume      115 non-null    float64       \n",
            " 6   ExDividend  115 non-null    float64       \n",
            " 7   SplitRatio  115 non-null    float64       \n",
            " 8   AdjOpen     115 non-null    float64       \n",
            " 9   AdjHigh     115 non-null    float64       \n",
            " 10  AdjLow      115 non-null    float64       \n",
            " 11  AdjClose    115 non-null    float64       \n",
            " 12  AdjVolume   115 non-null    float64       \n",
            "dtypes: datetime64[ns](1), float64(12)\n",
            "memory usage: 11.8 KB\n",
            "None\n"
          ]
        }
      ]
    },
    {
      "cell_type": "code",
      "source": [
        "#dt 접근자 사용하여 2010 6월 데이터 추출\n",
        "print(tesla.loc[(tesla.Date.dt.year == 2010)&(tesla.Date.dt.month == 6)])"
      ],
      "metadata": {
        "colab": {
          "base_uri": "https://localhost:8080/"
        },
        "id": "gINrw3MtGOJz",
        "outputId": "6dc566e2-3bca-4612-a940-163a182dd829"
      },
      "execution_count": 34,
      "outputs": [
        {
          "output_type": "stream",
          "name": "stdout",
          "text": [
            "Empty DataFrame\n",
            "Columns: [Date, Open, High, Low, Close, Volume, ExDividend, SplitRatio, AdjOpen, AdjHigh, AdjLow, AdjClose, AdjVolume]\n",
            "Index: []\n"
          ]
        }
      ]
    },
    {
      "cell_type": "markdown",
      "source": [
        "### datetime 오브젝트와 인덱스 - DatetimeIndex"
      ],
      "metadata": {
        "id": "c6RORskmGkqY"
      }
    },
    {
      "cell_type": "code",
      "source": [
        "#Date열을 tesla 데이터프레임의 인덱스로 지정\n",
        "tesla.index=tesla['Date']\n",
        "print(tesla.index)"
      ],
      "metadata": {
        "colab": {
          "base_uri": "https://localhost:8080/"
        },
        "id": "D3xJr7ViGrgE",
        "outputId": "b1c9bc17-8f88-456a-961a-3f1444d497e8"
      },
      "execution_count": 35,
      "outputs": [
        {
          "output_type": "stream",
          "name": "stdout",
          "text": [
            "DatetimeIndex(['2018-03-27', '2018-03-26', '2018-03-23', '2018-03-22',\n",
            "               '2018-03-21', '2018-03-20', '2018-03-19', '2018-03-16',\n",
            "               '2018-03-15', '2018-03-14',\n",
            "               ...\n",
            "               '2017-10-23', '2017-10-20', '2017-10-19', '2017-10-18',\n",
            "               '2017-10-17', '2017-10-16', '2017-10-13', '2017-10-12',\n",
            "               '2017-10-11', '2017-10-10'],\n",
            "              dtype='datetime64[ns]', name='Date', length=115, freq=None)\n"
          ]
        }
      ]
    },
    {
      "cell_type": "code",
      "source": [
        "#2015년 데이터 추출\n",
        "print(tesla['2015'].iloc[:5,:5])"
      ],
      "metadata": {
        "colab": {
          "base_uri": "https://localhost:8080/"
        },
        "id": "gCvHK-q6G1yE",
        "outputId": "1b6b90b0-9dc7-4035-98ac-32048e880624"
      },
      "execution_count": 37,
      "outputs": [
        {
          "output_type": "stream",
          "name": "stdout",
          "text": [
            "Empty DataFrame\n",
            "Columns: [Date, Open, High, Low, Close]\n",
            "Index: []\n"
          ]
        },
        {
          "output_type": "stream",
          "name": "stderr",
          "text": [
            "/usr/local/lib/python3.7/dist-packages/ipykernel_launcher.py:1: FutureWarning: Indexing a DataFrame with a datetimelike index using a single string to slice the rows, like `frame[string]`, is deprecated and will be removed in a future version. Use `frame.loc[string]` instead.\n",
            "  \"\"\"Entry point for launching an IPython kernel.\n"
          ]
        }
      ]
    },
    {
      "cell_type": "code",
      "source": [
        "#2010년 6월 데이터 추출\n",
        "print(tesla['2010-06'].iloc[:,:5])"
      ],
      "metadata": {
        "colab": {
          "base_uri": "https://localhost:8080/"
        },
        "id": "Hw8kf11ZG-4G",
        "outputId": "3f32f2e3-fcaa-41bf-d929-981a42b51616"
      },
      "execution_count": 38,
      "outputs": [
        {
          "output_type": "stream",
          "name": "stdout",
          "text": [
            "Empty DataFrame\n",
            "Columns: [Date, Open, High, Low, Close]\n",
            "Index: []\n"
          ]
        },
        {
          "output_type": "stream",
          "name": "stderr",
          "text": [
            "/usr/local/lib/python3.7/dist-packages/ipykernel_launcher.py:2: FutureWarning: Indexing a DataFrame with a datetimelike index using a single string to slice the rows, like `frame[string]`, is deprecated and will be removed in a future version. Use `frame.loc[string]` instead.\n",
            "  \n"
          ]
        }
      ]
    },
    {
      "cell_type": "markdown",
      "source": [
        "### 시간 간격과 인덱스 - TimedeltaIndex\n",
        "\n",
        "시간 간격을 인덱스로 지정하여 데이터 추출"
      ],
      "metadata": {
        "id": "9HvynMeYHML2"
      }
    },
    {
      "cell_type": "code",
      "source": [
        "#시간-시간의 최솟값=시간 간격\n",
        "tesla['ref_date']=tesla['Date']-tesla['Date'].min()\n",
        "print(tesla.head())"
      ],
      "metadata": {
        "colab": {
          "base_uri": "https://localhost:8080/"
        },
        "id": "XUM7xryWHTvD",
        "outputId": "6f0d5743-ed83-4403-915e-c34eb84cab58"
      },
      "execution_count": 39,
      "outputs": [
        {
          "output_type": "stream",
          "name": "stdout",
          "text": [
            "                 Date    Open    High     Low   Close      Volume  ExDividend  \\\n",
            "Date                                                                            \n",
            "2018-03-27 2018-03-27  304.00  304.27  277.18  279.18  13696168.0         0.0   \n",
            "2018-03-26 2018-03-26  307.34  307.59  291.36  304.18   8324639.0         0.0   \n",
            "2018-03-23 2018-03-23  311.25  311.61  300.45  301.54   6600538.0         0.0   \n",
            "2018-03-22 2018-03-22  313.89  318.82  308.18  309.10   4914307.0         0.0   \n",
            "2018-03-21 2018-03-21  310.25  322.44  310.19  316.53   5927881.0         0.0   \n",
            "\n",
            "            SplitRatio  AdjOpen  AdjHigh  AdjLow  AdjClose   AdjVolume  \\\n",
            "Date                                                                     \n",
            "2018-03-27         1.0   304.00   304.27  277.18    279.18  13696168.0   \n",
            "2018-03-26         1.0   307.34   307.59  291.36    304.18   8324639.0   \n",
            "2018-03-23         1.0   311.25   311.61  300.45    301.54   6600538.0   \n",
            "2018-03-22         1.0   313.89   318.82  308.18    309.10   4914307.0   \n",
            "2018-03-21         1.0   310.25   322.44  310.19    316.53   5927881.0   \n",
            "\n",
            "           ref_date  \n",
            "Date                 \n",
            "2018-03-27 168 days  \n",
            "2018-03-26 167 days  \n",
            "2018-03-23 164 days  \n",
            "2018-03-22 163 days  \n",
            "2018-03-21 162 days  \n"
          ]
        }
      ]
    },
    {
      "cell_type": "code",
      "source": [
        "#ref_date로 인덱스 설정\n",
        "tesla.index=tesla['ref_date']\n",
        "print(tesla.iloc[:5,:5])"
      ],
      "metadata": {
        "colab": {
          "base_uri": "https://localhost:8080/"
        },
        "id": "GEs0EsjUHpfY",
        "outputId": "89bffae5-4e15-4c1e-f4f2-f3757975e83f"
      },
      "execution_count": 40,
      "outputs": [
        {
          "output_type": "stream",
          "name": "stdout",
          "text": [
            "               Date    Open    High     Low   Close\n",
            "ref_date                                           \n",
            "168 days 2018-03-27  304.00  304.27  277.18  279.18\n",
            "167 days 2018-03-26  307.34  307.59  291.36  304.18\n",
            "164 days 2018-03-23  311.25  311.61  300.45  301.54\n",
            "163 days 2018-03-22  313.89  318.82  308.18  309.10\n",
            "162 days 2018-03-21  310.25  322.44  310.19  316.53\n"
          ]
        }
      ]
    },
    {
      "cell_type": "code",
      "source": [
        "print(tesla['5 days':].iloc[:5,:5])"
      ],
      "metadata": {
        "colab": {
          "base_uri": "https://localhost:8080/"
        },
        "id": "M8dajZv9H0FU",
        "outputId": "20bf50f8-a402-4926-d877-b54b1b1ceaa0"
      },
      "execution_count": 41,
      "outputs": [
        {
          "output_type": "stream",
          "name": "stdout",
          "text": [
            "               Date    Open    High       Low   Close\n",
            "ref_date                                             \n",
            "3 days   2017-10-13  356.98  358.49  353.6800  355.57\n",
            "2 days   2017-10-12  352.95  359.78  352.6400  355.68\n",
            "1 days   2017-10-11  353.89  357.60  351.1500  354.60\n",
            "0 days   2017-10-10  346.80  355.63  345.5305  355.59\n"
          ]
        }
      ]
    },
    {
      "cell_type": "markdown",
      "source": [
        "### 시간 범위와 인덱스\n",
        "\n",
        "- 특정일에 데이터가 누락되어 있을때"
      ],
      "metadata": {
        "id": "5PUg2En4I_4H"
      }
    },
    {
      "cell_type": "code",
      "source": [
        "ebola=pd.read_csv('/content/drive/MyDrive/김수빈/esaa/data/country_timeseries.csv',parse_dates=[0])\n",
        "print(ebola.iloc[:5,:5])"
      ],
      "metadata": {
        "colab": {
          "base_uri": "https://localhost:8080/"
        },
        "id": "chB-sGhIH5xW",
        "outputId": "145c8461-1e95-486c-c6c1-d7691c0a4d13"
      },
      "execution_count": 44,
      "outputs": [
        {
          "output_type": "stream",
          "name": "stdout",
          "text": [
            "        Date  Day  Cases_Guinea  Cases_Liberia  Cases_SierraLeone\n",
            "0 2015-01-05  289        2776.0            NaN            10030.0\n",
            "1 2015-01-04  288        2775.0            NaN             9780.0\n",
            "2 2015-01-03  287        2769.0         8166.0             9722.0\n",
            "3 2015-01-02  286           NaN         8157.0                NaN\n",
            "4 2014-12-31  284        2730.0         8115.0             9633.0\n"
          ]
        }
      ]
    },
    {
      "cell_type": "code",
      "source": [
        "print(ebola.iloc[:-5,:5]) #누락 확인 가능"
      ],
      "metadata": {
        "colab": {
          "base_uri": "https://localhost:8080/"
        },
        "id": "d4zY4H2sM97y",
        "outputId": "6e0d58e1-66a2-407e-c15f-2fb608f3ee69"
      },
      "execution_count": 45,
      "outputs": [
        {
          "output_type": "stream",
          "name": "stdout",
          "text": [
            "          Date  Day  Cases_Guinea  Cases_Liberia  Cases_SierraLeone\n",
            "0   2015-01-05  289        2776.0            NaN            10030.0\n",
            "1   2015-01-04  288        2775.0            NaN             9780.0\n",
            "2   2015-01-03  287        2769.0         8166.0             9722.0\n",
            "3   2015-01-02  286           NaN         8157.0                NaN\n",
            "4   2014-12-31  284        2730.0         8115.0             9633.0\n",
            "..         ...  ...           ...            ...                ...\n",
            "112 2014-04-04   13         143.0           18.0                2.0\n",
            "113 2014-04-01   10         127.0            8.0                2.0\n",
            "114 2014-03-31    9         122.0            8.0                2.0\n",
            "115 2014-03-29    7         112.0            7.0                NaN\n",
            "116 2014-03-28    6         112.0            3.0                2.0\n",
            "\n",
            "[117 rows x 5 columns]\n"
          ]
        }
      ]
    },
    {
      "cell_type": "code",
      "source": [
        "# 2014 12-31 부터 2015 1-5사이의 시간 인덱스 생성\n",
        "head_range=pd.date_range(start='2014-12-31',end='2015-01-05')\n",
        "print(head_range)"
      ],
      "metadata": {
        "colab": {
          "base_uri": "https://localhost:8080/"
        },
        "id": "YmZ6R3L8NEfO",
        "outputId": "a217c51d-b0df-4195-e8b7-3d772d8ef026"
      },
      "execution_count": 47,
      "outputs": [
        {
          "output_type": "stream",
          "name": "stdout",
          "text": [
            "DatetimeIndex(['2014-12-31', '2015-01-01', '2015-01-02', '2015-01-03',\n",
            "               '2015-01-04', '2015-01-05'],\n",
            "              dtype='datetime64[ns]', freq='D')\n"
          ]
        }
      ]
    },
    {
      "cell_type": "code",
      "source": [
        "ebola_5=ebola.head()\n",
        "ebola_5.index=ebola_5['Date']\n",
        "ebola_5.reindex(head_range)\n",
        "print(ebola_5.iloc[:5,:5])"
      ],
      "metadata": {
        "colab": {
          "base_uri": "https://localhost:8080/"
        },
        "id": "ZctZWHsjNaLE",
        "outputId": "ecbd370f-fc5a-412b-c5e0-93ea376d5d46"
      },
      "execution_count": 48,
      "outputs": [
        {
          "output_type": "stream",
          "name": "stdout",
          "text": [
            "                 Date  Day  Cases_Guinea  Cases_Liberia  Cases_SierraLeone\n",
            "Date                                                                      \n",
            "2015-01-05 2015-01-05  289        2776.0            NaN            10030.0\n",
            "2015-01-04 2015-01-04  288        2775.0            NaN             9780.0\n",
            "2015-01-03 2015-01-03  287        2769.0         8166.0             9722.0\n",
            "2015-01-02 2015-01-02  286           NaN         8157.0                NaN\n",
            "2014-12-31 2014-12-31  284        2730.0         8115.0             9633.0\n"
          ]
        }
      ]
    },
    {
      "cell_type": "markdown",
      "source": [
        "### 시간 범위의 주기 설정하기\n",
        "\n",
        "시간 범위를 인덱스로 지정하면 DatetimeIndex 자료형이 만들어진다. Datetimeiindex에는 freq 속성이 포함되어 있다. freq속성값 지정 시 시간간격을 조절하여 DatetimeIndex를 만들 수 있다.\n",
        "\n",
        "\n",
        "freq속성 값으로 사용할 수 있는 시간 주기\n",
        "\n",
        "- B: 평일만 포함\n",
        "- C: 사용자가 정의한 평일만 포함\n",
        "- D: 달력 일자 단위\n",
        "- W: 주간 단위\n",
        "- M: 월 마지막 날만 포함\n",
        "- SM: 15일과 월 마지막 날만 포함\n",
        "- BM: M 주기의 값이 휴일이면 제외하고 평일만 포함\n",
        "- CBM: BM에 사용자 정의 평일을 적용\n",
        "- MS: 월 시작일만 포함\n",
        "- SMS: 월 시작일과 15일만 포함\n",
        "- BMS: MS 주기의 값이 휴일이면 제외하고 평일만 포함\n",
        "- CBMS: BMS에 사용자 정의 평일을 적용\n",
        "- Q: 3,6,9,12월 분기 마지막 날만 포함\n",
        "- BQ: 3,6,9,12월 분기 마지막 날이 휴일이면 제외하고 평일만 포함\n",
        "- QS: 3,6,9,12월 분기 시작일만 포함\n",
        "- BQS: 3,6,9,12월 분기 시작일이 휴일이면 제외하고 평일만 포함\n",
        "- A: 년의 마지막 날만 포함\n",
        "- BA: 년의 마지막 날이 휴일이면 제외하고 평일만 포함\n",
        "- AS:년의 시작일만 포함\n",
        "- BAS: 년의 시작일이 휴일이면 제외하고 평일만 포함\n",
        "- BH: 평일을 시간 단위로 포함(09:00~16:00)\n",
        "- H: 시간 단위로 포함(00:00~00:00)\n",
        "- T: 분 단위 포함\n",
        "- S: 초 단위 포함\n",
        "- L: 밀리초 단위 포함\n",
        "- U: 마이크로초 단위포함\n",
        "- N: 나노초 단위 포함"
      ],
      "metadata": {
        "id": "V2lO_kIvQJqA"
      }
    }
  ]
}