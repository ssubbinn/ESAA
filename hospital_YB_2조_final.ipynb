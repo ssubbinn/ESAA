{
  "nbformat": 4,
  "nbformat_minor": 0,
  "metadata": {
    "colab": {
      "provenance": [],
      "include_colab_link": true
    },
    "kernelspec": {
      "name": "python3",
      "display_name": "Python 3"
    },
    "language_info": {
      "name": "python"
    }
  },
  "cells": [
    {
      "cell_type": "markdown",
      "metadata": {
        "id": "view-in-github",
        "colab_type": "text"
      },
      "source": [
        "<a href=\"https://colab.research.google.com/github/ssubbinn/ESAA/blob/main/hospital_YB_2%EC%A1%B0_final.ipynb\" target=\"_parent\"><img src=\"https://colab.research.google.com/assets/colab-badge.svg\" alt=\"Open In Colab\"/></a>"
      ]
    },
    {
      "cell_type": "markdown",
      "source": [
        "## **병원 개/폐업 분류 예측 경진대회**\n",
        "​\n",
        "https://dacon.io/competitions/official/9565/data  \n",
        "- 과제 : 데이콘의 '병원 개/폐업 분류 예측 경진대회' 데이터셋을 전처리 및 시각화하고, 분류 알고리즘을 적용한다.\n",
        "- 조건 : 분류 모델 3가지 이상 적용"
      ],
      "metadata": {
        "id": "K7GPWpXF9rB0"
      }
    },
    {
      "cell_type": "markdown",
      "source": [
        "## **데이터 불러오기, library import**"
      ],
      "metadata": {
        "id": "1qDo0h-tpK3D"
      }
    },
    {
      "cell_type": "code",
      "execution_count": null,
      "metadata": {
        "id": "__lJKQLdmeiu"
      },
      "outputs": [],
      "source": [
        "import numpy as np\n",
        "import pandas as pd\n",
        "import matplotlib.pyplot as plt\n",
        "import seaborn as sns\n",
        "import warnings\n",
        "warnings.filterwarnings('ignore')\n",
        "\n",
        "from sklearn.model_selection import train_test_split\n",
        "from sklearn.metrics import accuracy_score, precision_score, recall_score, roc_auc_score\n",
        "from sklearn.metrics import f1_score, confusion_matrix, precision_recall_curve, roc_curve\n",
        "from sklearn.preprocessing import StandardScaler\n",
        "from sklearn.linear_model import LogisticRegression\n",
        "\n",
        "from imblearn.over_sampling import SMOTE\n",
        "from sklearn.preprocessing import LabelEncoder\n",
        "\n",
        "from sklearn.model_selection import GridSearchCV\n",
        "from xgboost.sklearn import XGBClassifierBase\n",
        "from xgboost import XGBClassifier\n",
        "\n",
        "from sklearn.ensemble import RandomForestClassifier\n",
        "from sklearn.metrics import accuracy_score\n",
        "\n",
        "from sklearn.ensemble import GradientBoostingClassifier\n",
        "import time"
      ]
    },
    {
      "cell_type": "code",
      "source": [
        "from google.colab import drive\n",
        "drive.mount('/content/drive')"
      ],
      "metadata": {
        "colab": {
          "base_uri": "https://localhost:8080/"
        },
        "id": "o97IUeCasNI_",
        "outputId": "83eb81bd-24bb-4d21-b543-c801e354da13"
      },
      "execution_count": null,
      "outputs": [
        {
          "output_type": "stream",
          "name": "stdout",
          "text": [
            "Mounted at /content/drive\n"
          ]
        }
      ]
    },
    {
      "cell_type": "code",
      "source": [
        "train = pd.read_csv('/content/drive/MyDrive/YB_2조/미니프로젝트/2. hospital/train.csv')\n",
        "test = pd.read_csv('/content/drive/MyDrive/YB_2조/미니프로젝트/2. hospital/test.csv')"
      ],
      "metadata": {
        "id": "m4BsB4zbmkbj"
      },
      "execution_count": null,
      "outputs": []
    },
    {
      "cell_type": "markdown",
      "source": [
        "## **Research**"
      ],
      "metadata": {
        "id": "CxZXRfrL90Is"
      }
    },
    {
      "cell_type": "markdown",
      "source": [
        "### **1. 기존 변수**\n",
        "\n",
        "**1) bedCount (병상 수)**\n",
        "- 병상 수가 늘어날수록 병원 생존 가능성 감소\n",
        "- 병상 수에 따라 의원, 병원, 종합병원, 상급종합병원으로 분류\n",
        "\n",
        "**2) sido (병원 지역)**\n",
        "- 전남 지역의 인구감소 현상이 뚜렷하고 지역 환자들의 수도권 대형병원 쏠림 현상 등이 갈수록 심화\n",
        "- 전라권의 병원 폐업률이 다른 권역에 비해 높음 (평균: 5.8%, 전라권: 8.8%)\n",
        "\n",
        "**3) revenue (매출액)**\n",
        "- 일정 기간 기업 규모 혹은 영업 성과가 얼마나 증가했는지, 병원의 **성장성**에 대한 지표\n",
        "\n",
        "**4) profit (당기순이익)**\n",
        "- 매출에서 비용을 모두 제거했을 때 이익이 얼마나 남는지, 병원의 **수익성**에 대한 지표"
      ],
      "metadata": {
        "id": "wMjW6Tru-HT8"
      }
    },
    {
      "cell_type": "markdown",
      "source": [
        "### **2. 새로운 변수**\n",
        "\n",
        "**1) business_year (개업 시기)**\n",
        "- 개업 후 1~31개월 간 병원 생존률은 크게 감소\n",
        "\n",
        "**2) employee_diff (직원 수 차이)**\n",
        "- 의료인이 1명 늘면 병원이 폐업할 확률 7.34%씩 감소\n",
        "\n",
        "**3) op_profit (영업이익)**\n",
        "- 일정 기간 기업 규모 혹은 영업 성과가 얼마나 증가했는지, 병원의 **성장성**에 대한 지표\n",
        "\n",
        "**4) liquidRatio (유동비율)**\n",
        "- 부채를 상환할 수 있는 능력이 얼마나 되는지, 병원의 **안정성**에 대한 지표 \n",
        "- 유동비율이 낮으면 **안정성**이 떨어짐\n",
        "\n",
        "**5) inventory_turnover (재고자산회전율)**\n",
        "- 동일한 자원으로 더 높은 수익을 낼 수 있는지, 병원의 **효율성(활동성)**에 대한 지표\n"
      ],
      "metadata": {
        "id": "PxhnqlMr-hby"
      }
    },
    {
      "cell_type": "markdown",
      "source": [
        "## **EDA**"
      ],
      "metadata": {
        "id": "2lZY-WHH_Eu3"
      }
    },
    {
      "cell_type": "markdown",
      "source": [
        "### **1. 불필요한 칼럼 제거**\n",
        "병원 고유 번호(inst_id)와 병원 시군구 자료 (sgg) 변수 제거"
      ],
      "metadata": {
        "id": "IKICgxQXaEUN"
      }
    },
    {
      "cell_type": "code",
      "source": [
        "train.drop(['inst_id','sgg'], axis = 1, inplace = True)\n",
        "test.drop(['inst_id','sgg'], axis = 1, inplace = True)"
      ],
      "metadata": {
        "id": "-2vOZuDraJth"
      },
      "execution_count": null,
      "outputs": []
    },
    {
      "cell_type": "markdown",
      "source": [
        "### **2. 결측치 대체**"
      ],
      "metadata": {
        "id": "tYv1U5VoYyDP"
      }
    },
    {
      "cell_type": "markdown",
      "source": [
        "**1) 부채총액 (debt)** <br/>\n",
        "부채총계 (debt) = 유동부채 (liquidLiabilites) + 비유동부채 (NCLiabilities)"
      ],
      "metadata": {
        "id": "qfvmVd9gBU_2"
      }
    },
    {
      "cell_type": "code",
      "source": [
        "train.debt1.value_counts()\n",
        "#0값이 너무 많음->부정확한 데이터일 가능성이 매우 높음"
      ],
      "metadata": {
        "colab": {
          "base_uri": "https://localhost:8080/"
        },
        "id": "AvChJ8eNl263",
        "outputId": "b3f46575-a2a2-4d7a-b72d-a054bf95d78f"
      },
      "execution_count": null,
      "outputs": [
        {
          "output_type": "execute_result",
          "data": {
            "text/plain": [
              "0.000000e+00    31\n",
              "1.006269e+09     2\n",
              "2.803885e+09     2\n",
              "9.528087e+07     2\n",
              "4.307441e+10     2\n",
              "                ..\n",
              "8.677467e+09     1\n",
              "3.811639e+09     1\n",
              "1.623970e+10     1\n",
              "2.670679e+09     1\n",
              "5.418547e+09     1\n",
              "Name: debt1, Length: 257, dtype: int64"
            ]
          },
          "metadata": {},
          "execution_count": 5
        }
      ]
    },
    {
      "cell_type": "code",
      "source": [
        "# debt1 결측치(0인값) 대체\n",
        "train['debt1'] = train['liquidLiabilities1'] + train['NCLiabilities1']\n",
        "train['debt2'] = train['liquidLiabilities2'] + train['NCLiabilities2']\n",
        "\n",
        "test['debt1'] = test['liquidLiabilities1'] + test['NCLiabilities1']\n",
        "test['debt2'] = test['liquidLiabilities2'] + test['NCLiabilities2']"
      ],
      "metadata": {
        "id": "N0UvrDevYvGs"
      },
      "execution_count": null,
      "outputs": []
    },
    {
      "cell_type": "markdown",
      "source": [
        "**2) 순자산 (netAsset)** <br/>\n",
        "순자산 (netAsset) = 유동자산 (liquidAsset) + 비유동자산 (nonCAsset) - 부채총액 (debt)"
      ],
      "metadata": {
        "id": "SnW_qqPyBgyN"
      }
    },
    {
      "cell_type": "code",
      "source": [
        "train.netAsset1.value_counts()\n",
        "# netAsset 역시 0값이 너무 많음->부정확한 데이터일 가능성이 매우 높음"
      ],
      "metadata": {
        "colab": {
          "base_uri": "https://localhost:8080/"
        },
        "id": "chWHE7Vxme9U",
        "outputId": "977468cb-16bf-4372-f746-31e416cb6407"
      },
      "execution_count": null,
      "outputs": [
        {
          "output_type": "execute_result",
          "data": {
            "text/plain": [
              " 0.000000e+00    31\n",
              " 2.267631e+10     2\n",
              " 1.499370e+09     2\n",
              " 2.009490e+09     2\n",
              " 8.366773e+08     2\n",
              "                 ..\n",
              "-1.235651e+08     1\n",
              " 1.805357e+09     1\n",
              " 9.517877e+09     1\n",
              " 1.186884e+09     1\n",
              " 5.490668e+09     1\n",
              "Name: netAsset1, Length: 257, dtype: int64"
            ]
          },
          "metadata": {},
          "execution_count": 7
        }
      ]
    },
    {
      "cell_type": "code",
      "source": [
        "# netAsset 결측치(0인값) 대체\n",
        "train['netAsset1'] = train['liquidAsset1'] + train['nonCAsset1'] - train['debt1']\n",
        "train['netAsset2'] = train['liquidAsset2'] + train['nonCAsset2'] - train['debt2']\n",
        "\n",
        "test['netAsset1'] = test['liquidAsset1'] + test['nonCAsset1'] - test['debt1']\n",
        "test['netAsset2'] = test['liquidAsset2'] + test['nonCAsset2'] - test['debt2']"
      ],
      "metadata": {
        "id": "m37-J_iAY3Qq"
      },
      "execution_count": null,
      "outputs": []
    },
    {
      "cell_type": "markdown",
      "source": [
        "**3) 고용한 총 직원의 수 (employee)** <br/>\n",
        "쉼표 제거 및 float 형 변환"
      ],
      "metadata": {
        "id": "_mB67ACNCNrE"
      }
    },
    {
      "cell_type": "code",
      "source": [
        "test[\"employee1\"] = test[\"employee1\"].str.replace(\",\",\"\").astype(\"float\")\n",
        "test[\"employee2\"] = test[\"employee2\"].str.replace(\",\",\"\").astype(\"float\")"
      ],
      "metadata": {
        "id": "bcC3aXVwZ1Y7"
      },
      "execution_count": null,
      "outputs": []
    },
    {
      "cell_type": "markdown",
      "source": [
        "**4) 범주형 변수 nan** <br/>\n",
        "범주형인 instkind, ownerChange의 nan은 **최빈값**으로 대체"
      ],
      "metadata": {
        "id": "HMGEt15CCFvt"
      }
    },
    {
      "cell_type": "code",
      "source": [
        "values = {'instkind':\"nursing_hospital\", 'ownerChange':\"same\"}\n",
        "train.fillna(value = values, inplace = True)\n",
        "test.fillna(value = values, inplace = True)"
      ],
      "metadata": {
        "id": "BSmQpnDJZrkP"
      },
      "execution_count": null,
      "outputs": []
    },
    {
      "cell_type": "markdown",
      "source": [
        "**5) 수치형 변수 na**\n",
        "수치형의 na는 **중간값**으로 대체\n",
        "- 평균값으로 대체했을 때, 극단값에 영향 받는 상황을 방지하고자 함"
      ],
      "metadata": {
        "id": "M3T_7sF7Cd2d"
      }
    },
    {
      "cell_type": "code",
      "source": [
        "train = train.fillna(train.median())\n",
        "test = test.fillna(test.median())"
      ],
      "metadata": {
        "id": "1YY0vPyqjWeu"
      },
      "execution_count": null,
      "outputs": []
    },
    {
      "cell_type": "markdown",
      "source": [
        "## **New variables**"
      ],
      "metadata": {
        "id": "Lrn-OiV_dlWA"
      }
    },
    {
      "cell_type": "markdown",
      "source": [
        "**op_profit (영업이익)** <br/>\n",
        "영업이익 = 매출액 - 매출원가 - 영업비용 (판매비와 관리비)\n",
        "- op_profit1 = revenue1 - salescost1 - sga1\n",
        "- op_profit2 = revenue2 - salescost2 - sga2\n"
      ],
      "metadata": {
        "id": "4WjKfIYjwalv"
      }
    },
    {
      "cell_type": "code",
      "source": [
        "# train에 변수 추가\n",
        "train['op_profit1'] = train.revenue1 - train.salescost1 - train.sga1\n",
        "train['op_profit2'] = train.revenue2 - train.salescost2 - train.sga2\n",
        "\n",
        "# test에 변수 추가\n",
        "test['op_profit1'] = test.revenue1 - test.salescost1 - test.sga1\n",
        "test['op_profit2'] = test.revenue2 - test.salescost2 - test.sga2"
      ],
      "metadata": {
        "id": "vCAuFI_TwdRT"
      },
      "execution_count": null,
      "outputs": []
    },
    {
      "cell_type": "markdown",
      "source": [
        "**business_year(개업 시기))**\n",
        "- business_year = 2017 - open_year\n",
        "- open_year: openDate에서 'year' 추출"
      ],
      "metadata": {
        "id": "1Co-GhbSQRE_"
      }
    },
    {
      "cell_type": "code",
      "source": [
        "# 데이터 타입을 datetime으로 변환하고 년/월만 남김\n",
        "train[\"openDate\"].isnull().sum(),test[\"openDate\"].isnull().sum()\n",
        "test[\"openDate\"] = test[\"openDate\"].fillna(0)\n",
        "\n",
        "train[\"openDate\"] = pd.to_datetime(train[\"openDate\"].astype(\"str\"), format = \"%Y/%m/%d\")\n",
        "test[\"openDate\"] = pd.to_datetime(test[\"openDate\"].astype(\"int\").astype(\"str\"), format = \"%Y/%m/%d\", errors = \"coerce\")"
      ],
      "metadata": {
        "id": "utKAYHikwdfn"
      },
      "execution_count": null,
      "outputs": []
    },
    {
      "cell_type": "code",
      "source": [
        "train[\"open_year\"] = train[\"openDate\"].dt.year\n",
        "test[\"open_year\"] = test[\"openDate\"].dt.year\n",
        "\n",
        "train.drop(columns = \"openDate\", axis = 1, inplace = True)\n",
        "test.drop(columns = \"openDate\", axis = 1, inplace = True)"
      ],
      "metadata": {
        "id": "aPSfjydnwdZm"
      },
      "execution_count": null,
      "outputs": []
    },
    {
      "cell_type": "code",
      "source": [
        "train[\"business_year\"] = 2017 - train[\"open_year\"]\n",
        "test[\"business_year\"] = 2017 - test[\"open_year\"]"
      ],
      "metadata": {
        "id": "xrcfNfXWQmTw"
      },
      "execution_count": null,
      "outputs": []
    },
    {
      "cell_type": "markdown",
      "source": [
        "**employee_diff (직원 수 차이)** <br/>\n",
        "2017년과 2016년의 직원 수 비교\n",
        "- employee_diff = employee1 - employee2"
      ],
      "metadata": {
        "id": "af64EIIaQwHS"
      }
    },
    {
      "cell_type": "code",
      "source": [
        "train[\"employee_diff\"] = train[\"employee1\"] - train[\"employee2\"]\n",
        "test[\"employee_diff\"] = test[\"employee1\"] - test[\"employee2\"]"
      ],
      "metadata": {
        "id": "Irc9wpozQ0V1"
      },
      "execution_count": null,
      "outputs": []
    },
    {
      "cell_type": "markdown",
      "source": [
        "**sido(병원의 광역 지역 정보)**"
      ],
      "metadata": {
        "id": "NqfjGQFykNMi"
      }
    },
    {
      "cell_type": "code",
      "source": [
        "# ~남 ~북을 제거, ex. 충남 -> 충 / 충북 -> 충\n",
        "train[\"sido\"] = train[\"sido\"].str.replace(\"nam|buk\", \"\")\n",
        "test[\"sido\"] = test[\"sido\"].str.replace(\"nam|buk\", \"\")\n",
        "\n",
        "# 인천과 경기를 묶어줌\n",
        "train[\"sido\"] = train[\"sido\"].str.replace(\"gyeonggi|incheon\", \"gyeon-in\")\n",
        "test[\"sido\"] = test[\"sido\"].str.replace(\"gyeonggi|incheon\", \"gyeon-in\")"
      ],
      "metadata": {
        "id": "pjZA1AogkPJO"
      },
      "execution_count": null,
      "outputs": []
    },
    {
      "cell_type": "code",
      "source": [
        "# 한글명으로 변환\n",
        "train[\"sido\"] = train[\"sido\"].replace({\"busan\": \"부산\",\n",
        "                                        \"choong\": \"충청도\",\n",
        "                                        \"daegu\": \"대구\",\n",
        "                                        \"daejeon\": \"대전\",\n",
        "                                        \"gangwon\": \"강원도\",\n",
        "                                        \"gwangju\": \"광주\",\n",
        "                                        \"gyeon-in\": \"경인\",\n",
        "                                        \"gyeong\": \"경상도\",\n",
        "                                        \"jeju\": \"제주도\",\n",
        "                                        \"jeon\": \"전라도\",\n",
        "                                        \"sejong\": \"세종\",\n",
        "                                        \"seoul\": \"서울\",\n",
        "                                        \"ulsan\": \"울산\"})\n",
        "test[\"sido\"] = test[\"sido\"].replace({\"busan\": \"부산\",\n",
        "                                        \"choong\": \"충청도\",\n",
        "                                        \"daegu\": \"대구\",\n",
        "                                        \"daejeon\": \"대전\",\n",
        "                                        \"gangwon\": \"강원도\",\n",
        "                                        \"gwangju\": \"광주\",\n",
        "                                        \"gyeon-in\": \"경인\",\n",
        "                                        \"gyeong\": \"경상도\",\n",
        "                                        \"jeju\": \"제주도\",\n",
        "                                        \"jeon\": \"전라도\",\n",
        "                                        \"sejong\": \"세종\",\n",
        "                                        \"seoul\": \"서울\",\n",
        "                                        \"ulsan\": \"울산\"})"
      ],
      "metadata": {
        "id": "3xvng-hokSp7"
      },
      "execution_count": null,
      "outputs": []
    },
    {
      "cell_type": "markdown",
      "source": [
        "**bedCount (병상의 수)** <br/>\n",
        "병상의 수에 따라 의원, 병원, 종합병원, 상급종합병원으로 분류\n",
        "- 상급종합병원 : 입원환자 500명 이상 수용 가능\n",
        "- 종합병원 : 입원환자 100명 이상 500명 미만 수용 가능\n",
        "- 병원 : 입원 환자 30명 이상 100명 미만 수용 가능\n",
        "- 의원 : 입원 환자 30명 이하 수용 가능"
      ],
      "metadata": {
        "id": "zs8shgiNlMWb"
      }
    },
    {
      "cell_type": "code",
      "source": [
        "def bedCount2band(num):\n",
        "    if num < 30: return \"의원\"\n",
        "    elif 30 <= num < 100: return \"병원\"\n",
        "    elif 100 <= num < 500: return \"종합병원\"\n",
        "    elif num >= 500: return \"상급종합병원\""
      ],
      "metadata": {
        "id": "ZZeq-sV7lHpd"
      },
      "execution_count": null,
      "outputs": []
    },
    {
      "cell_type": "code",
      "source": [
        "train[\"bedCount\"] = train[\"bedCount\"].apply(bedCount2band)\n",
        "test[\"bedCount\"] = test[\"bedCount\"].apply(bedCount2band)"
      ],
      "metadata": {
        "id": "3ljVuZ2VlTbc"
      },
      "execution_count": null,
      "outputs": []
    },
    {
      "cell_type": "markdown",
      "source": [
        "## **Scaling**\n",
        "\n",
        "- train, test 데이터의 histogram을 살펴보면 데이터가 왼쪽으로 치우친것을 확인할 수 있음 -> **로그 변환**을 통해 데이터를 중앙으로 모으는 작업이 필요하다고 판단"
      ],
      "metadata": {
        "id": "lgwhgmgLbYti"
      }
    },
    {
      "cell_type": "code",
      "source": [
        "train_hist= train.hist(bins=50, figsize=(20, 18))"
      ],
      "metadata": {
        "colab": {
          "base_uri": "https://localhost:8080/",
          "height": 886
        },
        "id": "bgMHgH_qm3u0",
        "outputId": "14439df4-55da-452d-d194-8fca941efe8a"
      },
      "execution_count": null,
      "outputs": [
        {
          "output_type": "display_data",
          "data": {
            "text/plain": [
              "<Figure size 1440x1296 with 56 Axes>"
            ],
            "image/png": "[encoded data removed]"
          },
          "metadata": {
            "needs_background": "light"
          }
        }
      ]
    },
    {
      "cell_type": "code",
      "source": [
        "test_hist= test.hist(bins=50, figsize=(20, 18))"
      ],
      "metadata": {
        "colab": {
          "base_uri": "https://localhost:8080/",
          "height": 871
        },
        "id": "a4Nx-f-fnEk4",
        "outputId": "6cae31be-1c27-4adb-bc9d-4cf7f4dd2251"
      },
      "execution_count": null,
      "outputs": [
        {
          "output_type": "display_data",
          "data": {
            "text/plain": [
              "<Figure size 1440x1296 with 56 Axes>"
            ],
            "image/png": "[encoded data removed]"
          },
          "metadata": {
            "needs_background": "light"
          }
        }
      ]
    },
    {
      "cell_type": "markdown",
      "source": [
        "### **1. 양수화**"
      ],
      "metadata": {
        "id": "q6Z5xJwnbutm"
      }
    },
    {
      "cell_type": "code",
      "source": [
        "# Train/Test 데이터의 수치형 변수들에 대해 scaling 진행\n",
        "train_col = train.drop(['OC','sido','ownerChange','instkind','bedCount'], axis = 1)\n",
        "test_col = test.drop(['OC','sido','ownerChange','instkind','bedCount'], axis = 1)"
      ],
      "metadata": {
        "id": "JB2I9WSLbaWn"
      },
      "execution_count": null,
      "outputs": []
    },
    {
      "cell_type": "code",
      "source": [
        "# 로그 변환 이전, Train 데이터 칼럼의 음수 값을 제거하기 위한 과정\n",
        "for i in train_col.columns:\n",
        "  train_col[i] -= min(train_col[i])"
      ],
      "metadata": {
        "id": "FVbxwzROnIvB"
      },
      "execution_count": null,
      "outputs": []
    },
    {
      "cell_type": "code",
      "source": [
        "# 로그 변환 이전, Test 데이터 칼럼의 음수 값을 제거하기 위한 과정\n",
        "for i in test_col.columns:\n",
        "  test_col[i] -= min(test_col[i])"
      ],
      "metadata": {
        "id": "hgBCa6hYbqrt"
      },
      "execution_count": null,
      "outputs": []
    },
    {
      "cell_type": "markdown",
      "source": [
        "### **2. log scaling**"
      ],
      "metadata": {
        "id": "JwhAZq7wbw2M"
      }
    },
    {
      "cell_type": "code",
      "source": [
        "train_scaled_log=np.log1p(train_col)"
      ],
      "metadata": {
        "id": "y_xOUKTRbyji"
      },
      "execution_count": null,
      "outputs": []
    },
    {
      "cell_type": "code",
      "source": [
        "test_scaled_log=np.log1p(test_col)"
      ],
      "metadata": {
        "id": "bj0ChGvnb1Dl"
      },
      "execution_count": null,
      "outputs": []
    },
    {
      "cell_type": "markdown",
      "source": [
        "## **Encoding**"
      ],
      "metadata": {
        "id": "P592Ztzsb7tH"
      }
    },
    {
      "cell_type": "markdown",
      "source": [
        "**sido**"
      ],
      "metadata": {
        "id": "e_kXRqiHFf45"
      }
    },
    {
      "cell_type": "code",
      "source": [
        "train['sido'].value_counts().index"
      ],
      "metadata": {
        "colab": {
          "base_uri": "https://localhost:8080/"
        },
        "id": "R8zNkBLqdEnd",
        "outputId": "265626e4-5bc4-4ee3-948d-1b9f4b4a69eb"
      },
      "execution_count": null,
      "outputs": [
        {
          "output_type": "execute_result",
          "data": {
            "text/plain": [
              "Index(['경상도', '경인', '전라도', '충청도', '부산', '서울', '대구', '대전', '강원도', '울산', '광주',\n",
              "       '세종'],\n",
              "      dtype='object')"
            ]
          },
          "metadata": {},
          "execution_count": 28
        }
      ]
    },
    {
      "cell_type": "code",
      "source": [
        "test['sido'].value_counts().index"
      ],
      "metadata": {
        "colab": {
          "base_uri": "https://localhost:8080/"
        },
        "id": "2ayprl1ylrO9",
        "outputId": "91873674-fdb7-45d1-809d-18e8a08c508b"
      },
      "execution_count": null,
      "outputs": [
        {
          "output_type": "execute_result",
          "data": {
            "text/plain": [
              "Index(['경상도', '경인', '전라도', '부산', '충청도', '서울', '울산', '제주도', '대구', '대전', '세종'], dtype='object')"
            ]
          },
          "metadata": {},
          "execution_count": 29
        }
      ]
    },
    {
      "cell_type": "code",
      "source": [
        "#labelencoding을 진행할 시 test에는 존재하지만 train에는 존재하지 않는 '제주도'칼럼을 처리하는 방법을 찾지못함\n",
        "#따라서 손수 encoding 진행\n",
        "train['sido'].replace({'경상도':6,'경인':5,\n",
        "                           '전라도':4,'충청도':4,'부산':3,\n",
        "                          '서울':3,'대구':3,\n",
        "                          '전라도':2, '대전':2,'광주':2,'강원도':1,\n",
        "                          '울산':1,'세종':0,'제주도':0},inplace = True)\n",
        "test['sido'].replace({'경상도':6,'경인':5,\n",
        "                           '전라도':4,'충청도':4,'부산':3,\n",
        "                          '서울':3,'대구':3,\n",
        "                          '전라도':2, '대전':2,'광주':2,'강원도':1,\n",
        "                          '울산':1,'세종':0,'제주도':0},inplace = True)"
      ],
      "metadata": {
        "id": "fglKRvQQobbc"
      },
      "execution_count": null,
      "outputs": []
    },
    {
      "cell_type": "markdown",
      "source": [
        "**OC**"
      ],
      "metadata": {
        "id": "BIjEqLc95ZsQ"
      }
    },
    {
      "cell_type": "code",
      "source": [
        "#close를 0으로, open을 1로 바꿔줌\n",
        "train['OC'].replace({' close':0,'open':1},inplace = True)"
      ],
      "metadata": {
        "id": "Ohq0MhkP5aq6"
      },
      "execution_count": null,
      "outputs": []
    },
    {
      "cell_type": "code",
      "source": [
        "train['OC'].value_counts()"
      ],
      "metadata": {
        "colab": {
          "base_uri": "https://localhost:8080/"
        },
        "id": "LWdeSAiW52dN",
        "outputId": "bb9b0b61-7f8b-4733-8872-54699f7d3dcb"
      },
      "execution_count": null,
      "outputs": [
        {
          "output_type": "execute_result",
          "data": {
            "text/plain": [
              "1    286\n",
              "0     15\n",
              "Name: OC, dtype: int64"
            ]
          },
          "metadata": {},
          "execution_count": 32
        }
      ]
    },
    {
      "cell_type": "markdown",
      "source": [
        "**bedcount**\n",
        "-bedCount 변수에 대해서는 labelencoding 진행"
      ],
      "metadata": {
        "id": "pQ9NqeAm6BJK"
      }
    },
    {
      "cell_type": "code",
      "source": [
        "encoder=LabelEncoder()\n",
        "encoder.fit(train.bedCount)\n",
        "train.bedCount=encoder.transform(train.bedCount)\n",
        "test.bedCount=encoder.transform(test.bedCount)"
      ],
      "metadata": {
        "id": "dTqeHIylPaOs"
      },
      "execution_count": null,
      "outputs": []
    },
    {
      "cell_type": "markdown",
      "source": [
        "**instkind & ownerchange**\n",
        "\n",
        "-instkind, ownerchange 변수에 대해선 one-hot encoding 진행"
      ],
      "metadata": {
        "id": "0tgjqoMi6Z5k"
      }
    },
    {
      "cell_type": "code",
      "source": [
        "train = pd.get_dummies(train, columns = ['instkind','ownerChange'], drop_first = True)\n",
        "test = pd.get_dummies(test, columns = ['instkind','ownerChange'], drop_first = True)"
      ],
      "metadata": {
        "id": "y3XWcXsW6hWe"
      },
      "execution_count": null,
      "outputs": []
    },
    {
      "cell_type": "code",
      "source": [
        "train.head()"
      ],
      "metadata": {
        "colab": {
          "base_uri": "https://localhost:8080/",
          "height": 299
        },
        "id": "d6b6ncxn7zwN",
        "outputId": "61d05ee6-5493-4de5-8303-8538f0915961"
      },
      "execution_count": null,
      "outputs": [
        {
          "output_type": "execute_result",
          "data": {
            "text/plain": [
              "   OC  sido  bedCount      revenue1   salescost1          sga1       salary1  \\\n",
              "0   1     4         3  4.217530e+09          0.0  3.961135e+09  2.033835e+09   \n",
              "1   1     6         3  5.524218e+09  210410492.0  4.684074e+09  2.659892e+09   \n",
              "2   1     5         3  1.004522e+09  515483669.0  4.472197e+08  2.964023e+08   \n",
              "3   1     5         3  7.250734e+10          0.0  7.067740e+10  3.178605e+10   \n",
              "4   1     6         3  4.904354e+10          0.0  4.765605e+10  2.446078e+10   \n",
              "\n",
              "          noi1          noe1     interest1  ...  open_year  business_year  \\\n",
              "0   15652441.0  1.523624e+07  1.323624e+07  ...       2007             10   \n",
              "1   43637641.0  1.831965e+08  1.097329e+08  ...       1997             20   \n",
              "2      76156.0  3.000000e+04  0.000000e+00  ...       2016              1   \n",
              "3  506223059.0  1.259568e+09  1.196881e+09  ...       2000             17   \n",
              "4  112352259.0  1.419089e+09  1.307249e+09  ...       2005             12   \n",
              "\n",
              "   employee_diff  instkind_dental_clinic  instkind_general_hospital  \\\n",
              "0           -2.0                       0                          0   \n",
              "1          -12.0                       0                          1   \n",
              "2          233.0                       0                          0   \n",
              "3            0.0                       0                          1   \n",
              "4            9.0                       0                          1   \n",
              "\n",
              "   instkind_hospital  instkind_nursing_hospital  instkind_traditional_clinic  \\\n",
              "0                  0                          1                            0   \n",
              "1                  0                          0                            0   \n",
              "2                  0                          1                            0   \n",
              "3                  0                          0                            0   \n",
              "4                  0                          0                            0   \n",
              "\n",
              "   instkind_traditional_hospital  ownerChange_same  \n",
              "0                              0                 1  \n",
              "1                              0                 1  \n",
              "2                              0                 1  \n",
              "3                              0                 1  \n",
              "4                              0                 1  \n",
              "\n",
              "[5 rows x 65 columns]"
            ],
            "text/html": [
              "\n",
              "  <div id=\"df-36b9d809-898c-431f-92a1-72ff0a8d1d31\">\n",
              "    <div class=\"colab-df-container\">\n",
              "      <div>\n",
              "<style scoped>\n",
              "    .dataframe tbody tr th:only-of-type {\n",
              "        vertical-align: middle;\n",
              "    }\n",
              "\n",
              "    .dataframe tbody tr th {\n",
              "        vertical-align: top;\n",
              "    }\n",
              "\n",
              "    .dataframe thead th {\n",
              "        text-align: right;\n",
              "    }\n",
              "</style>\n",
              "<table border=\"1\" class=\"dataframe\">\n",
              "  <thead>\n",
              "    <tr style=\"text-align: right;\">\n",
              "      <th></th>\n",
              "      <th>OC</th>\n",
              "      <th>sido</th>\n",
              "      <th>bedCount</th>\n",
              "      <th>revenue1</th>\n",
              "      <th>salescost1</th>\n",
              "      <th>sga1</th>\n",
              "      <th>salary1</th>\n",
              "      <th>noi1</th>\n",
              "      <th>noe1</th>\n",
              "      <th>interest1</th>\n",
              "      <th>...</th>\n",
              "      <th>open_year</th>\n",
              "      <th>business_year</th>\n",
              "      <th>employee_diff</th>\n",
              "      <th>instkind_dental_clinic</th>\n",
              "      <th>instkind_general_hospital</th>\n",
              "      <th>instkind_hospital</th>\n",
              "      <th>instkind_nursing_hospital</th>\n",
              "      <th>instkind_traditional_clinic</th>\n",
              "      <th>instkind_traditional_hospital</th>\n",
              "      <th>ownerChange_same</th>\n",
              "    </tr>\n",
              "  </thead>\n",
              "  <tbody>\n",
              "    <tr>\n",
              "      <th>0</th>\n",
              "      <td>1</td>\n",
              "      <td>4</td>\n",
              "      <td>3</td>\n",
              "      <td>4.217530e+09</td>\n",
              "      <td>0.0</td>\n",
              "      <td>3.961135e+09</td>\n",
              "      <td>2.033835e+09</td>\n",
              "      <td>15652441.0</td>\n",
              "      <td>1.523624e+07</td>\n",
              "      <td>1.323624e+07</td>\n",
              "      <td>...</td>\n",
              "      <td>2007</td>\n",
              "      <td>10</td>\n",
              "      <td>-2.0</td>\n",
              "      <td>0</td>\n",
              "      <td>0</td>\n",
              "      <td>0</td>\n",
              "      <td>1</td>\n",
              "      <td>0</td>\n",
              "      <td>0</td>\n",
              "      <td>1</td>\n",
              "    </tr>\n",
              "    <tr>\n",
              "      <th>1</th>\n",
              "      <td>1</td>\n",
              "      <td>6</td>\n",
              "      <td>3</td>\n",
              "      <td>5.524218e+09</td>\n",
              "      <td>210410492.0</td>\n",
              "      <td>4.684074e+09</td>\n",
              "      <td>2.659892e+09</td>\n",
              "      <td>43637641.0</td>\n",
              "      <td>1.831965e+08</td>\n",
              "      <td>1.097329e+08</td>\n",
              "      <td>...</td>\n",
              "      <td>1997</td>\n",
              "      <td>20</td>\n",
              "      <td>-12.0</td>\n",
              "      <td>0</td>\n",
              "      <td>1</td>\n",
              "      <td>0</td>\n",
              "      <td>0</td>\n",
              "      <td>0</td>\n",
              "      <td>0</td>\n",
              "      <td>1</td>\n",
              "    </tr>\n",
              "    <tr>\n",
              "      <th>2</th>\n",
              "      <td>1</td>\n",
              "      <td>5</td>\n",
              "      <td>3</td>\n",
              "      <td>1.004522e+09</td>\n",
              "      <td>515483669.0</td>\n",
              "      <td>4.472197e+08</td>\n",
              "      <td>2.964023e+08</td>\n",
              "      <td>76156.0</td>\n",
              "      <td>3.000000e+04</td>\n",
              "      <td>0.000000e+00</td>\n",
              "      <td>...</td>\n",
              "      <td>2016</td>\n",
              "      <td>1</td>\n",
              "      <td>233.0</td>\n",
              "      <td>0</td>\n",
              "      <td>0</td>\n",
              "      <td>0</td>\n",
              "      <td>1</td>\n",
              "      <td>0</td>\n",
              "      <td>0</td>\n",
              "      <td>1</td>\n",
              "    </tr>\n",
              "    <tr>\n",
              "      <th>3</th>\n",
              "      <td>1</td>\n",
              "      <td>5</td>\n",
              "      <td>3</td>\n",
              "      <td>7.250734e+10</td>\n",
              "      <td>0.0</td>\n",
              "      <td>7.067740e+10</td>\n",
              "      <td>3.178605e+10</td>\n",
              "      <td>506223059.0</td>\n",
              "      <td>1.259568e+09</td>\n",
              "      <td>1.196881e+09</td>\n",
              "      <td>...</td>\n",
              "      <td>2000</td>\n",
              "      <td>17</td>\n",
              "      <td>0.0</td>\n",
              "      <td>0</td>\n",
              "      <td>1</td>\n",
              "      <td>0</td>\n",
              "      <td>0</td>\n",
              "      <td>0</td>\n",
              "      <td>0</td>\n",
              "      <td>1</td>\n",
              "    </tr>\n",
              "    <tr>\n",
              "      <th>4</th>\n",
              "      <td>1</td>\n",
              "      <td>6</td>\n",
              "      <td>3</td>\n",
              "      <td>4.904354e+10</td>\n",
              "      <td>0.0</td>\n",
              "      <td>4.765605e+10</td>\n",
              "      <td>2.446078e+10</td>\n",
              "      <td>112352259.0</td>\n",
              "      <td>1.419089e+09</td>\n",
              "      <td>1.307249e+09</td>\n",
              "      <td>...</td>\n",
              "      <td>2005</td>\n",
              "      <td>12</td>\n",
              "      <td>9.0</td>\n",
              "      <td>0</td>\n",
              "      <td>1</td>\n",
              "      <td>0</td>\n",
              "      <td>0</td>\n",
              "      <td>0</td>\n",
              "      <td>0</td>\n",
              "      <td>1</td>\n",
              "    </tr>\n",
              "  </tbody>\n",
              "</table>\n",
              "<p>5 rows × 65 columns</p>\n",
              "</div>\n",
              "      <button class=\"colab-df-convert\" onclick=\"convertToInteractive('df-36b9d809-898c-431f-92a1-72ff0a8d1d31')\"\n",
              "              title=\"Convert this dataframe to an interactive table.\"\n",
              "              style=\"display:none;\">\n",
              "        \n",
              "  <svg xmlns=\"http://www.w3.org/2000/svg\" height=\"24px\"viewBox=\"0 0 24 24\"\n",
              "       width=\"24px\">\n",
              "    <path d=\"M0 0h24v24H0V0z\" fill=\"none\"/>\n",
              "    <path d=\"M18.56 5.44l.94 2.06.94-2.06 2.06-.94-2.06-.94-.94-2.06-.94 2.06-2.06.94zm-11 1L8.5 8.5l.94-2.06 2.06-.94-2.06-.94L8.5 2.5l-.94 2.06-2.06.94zm10 10l.94 2.06.94-2.06 2.06-.94-2.06-.94-.94-2.06-.94 2.06-2.06.94z\"/><path d=\"M17.41 7.96l-1.37-1.37c-.4-.4-.92-.59-1.43-.59-.52 0-1.04.2-1.43.59L10.3 9.45l-7.72 7.72c-.78.78-.78 2.05 0 2.83L4 21.41c.39.39.9.59 1.41.59.51 0 1.02-.2 1.41-.59l7.78-7.78 2.81-2.81c.8-.78.8-2.07 0-2.86zM5.41 20L4 18.59l7.72-7.72 1.47 1.35L5.41 20z\"/>\n",
              "  </svg>\n",
              "      </button>\n",
              "      \n",
              "  <style>\n",
              "    .colab-df-container {\n",
              "      display:flex;\n",
              "      flex-wrap:wrap;\n",
              "      gap: 12px;\n",
              "    }\n",
              "\n",
              "    .colab-df-convert {\n",
              "      background-color: #E8F0FE;\n",
              "      border: none;\n",
              "      border-radius: 50%;\n",
              "      cursor: pointer;\n",
              "      display: none;\n",
              "      fill: #1967D2;\n",
              "      height: 32px;\n",
              "      padding: 0 0 0 0;\n",
              "      width: 32px;\n",
              "    }\n",
              "\n",
              "    .colab-df-convert:hover {\n",
              "      background-color: #E2EBFA;\n",
              "      box-shadow: 0px 1px 2px rgba(60, 64, 67, 0.3), 0px 1px 3px 1px rgba(60, 64, 67, 0.15);\n",
              "      fill: #174EA6;\n",
              "    }\n",
              "\n",
              "    [theme=dark] .colab-df-convert {\n",
              "      background-color: #3B4455;\n",
              "      fill: #D2E3FC;\n",
              "    }\n",
              "\n",
              "    [theme=dark] .colab-df-convert:hover {\n",
              "      background-color: #434B5C;\n",
              "      box-shadow: 0px 1px 3px 1px rgba(0, 0, 0, 0.15);\n",
              "      filter: drop-shadow(0px 1px 2px rgba(0, 0, 0, 0.3));\n",
              "      fill: #FFFFFF;\n",
              "    }\n",
              "  </style>\n",
              "\n",
              "      <script>\n",
              "        const buttonEl =\n",
              "          document.querySelector('#df-36b9d809-898c-431f-92a1-72ff0a8d1d31 button.colab-df-convert');\n",
              "        buttonEl.style.display =\n",
              "          google.colab.kernel.accessAllowed ? 'block' : 'none';\n",
              "\n",
              "        async function convertToInteractive(key) {\n",
              "          const element = document.querySelector('#df-36b9d809-898c-431f-92a1-72ff0a8d1d31');\n",
              "          const dataTable =\n",
              "            await google.colab.kernel.invokeFunction('convertToInteractive',\n",
              "                                                     [key], {});\n",
              "          if (!dataTable) return;\n",
              "\n",
              "          const docLinkHtml = 'Like what you see? Visit the ' +\n",
              "            '<a target=\"_blank\" href=https://colab.research.google.com/notebooks/data_table.ipynb>data table notebook</a>'\n",
              "            + ' to learn more about interactive tables.';\n",
              "          element.innerHTML = '';\n",
              "          dataTable['output_type'] = 'display_data';\n",
              "          await google.colab.output.renderOutput(dataTable, element);\n",
              "          const docLink = document.createElement('div');\n",
              "          docLink.innerHTML = docLinkHtml;\n",
              "          element.appendChild(docLink);\n",
              "        }\n",
              "      </script>\n",
              "    </div>\n",
              "  </div>\n",
              "  "
            ]
          },
          "metadata": {},
          "execution_count": 35
        }
      ]
    },
    {
      "cell_type": "code",
      "source": [
        "#test 데이터에서 \"OC\" 열 삭제\n",
        "test = test.drop(\"OC\", axis = 1)"
      ],
      "metadata": {
        "id": "qIj6WUqk8UAr"
      },
      "execution_count": null,
      "outputs": []
    },
    {
      "cell_type": "code",
      "source": [
        "test.head()"
      ],
      "metadata": {
        "colab": {
          "base_uri": "https://localhost:8080/",
          "height": 299
        },
        "id": "hHo8dTQK8Pbt",
        "outputId": "1dfcaca8-2385-4981-dd6c-05e67998afc8"
      },
      "execution_count": null,
      "outputs": [
        {
          "output_type": "execute_result",
          "data": {
            "text/plain": [
              "   sido  bedCount      revenue1    salescost1          sga1       salary1  \\\n",
              "0     5         3  6.682486e+10  0.000000e+00  6.565709e+10  3.223695e+10   \n",
              "1     0         0  3.495758e+10  0.000000e+00  3.259270e+10  1.672254e+10   \n",
              "2     2         3  2.326031e+10  2.542571e+09  2.308749e+10  1.168734e+10   \n",
              "3     3         3  0.000000e+00  0.000000e+00  0.000000e+00  0.000000e+00   \n",
              "4     2         3  5.037025e+10  0.000000e+00  4.855803e+10  2.296346e+10   \n",
              "\n",
              "           noi1          noe1     interest1       ctax1  ...    op_profit2  \\\n",
              "0  4.314093e+09  4.901517e+09  1.775872e+09  76680000.0  ...  9.924902e+08   \n",
              "1  6.871024e+07  1.981033e+09  1.936455e+09         0.0  ... -1.142702e+09   \n",
              "2  1.601943e+09  1.380941e+09  8.101204e+08         0.0  ... -5.592507e+08   \n",
              "3  4.850652e+09  2.060989e+09  0.000000e+00         0.0  ...  0.000000e+00   \n",
              "4  1.534452e+09  0.000000e+00  2.573804e+09         0.0  ...  2.811857e+09   \n",
              "\n",
              "   open_year  business_year  employee_diff  instkind_general_hospital  \\\n",
              "0     1998.0           19.0            0.0                          1   \n",
              "1     2016.0            1.0            8.0                          0   \n",
              "2     1989.0           28.0            7.0                          1   \n",
              "3     2010.0            7.0            0.0                          1   \n",
              "4     2004.0           13.0           52.0                          1   \n",
              "\n",
              "   instkind_hospital  instkind_nursing_hospital  instkind_traditional_clinic  \\\n",
              "0                  0                          0                            0   \n",
              "1                  1                          0                            0   \n",
              "2                  0                          0                            0   \n",
              "3                  0                          0                            0   \n",
              "4                  0                          0                            0   \n",
              "\n",
              "   instkind_traditional_hospital  ownerChange_same  \n",
              "0                              0                 1  \n",
              "1                              0                 1  \n",
              "2                              0                 1  \n",
              "3                              0                 1  \n",
              "4                              0                 1  \n",
              "\n",
              "[5 rows x 63 columns]"
            ],
            "text/html": [
              "\n",
              "  <div id=\"df-911db742-82ca-485d-8bc9-a2654602dc70\">\n",
              "    <div class=\"colab-df-container\">\n",
              "      <div>\n",
              "<style scoped>\n",
              "    .dataframe tbody tr th:only-of-type {\n",
              "        vertical-align: middle;\n",
              "    }\n",
              "\n",
              "    .dataframe tbody tr th {\n",
              "        vertical-align: top;\n",
              "    }\n",
              "\n",
              "    .dataframe thead th {\n",
              "        text-align: right;\n",
              "    }\n",
              "</style>\n",
              "<table border=\"1\" class=\"dataframe\">\n",
              "  <thead>\n",
              "    <tr style=\"text-align: right;\">\n",
              "      <th></th>\n",
              "      <th>sido</th>\n",
              "      <th>bedCount</th>\n",
              "      <th>revenue1</th>\n",
              "      <th>salescost1</th>\n",
              "      <th>sga1</th>\n",
              "      <th>salary1</th>\n",
              "      <th>noi1</th>\n",
              "      <th>noe1</th>\n",
              "      <th>interest1</th>\n",
              "      <th>ctax1</th>\n",
              "      <th>...</th>\n",
              "      <th>op_profit2</th>\n",
              "      <th>open_year</th>\n",
              "      <th>business_year</th>\n",
              "      <th>employee_diff</th>\n",
              "      <th>instkind_general_hospital</th>\n",
              "      <th>instkind_hospital</th>\n",
              "      <th>instkind_nursing_hospital</th>\n",
              "      <th>instkind_traditional_clinic</th>\n",
              "      <th>instkind_traditional_hospital</th>\n",
              "      <th>ownerChange_same</th>\n",
              "    </tr>\n",
              "  </thead>\n",
              "  <tbody>\n",
              "    <tr>\n",
              "      <th>0</th>\n",
              "      <td>5</td>\n",
              "      <td>3</td>\n",
              "      <td>6.682486e+10</td>\n",
              "      <td>0.000000e+00</td>\n",
              "      <td>6.565709e+10</td>\n",
              "      <td>3.223695e+10</td>\n",
              "      <td>4.314093e+09</td>\n",
              "      <td>4.901517e+09</td>\n",
              "      <td>1.775872e+09</td>\n",
              "      <td>76680000.0</td>\n",
              "      <td>...</td>\n",
              "      <td>9.924902e+08</td>\n",
              "      <td>1998.0</td>\n",
              "      <td>19.0</td>\n",
              "      <td>0.0</td>\n",
              "      <td>1</td>\n",
              "      <td>0</td>\n",
              "      <td>0</td>\n",
              "      <td>0</td>\n",
              "      <td>0</td>\n",
              "      <td>1</td>\n",
              "    </tr>\n",
              "    <tr>\n",
              "      <th>1</th>\n",
              "      <td>0</td>\n",
              "      <td>0</td>\n",
              "      <td>3.495758e+10</td>\n",
              "      <td>0.000000e+00</td>\n",
              "      <td>3.259270e+10</td>\n",
              "      <td>1.672254e+10</td>\n",
              "      <td>6.871024e+07</td>\n",
              "      <td>1.981033e+09</td>\n",
              "      <td>1.936455e+09</td>\n",
              "      <td>0.0</td>\n",
              "      <td>...</td>\n",
              "      <td>-1.142702e+09</td>\n",
              "      <td>2016.0</td>\n",
              "      <td>1.0</td>\n",
              "      <td>8.0</td>\n",
              "      <td>0</td>\n",
              "      <td>1</td>\n",
              "      <td>0</td>\n",
              "      <td>0</td>\n",
              "      <td>0</td>\n",
              "      <td>1</td>\n",
              "    </tr>\n",
              "    <tr>\n",
              "      <th>2</th>\n",
              "      <td>2</td>\n",
              "      <td>3</td>\n",
              "      <td>2.326031e+10</td>\n",
              "      <td>2.542571e+09</td>\n",
              "      <td>2.308749e+10</td>\n",
              "      <td>1.168734e+10</td>\n",
              "      <td>1.601943e+09</td>\n",
              "      <td>1.380941e+09</td>\n",
              "      <td>8.101204e+08</td>\n",
              "      <td>0.0</td>\n",
              "      <td>...</td>\n",
              "      <td>-5.592507e+08</td>\n",
              "      <td>1989.0</td>\n",
              "      <td>28.0</td>\n",
              "      <td>7.0</td>\n",
              "      <td>1</td>\n",
              "      <td>0</td>\n",
              "      <td>0</td>\n",
              "      <td>0</td>\n",
              "      <td>0</td>\n",
              "      <td>1</td>\n",
              "    </tr>\n",
              "    <tr>\n",
              "      <th>3</th>\n",
              "      <td>3</td>\n",
              "      <td>3</td>\n",
              "      <td>0.000000e+00</td>\n",
              "      <td>0.000000e+00</td>\n",
              "      <td>0.000000e+00</td>\n",
              "      <td>0.000000e+00</td>\n",
              "      <td>4.850652e+09</td>\n",
              "      <td>2.060989e+09</td>\n",
              "      <td>0.000000e+00</td>\n",
              "      <td>0.0</td>\n",
              "      <td>...</td>\n",
              "      <td>0.000000e+00</td>\n",
              "      <td>2010.0</td>\n",
              "      <td>7.0</td>\n",
              "      <td>0.0</td>\n",
              "      <td>1</td>\n",
              "      <td>0</td>\n",
              "      <td>0</td>\n",
              "      <td>0</td>\n",
              "      <td>0</td>\n",
              "      <td>1</td>\n",
              "    </tr>\n",
              "    <tr>\n",
              "      <th>4</th>\n",
              "      <td>2</td>\n",
              "      <td>3</td>\n",
              "      <td>5.037025e+10</td>\n",
              "      <td>0.000000e+00</td>\n",
              "      <td>4.855803e+10</td>\n",
              "      <td>2.296346e+10</td>\n",
              "      <td>1.534452e+09</td>\n",
              "      <td>0.000000e+00</td>\n",
              "      <td>2.573804e+09</td>\n",
              "      <td>0.0</td>\n",
              "      <td>...</td>\n",
              "      <td>2.811857e+09</td>\n",
              "      <td>2004.0</td>\n",
              "      <td>13.0</td>\n",
              "      <td>52.0</td>\n",
              "      <td>1</td>\n",
              "      <td>0</td>\n",
              "      <td>0</td>\n",
              "      <td>0</td>\n",
              "      <td>0</td>\n",
              "      <td>1</td>\n",
              "    </tr>\n",
              "  </tbody>\n",
              "</table>\n",
              "<p>5 rows × 63 columns</p>\n",
              "</div>\n",
              "      <button class=\"colab-df-convert\" onclick=\"convertToInteractive('df-911db742-82ca-485d-8bc9-a2654602dc70')\"\n",
              "              title=\"Convert this dataframe to an interactive table.\"\n",
              "              style=\"display:none;\">\n",
              "        \n",
              "  <svg xmlns=\"http://www.w3.org/2000/svg\" height=\"24px\"viewBox=\"0 0 24 24\"\n",
              "       width=\"24px\">\n",
              "    <path d=\"M0 0h24v24H0V0z\" fill=\"none\"/>\n",
              "    <path d=\"M18.56 5.44l.94 2.06.94-2.06 2.06-.94-2.06-.94-.94-2.06-.94 2.06-2.06.94zm-11 1L8.5 8.5l.94-2.06 2.06-.94-2.06-.94L8.5 2.5l-.94 2.06-2.06.94zm10 10l.94 2.06.94-2.06 2.06-.94-2.06-.94-.94-2.06-.94 2.06-2.06.94z\"/><path d=\"M17.41 7.96l-1.37-1.37c-.4-.4-.92-.59-1.43-.59-.52 0-1.04.2-1.43.59L10.3 9.45l-7.72 7.72c-.78.78-.78 2.05 0 2.83L4 21.41c.39.39.9.59 1.41.59.51 0 1.02-.2 1.41-.59l7.78-7.78 2.81-2.81c.8-.78.8-2.07 0-2.86zM5.41 20L4 18.59l7.72-7.72 1.47 1.35L5.41 20z\"/>\n",
              "  </svg>\n",
              "      </button>\n",
              "      \n",
              "  <style>\n",
              "    .colab-df-container {\n",
              "      display:flex;\n",
              "      flex-wrap:wrap;\n",
              "      gap: 12px;\n",
              "    }\n",
              "\n",
              "    .colab-df-convert {\n",
              "      background-color: #E8F0FE;\n",
              "      border: none;\n",
              "      border-radius: 50%;\n",
              "      cursor: pointer;\n",
              "      display: none;\n",
              "      fill: #1967D2;\n",
              "      height: 32px;\n",
              "      padding: 0 0 0 0;\n",
              "      width: 32px;\n",
              "    }\n",
              "\n",
              "    .colab-df-convert:hover {\n",
              "      background-color: #E2EBFA;\n",
              "      box-shadow: 0px 1px 2px rgba(60, 64, 67, 0.3), 0px 1px 3px 1px rgba(60, 64, 67, 0.15);\n",
              "      fill: #174EA6;\n",
              "    }\n",
              "\n",
              "    [theme=dark] .colab-df-convert {\n",
              "      background-color: #3B4455;\n",
              "      fill: #D2E3FC;\n",
              "    }\n",
              "\n",
              "    [theme=dark] .colab-df-convert:hover {\n",
              "      background-color: #434B5C;\n",
              "      box-shadow: 0px 1px 3px 1px rgba(0, 0, 0, 0.15);\n",
              "      filter: drop-shadow(0px 1px 2px rgba(0, 0, 0, 0.3));\n",
              "      fill: #FFFFFF;\n",
              "    }\n",
              "  </style>\n",
              "\n",
              "      <script>\n",
              "        const buttonEl =\n",
              "          document.querySelector('#df-911db742-82ca-485d-8bc9-a2654602dc70 button.colab-df-convert');\n",
              "        buttonEl.style.display =\n",
              "          google.colab.kernel.accessAllowed ? 'block' : 'none';\n",
              "\n",
              "        async function convertToInteractive(key) {\n",
              "          const element = document.querySelector('#df-911db742-82ca-485d-8bc9-a2654602dc70');\n",
              "          const dataTable =\n",
              "            await google.colab.kernel.invokeFunction('convertToInteractive',\n",
              "                                                     [key], {});\n",
              "          if (!dataTable) return;\n",
              "\n",
              "          const docLinkHtml = 'Like what you see? Visit the ' +\n",
              "            '<a target=\"_blank\" href=https://colab.research.google.com/notebooks/data_table.ipynb>data table notebook</a>'\n",
              "            + ' to learn more about interactive tables.';\n",
              "          element.innerHTML = '';\n",
              "          dataTable['output_type'] = 'display_data';\n",
              "          await google.colab.output.renderOutput(dataTable, element);\n",
              "          const docLink = document.createElement('div');\n",
              "          docLink.innerHTML = docLinkHtml;\n",
              "          element.appendChild(docLink);\n",
              "        }\n",
              "      </script>\n",
              "    </div>\n",
              "  </div>\n",
              "  "
            ]
          },
          "metadata": {},
          "execution_count": 37
        }
      ]
    },
    {
      "cell_type": "code",
      "source": [
        "#로그변환한 데이터를 기존 데이터에 적용해주기\n",
        "train_scaled_log[['OC','sido','bedCount']] = train[['OC','sido','bedCount']]\n",
        "train_scaled_log['ownerChange_same'] = train['ownerChange_same']\n",
        "train_scaled_log[['instkind_dental_clinic','instkind_general_hospital','instkind_hospital','instkind_nursing_hospital','instkind_traditional_clinic','instkind_traditional_hospital']]=train[['instkind_dental_clinic','instkind_general_hospital','instkind_hospital','instkind_nursing_hospital','instkind_traditional_clinic','instkind_traditional_hospital']]\n",
        "\n",
        "test_scaled_log[['OC','sido','bedCount']] = train[['OC','sido','bedCount']]\n",
        "test_scaled_log['ownerChange_same'] = train['ownerChange_same']\n",
        "test_scaled_log[['instkind_general_hospital','instkind_hospital','instkind_nursing_hospital','instkind_traditional_clinic','instkind_traditional_hospital']]=test[['instkind_general_hospital','instkind_hospital','instkind_nursing_hospital','instkind_traditional_clinic','instkind_traditional_hospital']]\n",
        "\n",
        "#최종 데이터\n",
        "train_final = train_scaled_log\n",
        "test_final = test_scaled_log\n",
        "\n",
        "#데이터 확인해본 결과 open_year, business_year에서 na 값 발견\n",
        "test_final.open_year.isna().sum()  #1\n",
        "test_final.business_year.isna().sum() #1\n",
        "\n",
        "# na값 중앙값으로 바꾸기\n",
        "# 최종 데이터 확정\n",
        "train_final = train_final.fillna(train.median())\n",
        "test_final = test_final.fillna(test.median())"
      ],
      "metadata": {
        "id": "JT4yZjX6EX4x"
      },
      "execution_count": null,
      "outputs": []
    },
    {
      "cell_type": "markdown",
      "source": [
        "## **Modeling**"
      ],
      "metadata": {
        "id": "jAY5giSD3TTA"
      }
    },
    {
      "cell_type": "code",
      "source": [
        "#변수 할당\n",
        "X = train_final.drop('OC', axis = 1)\n",
        "y = train_final.OC\n",
        "\n",
        "#train, test split\n",
        "X_train, X_test, y_train, y_test = train_test_split(X, y, test_size = 0.2, random_state = 0) \n",
        "\n",
        "#데이터세트 분포 비율 확인\n",
        "train_cnt = y_train.count()\n",
        "test_cnt = y_test.count()\n",
        "print('학습 세트 Shape:{0}, 테스트 세트 Shape:{1}'.format(X_train.shape, X_test.shape))\n",
        "\n",
        "print('학습 세트 레이블 값 분포 비율')\n",
        "print(y_train.value_counts()/train_cnt)\n",
        "print('\\n 테스트 세트 레이블 값 분포 비율')\n",
        "print(y_test.value_counts()/test_cnt)"
      ],
      "metadata": {
        "colab": {
          "base_uri": "https://localhost:8080/"
        },
        "id": "e9xLzjYhWOL1",
        "outputId": "f51de591-4d14-4f79-d5b0-2fa5771bb306"
      },
      "execution_count": null,
      "outputs": [
        {
          "output_type": "stream",
          "name": "stdout",
          "text": [
            "학습 세트 Shape:(240, 64), 테스트 세트 Shape:(61, 64)\n",
            "학습 세트 레이블 값 분포 비율\n",
            "1    0.954167\n",
            "0    0.045833\n",
            "Name: OC, dtype: float64\n",
            "\n",
            " 테스트 세트 레이블 값 분포 비율\n",
            "1    0.934426\n",
            "0    0.065574\n",
            "Name: OC, dtype: float64\n"
          ]
        }
      ]
    },
    {
      "cell_type": "code",
      "source": [
        "# 성능평가지표를 출력해주는 함수 정의\n",
        "def get_clf_eval(y_test, pred = None, pred_proba = None):\n",
        "  confusion = confusion_matrix(y_test, pred)\n",
        "  accuracy = accuracy_score(y_test, pred)\n",
        "  precision = precision_score(y_test, pred)\n",
        "  recall = recall_score(y_test, pred)\n",
        "  f1 = f1_score(y_test, pred)\n",
        "  print('오차 행렬')\n",
        "  print(confusion)\n",
        "  print('정확도 : {0:.4f}, 정밀도 : {1:.4f}, 재현율 : {2:.4f}, \\\n",
        "  F1 : {3:.4f}'.format(accuracy, precision, recall, f1))"
      ],
      "metadata": {
        "id": "V0nZiIVDQXlv"
      },
      "execution_count": null,
      "outputs": []
    },
    {
      "cell_type": "markdown",
      "source": [
        "### **1. xgboost**"
      ],
      "metadata": {
        "id": "AvehkfATK1lQ"
      }
    },
    {
      "cell_type": "code",
      "source": [
        "# SMOTE오버 샘플링 적용\n",
        "smote = SMOTE(random_state=0)\n",
        "X_train_over, y_train_over = smote.fit_resample(X_train, y_train)\n",
        "print('SMOTE 적용 전 학습용 피처/레이블 데이터 세트: ', X_train.shape, y_train.shape)\n",
        "print('SMOTE 적용 후 학습용 피처/레이블 데이터 세트: ', X_train_over.shape, y_train_over.shape)\n",
        "print('SMOTE 적용 후 레이블 값 분포: \\n', pd.Series(y_train_over).value_counts())"
      ],
      "metadata": {
        "colab": {
          "base_uri": "https://localhost:8080/"
        },
        "id": "Om5dCKhvRM3J",
        "outputId": "5b243841-33db-45e7-8b35-c77090062f0a"
      },
      "execution_count": null,
      "outputs": [
        {
          "output_type": "stream",
          "name": "stdout",
          "text": [
            "SMOTE 적용 전 학습용 피처/레이블 데이터 세트:  (240, 64) (240,)\n",
            "SMOTE 적용 후 학습용 피처/레이블 데이터 세트:  (458, 64) (458,)\n",
            "SMOTE 적용 후 레이블 값 분포: \n",
            " 1    229\n",
            "0    229\n",
            "Name: OC, dtype: int64\n"
          ]
        }
      ]
    },
    {
      "cell_type": "code",
      "source": [
        "# xgb모델학습 및 성능확인\n",
        "xgb_clf = XGBClassifier(n_estimators = 1000, random_state = 156, learning_rate = 0.01, max_depth = 7, min_child_weight = 1, colsample_bytree = 0.75, reg_alpha = 0.03)\n",
        "\n",
        "# 성능 평가 지표를 auc로, 조기 중단 파라미터 값은 200으로 설정하고 학습 수행\n",
        "xgb_clf.fit(X_train_over, y_train_over, early_stopping_rounds = 200,eval_metric='auc',eval_set = [(X_train,y_train),(X_test,y_test)])\n",
        "\n",
        "xgb_roc_score = roc_auc_score(y_test, xgb_clf.predict_proba(X_test)[:,1], average = 'macro')\n",
        "print('ROC AUC:{0:.4f}'.format(xgb_roc_score))"
      ],
      "metadata": {
        "id": "6V7SN1OcaTj4",
        "colab": {
          "base_uri": "https://localhost:8080/"
        },
        "outputId": "f5a2b671-45c5-4af4-ef4d-23e2a07be7b3"
      },
      "execution_count": null,
      "outputs": [
        {
          "output_type": "stream",
          "name": "stdout",
          "text": [
            "[0]\tvalidation_0-auc:0.986106\tvalidation_1-auc:0.657895\n",
            "Multiple eval metrics have been passed: 'validation_1-auc' will be used for early stopping.\n",
            "\n",
            "Will train until validation_1-auc hasn't improved in 200 rounds.\n",
            "[1]\tvalidation_0-auc:0.996229\tvalidation_1-auc:0.576754\n",
            "[2]\tvalidation_0-auc:1\tvalidation_1-auc:0.629386\n",
            "[3]\tvalidation_0-auc:0.998809\tvalidation_1-auc:0.605263\n",
            "[4]\tvalidation_0-auc:0.998412\tvalidation_1-auc:0.631579\n",
            "[5]\tvalidation_0-auc:0.999206\tvalidation_1-auc:0.622807\n",
            "[6]\tvalidation_0-auc:0.999603\tvalidation_1-auc:0.635965\n",
            "[7]\tvalidation_0-auc:1\tvalidation_1-auc:0.631579\n",
            "[8]\tvalidation_0-auc:1\tvalidation_1-auc:0.627193\n",
            "[9]\tvalidation_0-auc:1\tvalidation_1-auc:0.609649\n",
            "[10]\tvalidation_0-auc:1\tvalidation_1-auc:0.614035\n",
            "[11]\tvalidation_0-auc:1\tvalidation_1-auc:0.605263\n",
            "[12]\tvalidation_0-auc:1\tvalidation_1-auc:0.600877\n",
            "[13]\tvalidation_0-auc:1\tvalidation_1-auc:0.600877\n",
            "[14]\tvalidation_0-auc:1\tvalidation_1-auc:0.605263\n",
            "[15]\tvalidation_0-auc:1\tvalidation_1-auc:0.609649\n",
            "[16]\tvalidation_0-auc:1\tvalidation_1-auc:0.605263\n",
            "[17]\tvalidation_0-auc:1\tvalidation_1-auc:0.614035\n",
            "[18]\tvalidation_0-auc:1\tvalidation_1-auc:0.594298\n",
            "[19]\tvalidation_0-auc:1\tvalidation_1-auc:0.589912\n",
            "[20]\tvalidation_0-auc:1\tvalidation_1-auc:0.576754\n",
            "[21]\tvalidation_0-auc:1\tvalidation_1-auc:0.574561\n",
            "[22]\tvalidation_0-auc:1\tvalidation_1-auc:0.578947\n",
            "[23]\tvalidation_0-auc:0.999603\tvalidation_1-auc:0.570175\n",
            "[24]\tvalidation_0-auc:0.999603\tvalidation_1-auc:0.561404\n",
            "[25]\tvalidation_0-auc:0.999603\tvalidation_1-auc:0.561404\n",
            "[26]\tvalidation_0-auc:0.999603\tvalidation_1-auc:0.557018\n",
            "[27]\tvalidation_0-auc:0.999603\tvalidation_1-auc:0.578947\n",
            "[28]\tvalidation_0-auc:0.999603\tvalidation_1-auc:0.578947\n",
            "[29]\tvalidation_0-auc:0.999603\tvalidation_1-auc:0.600877\n",
            "[30]\tvalidation_0-auc:0.999603\tvalidation_1-auc:0.605263\n",
            "[31]\tvalidation_0-auc:0.999603\tvalidation_1-auc:0.605263\n",
            "[32]\tvalidation_0-auc:1\tvalidation_1-auc:0.605263\n",
            "[33]\tvalidation_0-auc:0.999603\tvalidation_1-auc:0.605263\n",
            "[34]\tvalidation_0-auc:0.999603\tvalidation_1-auc:0.605263\n",
            "[35]\tvalidation_0-auc:0.999603\tvalidation_1-auc:0.609649\n",
            "[36]\tvalidation_0-auc:0.999603\tvalidation_1-auc:0.605263\n",
            "[37]\tvalidation_0-auc:0.999603\tvalidation_1-auc:0.614035\n",
            "[38]\tvalidation_0-auc:0.999603\tvalidation_1-auc:0.618421\n",
            "[39]\tvalidation_0-auc:0.999603\tvalidation_1-auc:0.618421\n",
            "[40]\tvalidation_0-auc:0.999603\tvalidation_1-auc:0.618421\n",
            "[41]\tvalidation_0-auc:0.999603\tvalidation_1-auc:0.635965\n",
            "[42]\tvalidation_0-auc:0.999603\tvalidation_1-auc:0.635965\n",
            "[43]\tvalidation_0-auc:0.999603\tvalidation_1-auc:0.640351\n",
            "[44]\tvalidation_0-auc:0.999603\tvalidation_1-auc:0.631579\n",
            "[45]\tvalidation_0-auc:0.999603\tvalidation_1-auc:0.635965\n",
            "[46]\tvalidation_0-auc:0.999603\tvalidation_1-auc:0.640351\n",
            "[47]\tvalidation_0-auc:0.999603\tvalidation_1-auc:0.640351\n",
            "[48]\tvalidation_0-auc:0.999603\tvalidation_1-auc:0.640351\n",
            "[49]\tvalidation_0-auc:0.999603\tvalidation_1-auc:0.640351\n",
            "[50]\tvalidation_0-auc:0.999603\tvalidation_1-auc:0.640351\n",
            "[51]\tvalidation_0-auc:0.999603\tvalidation_1-auc:0.640351\n",
            "[52]\tvalidation_0-auc:0.999603\tvalidation_1-auc:0.644737\n",
            "[53]\tvalidation_0-auc:0.999603\tvalidation_1-auc:0.644737\n",
            "[54]\tvalidation_0-auc:0.999603\tvalidation_1-auc:0.644737\n",
            "[55]\tvalidation_0-auc:0.999603\tvalidation_1-auc:0.640351\n",
            "[56]\tvalidation_0-auc:0.999603\tvalidation_1-auc:0.640351\n",
            "[57]\tvalidation_0-auc:0.999603\tvalidation_1-auc:0.644737\n",
            "[58]\tvalidation_0-auc:0.999603\tvalidation_1-auc:0.644737\n",
            "[59]\tvalidation_0-auc:0.999603\tvalidation_1-auc:0.635965\n",
            "[60]\tvalidation_0-auc:0.999603\tvalidation_1-auc:0.640351\n",
            "[61]\tvalidation_0-auc:0.999603\tvalidation_1-auc:0.635965\n",
            "[62]\tvalidation_0-auc:0.999603\tvalidation_1-auc:0.631579\n",
            "[63]\tvalidation_0-auc:0.999603\tvalidation_1-auc:0.631579\n",
            "[64]\tvalidation_0-auc:0.999603\tvalidation_1-auc:0.635965\n",
            "[65]\tvalidation_0-auc:0.999603\tvalidation_1-auc:0.635965\n",
            "[66]\tvalidation_0-auc:0.999603\tvalidation_1-auc:0.635965\n",
            "[67]\tvalidation_0-auc:0.999603\tvalidation_1-auc:0.635965\n",
            "[68]\tvalidation_0-auc:0.999603\tvalidation_1-auc:0.627193\n",
            "[69]\tvalidation_0-auc:0.999603\tvalidation_1-auc:0.627193\n",
            "[70]\tvalidation_0-auc:1\tvalidation_1-auc:0.622807\n",
            "[71]\tvalidation_0-auc:1\tvalidation_1-auc:0.618421\n",
            "[72]\tvalidation_0-auc:1\tvalidation_1-auc:0.618421\n",
            "[73]\tvalidation_0-auc:1\tvalidation_1-auc:0.622807\n",
            "[74]\tvalidation_0-auc:1\tvalidation_1-auc:0.622807\n",
            "[75]\tvalidation_0-auc:1\tvalidation_1-auc:0.618421\n",
            "[76]\tvalidation_0-auc:1\tvalidation_1-auc:0.618421\n",
            "[77]\tvalidation_0-auc:1\tvalidation_1-auc:0.622807\n",
            "[78]\tvalidation_0-auc:1\tvalidation_1-auc:0.622807\n",
            "[79]\tvalidation_0-auc:1\tvalidation_1-auc:0.614035\n",
            "[80]\tvalidation_0-auc:1\tvalidation_1-auc:0.618421\n",
            "[81]\tvalidation_0-auc:1\tvalidation_1-auc:0.618421\n",
            "[82]\tvalidation_0-auc:1\tvalidation_1-auc:0.622807\n",
            "[83]\tvalidation_0-auc:1\tvalidation_1-auc:0.622807\n",
            "[84]\tvalidation_0-auc:1\tvalidation_1-auc:0.618421\n",
            "[85]\tvalidation_0-auc:1\tvalidation_1-auc:0.622807\n",
            "[86]\tvalidation_0-auc:1\tvalidation_1-auc:0.618421\n",
            "[87]\tvalidation_0-auc:1\tvalidation_1-auc:0.618421\n",
            "[88]\tvalidation_0-auc:1\tvalidation_1-auc:0.618421\n",
            "[89]\tvalidation_0-auc:1\tvalidation_1-auc:0.614035\n",
            "[90]\tvalidation_0-auc:1\tvalidation_1-auc:0.622807\n",
            "[91]\tvalidation_0-auc:1\tvalidation_1-auc:0.622807\n",
            "[92]\tvalidation_0-auc:1\tvalidation_1-auc:0.622807\n",
            "[93]\tvalidation_0-auc:1\tvalidation_1-auc:0.618421\n",
            "[94]\tvalidation_0-auc:1\tvalidation_1-auc:0.614035\n",
            "[95]\tvalidation_0-auc:1\tvalidation_1-auc:0.622807\n",
            "[96]\tvalidation_0-auc:1\tvalidation_1-auc:0.622807\n",
            "[97]\tvalidation_0-auc:1\tvalidation_1-auc:0.622807\n",
            "[98]\tvalidation_0-auc:1\tvalidation_1-auc:0.622807\n",
            "[99]\tvalidation_0-auc:1\tvalidation_1-auc:0.627193\n",
            "[100]\tvalidation_0-auc:1\tvalidation_1-auc:0.627193\n",
            "[101]\tvalidation_0-auc:1\tvalidation_1-auc:0.622807\n",
            "[102]\tvalidation_0-auc:1\tvalidation_1-auc:0.622807\n",
            "[103]\tvalidation_0-auc:1\tvalidation_1-auc:0.622807\n",
            "[104]\tvalidation_0-auc:1\tvalidation_1-auc:0.622807\n",
            "[105]\tvalidation_0-auc:1\tvalidation_1-auc:0.622807\n",
            "[106]\tvalidation_0-auc:1\tvalidation_1-auc:0.618421\n",
            "[107]\tvalidation_0-auc:1\tvalidation_1-auc:0.622807\n",
            "[108]\tvalidation_0-auc:1\tvalidation_1-auc:0.627193\n",
            "[109]\tvalidation_0-auc:1\tvalidation_1-auc:0.627193\n",
            "[110]\tvalidation_0-auc:1\tvalidation_1-auc:0.627193\n",
            "[111]\tvalidation_0-auc:1\tvalidation_1-auc:0.627193\n",
            "[112]\tvalidation_0-auc:1\tvalidation_1-auc:0.627193\n",
            "[113]\tvalidation_0-auc:1\tvalidation_1-auc:0.627193\n",
            "[114]\tvalidation_0-auc:1\tvalidation_1-auc:0.631579\n",
            "[115]\tvalidation_0-auc:1\tvalidation_1-auc:0.631579\n",
            "[116]\tvalidation_0-auc:1\tvalidation_1-auc:0.631579\n",
            "[117]\tvalidation_0-auc:1\tvalidation_1-auc:0.631579\n",
            "[118]\tvalidation_0-auc:1\tvalidation_1-auc:0.631579\n",
            "[119]\tvalidation_0-auc:1\tvalidation_1-auc:0.631579\n",
            "[120]\tvalidation_0-auc:1\tvalidation_1-auc:0.640351\n",
            "[121]\tvalidation_0-auc:1\tvalidation_1-auc:0.640351\n",
            "[122]\tvalidation_0-auc:1\tvalidation_1-auc:0.640351\n",
            "[123]\tvalidation_0-auc:1\tvalidation_1-auc:0.653509\n",
            "[124]\tvalidation_0-auc:1\tvalidation_1-auc:0.644737\n",
            "[125]\tvalidation_0-auc:1\tvalidation_1-auc:0.640351\n",
            "[126]\tvalidation_0-auc:1\tvalidation_1-auc:0.640351\n",
            "[127]\tvalidation_0-auc:1\tvalidation_1-auc:0.640351\n",
            "[128]\tvalidation_0-auc:1\tvalidation_1-auc:0.644737\n",
            "[129]\tvalidation_0-auc:1\tvalidation_1-auc:0.644737\n",
            "[130]\tvalidation_0-auc:1\tvalidation_1-auc:0.644737\n",
            "[131]\tvalidation_0-auc:1\tvalidation_1-auc:0.653509\n",
            "[132]\tvalidation_0-auc:1\tvalidation_1-auc:0.653509\n",
            "[133]\tvalidation_0-auc:1\tvalidation_1-auc:0.649123\n",
            "[134]\tvalidation_0-auc:1\tvalidation_1-auc:0.644737\n",
            "[135]\tvalidation_0-auc:1\tvalidation_1-auc:0.644737\n",
            "[136]\tvalidation_0-auc:1\tvalidation_1-auc:0.644737\n",
            "[137]\tvalidation_0-auc:1\tvalidation_1-auc:0.644737\n",
            "[138]\tvalidation_0-auc:1\tvalidation_1-auc:0.644737\n",
            "[139]\tvalidation_0-auc:1\tvalidation_1-auc:0.644737\n",
            "[140]\tvalidation_0-auc:1\tvalidation_1-auc:0.644737\n",
            "[141]\tvalidation_0-auc:1\tvalidation_1-auc:0.644737\n",
            "[142]\tvalidation_0-auc:1\tvalidation_1-auc:0.644737\n",
            "[143]\tvalidation_0-auc:1\tvalidation_1-auc:0.644737\n",
            "[144]\tvalidation_0-auc:1\tvalidation_1-auc:0.635965\n",
            "[145]\tvalidation_0-auc:1\tvalidation_1-auc:0.640351\n",
            "[146]\tvalidation_0-auc:1\tvalidation_1-auc:0.640351\n",
            "[147]\tvalidation_0-auc:1\tvalidation_1-auc:0.644737\n",
            "[148]\tvalidation_0-auc:1\tvalidation_1-auc:0.644737\n",
            "[149]\tvalidation_0-auc:1\tvalidation_1-auc:0.644737\n",
            "[150]\tvalidation_0-auc:1\tvalidation_1-auc:0.644737\n",
            "[151]\tvalidation_0-auc:1\tvalidation_1-auc:0.644737\n",
            "[152]\tvalidation_0-auc:1\tvalidation_1-auc:0.644737\n",
            "[153]\tvalidation_0-auc:1\tvalidation_1-auc:0.653509\n",
            "[154]\tvalidation_0-auc:1\tvalidation_1-auc:0.653509\n",
            "[155]\tvalidation_0-auc:1\tvalidation_1-auc:0.653509\n",
            "[156]\tvalidation_0-auc:1\tvalidation_1-auc:0.649123\n",
            "[157]\tvalidation_0-auc:1\tvalidation_1-auc:0.649123\n",
            "[158]\tvalidation_0-auc:1\tvalidation_1-auc:0.649123\n",
            "[159]\tvalidation_0-auc:1\tvalidation_1-auc:0.640351\n",
            "[160]\tvalidation_0-auc:1\tvalidation_1-auc:0.644737\n",
            "[161]\tvalidation_0-auc:1\tvalidation_1-auc:0.649123\n",
            "[162]\tvalidation_0-auc:1\tvalidation_1-auc:0.644737\n",
            "[163]\tvalidation_0-auc:1\tvalidation_1-auc:0.644737\n",
            "[164]\tvalidation_0-auc:1\tvalidation_1-auc:0.644737\n",
            "[165]\tvalidation_0-auc:1\tvalidation_1-auc:0.644737\n",
            "[166]\tvalidation_0-auc:1\tvalidation_1-auc:0.644737\n",
            "[167]\tvalidation_0-auc:1\tvalidation_1-auc:0.644737\n",
            "[168]\tvalidation_0-auc:1\tvalidation_1-auc:0.644737\n",
            "[169]\tvalidation_0-auc:1\tvalidation_1-auc:0.640351\n",
            "[170]\tvalidation_0-auc:1\tvalidation_1-auc:0.640351\n",
            "[171]\tvalidation_0-auc:1\tvalidation_1-auc:0.649123\n",
            "[172]\tvalidation_0-auc:1\tvalidation_1-auc:0.649123\n",
            "[173]\tvalidation_0-auc:1\tvalidation_1-auc:0.649123\n",
            "[174]\tvalidation_0-auc:1\tvalidation_1-auc:0.649123\n",
            "[175]\tvalidation_0-auc:1\tvalidation_1-auc:0.649123\n",
            "[176]\tvalidation_0-auc:1\tvalidation_1-auc:0.649123\n",
            "[177]\tvalidation_0-auc:1\tvalidation_1-auc:0.649123\n",
            "[178]\tvalidation_0-auc:1\tvalidation_1-auc:0.653509\n",
            "[179]\tvalidation_0-auc:1\tvalidation_1-auc:0.653509\n",
            "[180]\tvalidation_0-auc:1\tvalidation_1-auc:0.653509\n",
            "[181]\tvalidation_0-auc:1\tvalidation_1-auc:0.653509\n",
            "[182]\tvalidation_0-auc:1\tvalidation_1-auc:0.653509\n",
            "[183]\tvalidation_0-auc:1\tvalidation_1-auc:0.653509\n",
            "[184]\tvalidation_0-auc:1\tvalidation_1-auc:0.653509\n",
            "[185]\tvalidation_0-auc:1\tvalidation_1-auc:0.653509\n",
            "[186]\tvalidation_0-auc:1\tvalidation_1-auc:0.653509\n",
            "[187]\tvalidation_0-auc:1\tvalidation_1-auc:0.653509\n",
            "[188]\tvalidation_0-auc:1\tvalidation_1-auc:0.653509\n",
            "[189]\tvalidation_0-auc:1\tvalidation_1-auc:0.653509\n",
            "[190]\tvalidation_0-auc:1\tvalidation_1-auc:0.653509\n",
            "[191]\tvalidation_0-auc:1\tvalidation_1-auc:0.653509\n",
            "[192]\tvalidation_0-auc:1\tvalidation_1-auc:0.653509\n",
            "[193]\tvalidation_0-auc:1\tvalidation_1-auc:0.657895\n",
            "[194]\tvalidation_0-auc:1\tvalidation_1-auc:0.657895\n",
            "[195]\tvalidation_0-auc:1\tvalidation_1-auc:0.657895\n",
            "[196]\tvalidation_0-auc:1\tvalidation_1-auc:0.657895\n",
            "[197]\tvalidation_0-auc:1\tvalidation_1-auc:0.657895\n",
            "[198]\tvalidation_0-auc:1\tvalidation_1-auc:0.657895\n",
            "[199]\tvalidation_0-auc:1\tvalidation_1-auc:0.657895\n",
            "[200]\tvalidation_0-auc:1\tvalidation_1-auc:0.657895\n",
            "Stopping. Best iteration:\n",
            "[0]\tvalidation_0-auc:0.986106\tvalidation_1-auc:0.657895\n",
            "\n",
            "ROC AUC:0.6579\n"
          ]
        }
      ]
    },
    {
      "cell_type": "code",
      "source": [
        "get_clf_eval(y_test, pred=xgb_clf.predict(X_test))"
      ],
      "metadata": {
        "colab": {
          "base_uri": "https://localhost:8080/"
        },
        "id": "ObkdtvXTReZ6",
        "outputId": "c7786b87-9f6a-4837-ff61-356674175479"
      },
      "execution_count": null,
      "outputs": [
        {
          "output_type": "stream",
          "name": "stdout",
          "text": [
            "오차 행렬\n",
            "[[ 1  3]\n",
            " [ 6 51]]\n",
            "정확도 : 0.8525, 정밀도 : 0.9444, 재현율 : 0.8947,   F1 : 0.9189\n"
          ]
        }
      ]
    },
    {
      "cell_type": "markdown",
      "source": [
        "### **2. RandomForest**"
      ],
      "metadata": {
        "id": "M0z4ttuPL3Vf"
      }
    },
    {
      "cell_type": "code",
      "source": [
        "# 랜덤 포레스트 학습 및 별도의 테스트 세트로 예측 성능 평가\n",
        "rf_clf = RandomForestClassifier(random_state=0)\n",
        "rf_clf.fit(X_train, y_train)\n",
        "pred = rf_clf.predict(test_final)"
      ],
      "metadata": {
        "id": "D_V_nWlOXCCd"
      },
      "execution_count": null,
      "outputs": []
    },
    {
      "cell_type": "code",
      "source": [
        "# over 추가\n",
        "\n",
        "params = {\n",
        "    'n_estimators':[100],\n",
        "    'max_depth':[6,8,10,12],\n",
        "    'min_samples_leaf':[8,12,18],\n",
        "    'min_samples_split':[8,16,20]\n",
        "}\n",
        "\n",
        "# RandomForestClassifier 객체 생성 후 GridSearchCV 수행 (n_jobs = -1: 모든 CPU 코어를 이용해 학습)\n",
        "rf_clf = RandomForestClassifier(random_state = 0, n_jobs = -1)\n",
        "grid_cv = GridSearchCV(rf_clf, param_grid = params, cv = 2, n_jobs = -1)\n",
        "grid_cv.fit(X_train, y_train)\n",
        "\n",
        "print('최적 하이퍼 파라미터:\\n', grid_cv.best_params_)\n",
        "print('최고 예측 정확도: {0:.4f}'.format(grid_cv.best_score_))\n"
      ],
      "metadata": {
        "id": "vA6Vv_BTXVbS",
        "colab": {
          "base_uri": "https://localhost:8080/"
        },
        "outputId": "17a68d1e-82db-4d89-c253-06b16585b9d5"
      },
      "execution_count": null,
      "outputs": [
        {
          "output_type": "stream",
          "name": "stdout",
          "text": [
            "최적 하이퍼 파라미터:\n",
            " {'max_depth': 6, 'min_samples_leaf': 8, 'min_samples_split': 8, 'n_estimators': 100}\n",
            "최고 예측 정확도: 0.9542\n"
          ]
        }
      ]
    },
    {
      "cell_type": "code",
      "source": [
        "rf_clf1 = RandomForestClassifier(n_estimators = 300, max_depth = 10, min_samples_leaf = 8, \\\n",
        "                                min_samples_split = 8, random_state = 0)\n",
        "rf_clf1.fit(X_train_over, y_train_over)\n",
        "pred = rf_clf1.predict(test_final)"
      ],
      "metadata": {
        "id": "W6bXhV65Myr7"
      },
      "execution_count": null,
      "outputs": []
    },
    {
      "cell_type": "code",
      "source": [
        "get_clf_eval(y_test, pred=rf_clf1.predict(X_test))"
      ],
      "metadata": {
        "colab": {
          "base_uri": "https://localhost:8080/"
        },
        "id": "KRm0UohRTOCM",
        "outputId": "d1ed04e9-3ced-414c-9937-caf0428c0250"
      },
      "execution_count": null,
      "outputs": [
        {
          "output_type": "stream",
          "name": "stdout",
          "text": [
            "오차 행렬\n",
            "[[ 0  4]\n",
            " [ 1 56]]\n",
            "정확도 : 0.9180, 정밀도 : 0.9333, 재현율 : 0.9825,   F1 : 0.9573\n"
          ]
        }
      ]
    },
    {
      "cell_type": "markdown",
      "source": [
        "**Feature Importance Plot**"
      ],
      "metadata": {
        "id": "q6GkpFjEGfDz"
      }
    },
    {
      "cell_type": "code",
      "source": [
        "ftr_importances_values = rf_clf1.feature_importances_\n",
        "ftr_importances = pd.Series(ftr_importances_values, index = X_train.columns)\n",
        "ftr_top20 = ftr_importances.sort_values(ascending = False)[:20]\n",
        "\n",
        "plt.figure(figsize = (8,6))\n",
        "plt.title('Feature importances Top 20')\n",
        "sns.barplot(x = ftr_top20, y = ftr_top20.index)\n",
        "plt.show()\n"
      ],
      "metadata": {
        "id": "WJf2kB8EM709",
        "colab": {
          "base_uri": "https://localhost:8080/",
          "height": 390
        },
        "outputId": "00d64dd3-3904-4d16-f11e-dea3faf1d025"
      },
      "execution_count": null,
      "outputs": [
        {
          "output_type": "display_data",
          "data": {
            "text/plain": [
              "<Figure size 576x432 with 1 Axes>"
            ],
            "image/png": "[encoded data removed]"
          },
          "metadata": {
            "needs_background": "light"
          }
        }
      ]
    },
    {
      "cell_type": "markdown",
      "source": [
        "### **3. GBM**"
      ],
      "metadata": {
        "id": "kdsCkiNYMc8c"
      }
    },
    {
      "cell_type": "code",
      "source": [
        "# GBM 수행 시간 측정을 위함 시작 시간 설정\n",
        "start_time = time.time()\n",
        "\n",
        "gb_clf = GradientBoostingClassifier(random_state=0)\n",
        "gb_clf.fit(X_train_over, y_train_over)\n",
        "gb_pred = gb_clf.predict(test_final)\n",
        "print('GBM 수행 시간: {0:.1f}초'.format(time.time() - start_time))"
      ],
      "metadata": {
        "id": "fqfEGxPENF46",
        "colab": {
          "base_uri": "https://localhost:8080/"
        },
        "outputId": "483e49b8-5516-4c74-882c-0e231f9e66c4"
      },
      "execution_count": null,
      "outputs": [
        {
          "output_type": "stream",
          "name": "stdout",
          "text": [
            "GBM 수행 시간: 0.6초\n"
          ]
        }
      ]
    },
    {
      "cell_type": "code",
      "source": [
        "params = {\n",
        "    'n_estimators':[100,500],\n",
        "    'learning_rate':[0.05,0.1]\n",
        "}\n",
        "grid_cv = GridSearchCV(gb_clf, param_grid = params, cv = 2, verbose = 1)\n",
        "grid_cv.fit(X_train_over, y_train_over)\n",
        "print('최적 하이퍼 파라미터:\\n', grid_cv.best_params_)\n",
        "print('최고 예측 정확도: {0:.4f}'.format(grid_cv.best_score_))"
      ],
      "metadata": {
        "id": "Zzyb8OenNJ1L",
        "colab": {
          "base_uri": "https://localhost:8080/"
        },
        "outputId": "cbb83479-3530-44bc-824e-746bc0f4ef48"
      },
      "execution_count": null,
      "outputs": [
        {
          "output_type": "stream",
          "name": "stdout",
          "text": [
            "Fitting 2 folds for each of 4 candidates, totalling 8 fits\n",
            "최적 하이퍼 파라미터:\n",
            " {'learning_rate': 0.05, 'n_estimators': 500}\n",
            "최고 예측 정확도: 0.9869\n"
          ]
        }
      ]
    },
    {
      "cell_type": "code",
      "source": [
        "get_clf_eval(y_test, pred=grid_cv.predict(X_test))"
      ],
      "metadata": {
        "colab": {
          "base_uri": "https://localhost:8080/"
        },
        "id": "4y59NY1XTXbn",
        "outputId": "dbe5e852-a715-410c-ae76-2323083dabc0"
      },
      "execution_count": null,
      "outputs": [
        {
          "output_type": "stream",
          "name": "stdout",
          "text": [
            "오차 행렬\n",
            "[[ 0  4]\n",
            " [ 1 56]]\n",
            "정확도 : 0.9180, 정밀도 : 0.9333, 재현율 : 0.9825,   F1 : 0.9573\n"
          ]
        }
      ]
    },
    {
      "cell_type": "markdown",
      "source": [
        "### 결론"
      ],
      "metadata": {
        "id": "YYeYJYa7q7dP"
      }
    },
    {
      "cell_type": "code",
      "source": [
        "# 랜덤포레스트 GridSearchCV를 이용해 최적으로 학습된 estimator로 예측 수행\n",
        "rf_pred =rf_clf1.predict(test_final)"
      ],
      "metadata": {
        "id": "v3DdUEE6sNeB"
      },
      "execution_count": null,
      "outputs": []
    },
    {
      "cell_type": "code",
      "source": [
        "gd_pred=grid_cv.predict(test_final)"
      ],
      "metadata": {
        "id": "-89avPwUThEv"
      },
      "execution_count": null,
      "outputs": []
    },
    {
      "cell_type": "code",
      "source": [
        "smpl_sub = pd.read_csv('/content/drive/MyDrive/YB_2조/미니프로젝트/2. hospital/submission_sample.csv')\n",
        "smpl_sub['OC'] = rf_pred\n",
        "smpl_sub.head()\n",
        "\n",
        "smpl_sub.to_csv('/content/drive/MyDrive/YB_2조/미니프로젝트/2. hospital/submission3.csv', index = False)"
      ],
      "metadata": {
        "id": "p_RpnuD3fLoX"
      },
      "execution_count": null,
      "outputs": []
    }
  ]
}