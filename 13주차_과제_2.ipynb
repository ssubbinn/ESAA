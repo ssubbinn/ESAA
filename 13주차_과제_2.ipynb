{
  "nbformat": 4,
  "nbformat_minor": 0,
  "metadata": {
    "colab": {
      "provenance": [],
      "authorship_tag": "ABX9TyOf2xInWBs198rktvsCg1DF",
      "include_colab_link": true
    },
    "kernelspec": {
      "name": "python3",
      "display_name": "Python 3"
    },
    "language_info": {
      "name": "python"
    }
  },
  "cells": [
    {
      "cell_type": "markdown",
      "metadata": {
        "id": "view-in-github",
        "colab_type": "text"
      },
      "source": [
        "<a href=\"https://colab.research.google.com/github/ssubbinn/ESAA/blob/main/13%EC%A3%BC%EC%B0%A8_%EA%B3%BC%EC%A0%9C_2.ipynb\" target=\"_parent\"><img src=\"https://colab.research.google.com/assets/colab-badge.svg\" alt=\"Open In Colab\"/></a>"
      ]
    },
    {
      "cell_type": "markdown",
      "source": [
        "### 규제 선형 모델 - 릿지, 라쏘, 엘라스틱넷\n",
        "\n",
        "**규제 선형 모델의 개요**\n",
        "\n",
        "최적 모델을 위한 cost 함수 구성요소 = 학습데이터 잔차 오류 최소화 + 회귀 계수 크기 제어"
      ],
      "metadata": {
        "id": "FY8kVW0iQiah"
      }
    },
    {
      "cell_type": "markdown",
      "source": [
        "![화면 캡처 2022-11-27 175102.png](data:image/png;base64,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)"
      ],
      "metadata": {
        "id": "9iGQbWXOSIcM"
      }
    },
    {
      "cell_type": "markdown",
      "source": [
        "alpha : 학습 데이터 적합 정도와 회귀 계수 값의 크기 제어를 수행하는 튜닝 파라미터\n",
        "\n",
        "- alpha가 0이라면 비용 함수 식은 기존과 동일한 Min(RSS(W)+0)\n",
        "\n",
        "- alpha가 무한대라면 비용 함수 식은 RSS(W)에 비해 alpha*|W값이 커지므로 W 값을 매우 작게 만들어야 cost 최소화 가능\n",
        "\n",
        "- 즉, alpha를 0에서부터 지속적으로 값을 증가시키면 회귀 계수 값의 크기를 감소시킬 수 있다.\n",
        "\n",
        "규제(regularizaion) : 비용함수에 alpha 값으로 페널티를 부여해 회귀 계수 값의 크기를 감소시켜 과적함을 개선하는 방식\n",
        "\n",
        "- L2 규제 : W의 제곱에 대해 페널티 부여, L2 규제를 적용한 회귀를 릿지 회귀\n",
        "\n",
        "- L1 규제 : W의 절댓값에 대해 페널티 부여,  L1 규제를 적용한 회귀는 리쏘 회귀\n"
      ],
      "metadata": {
        "id": "FW7w528wSKvQ"
      }
    },
    {
      "cell_type": "markdown",
      "source": [
        "**릿지 회귀**\n",
        "\n",
        "- ridge 클래스를 통해 릿지 회귀 구현. 주요 생성 파라미터는 alpha"
      ],
      "metadata": {
        "id": "EgkP8mRUTolL"
      }
    },
    {
      "cell_type": "code",
      "source": [
        "# import package\n",
        "import numpy as np\n",
        "import matplotlib.pyplot as plt\n",
        "import pandas as pd\n",
        "import seaborn as sns\n",
        "from scipy import stats\n",
        "from sklearn.datasets import load_boston\n",
        "%matplotlib inline\n",
        "\n",
        "import warnings\n",
        "warnings.filterwarnings('ignore')\n",
        "\n",
        "from sklearn.linear_model import Ridge\n",
        "from sklearn.model_selection import cross_val_score\n",
        "\n",
        "\n",
        "boston = load_boston()\n",
        "bostonDF = pd.DataFrame(boston.data, columns = boston.feature_names)\n",
        "bostonDF['PRICE'] = boston.target\n",
        "print('Boston 데이터셋 크기 : ', bostonDF.shape)\n",
        "\n",
        "y_target = bostonDF['PRICE']\n",
        "X_data = bostonDF.drop(['PRICE'], axis = 1, inplace = False)"
      ],
      "metadata": {
        "colab": {
          "base_uri": "https://localhost:8080/"
        },
        "id": "mA8K7lA7_5bT",
        "outputId": "3cdfd436-94c4-4604-d310-cc87edf4d53c"
      },
      "execution_count": 1,
      "outputs": [
        {
          "output_type": "stream",
          "name": "stdout",
          "text": [
            "Boston 데이터셋 크기 :  (506, 14)\n"
          ]
        }
      ]
    },
    {
      "cell_type": "code",
      "source": [
        "# alpha=10으로 설정해 릿지 회귀 수행\n",
        "ridge=Ridge(alpha=10)\n",
        "neg_mse_scores=cross_val_score(ridge, X_data, y_target, scoring=\"neg_mean_squared_error\", cv=5)\n",
        "rmse_scores = np.sqrt(-1*neg_mse_scores)\n",
        "avg_rmse=np.mean(rmse_scores)\n",
        "\n",
        "print('5folds 의 개별 Negative MSE scores:', np.round(neg_mse_scores, 3))\n",
        "print('5folds 의 개별 RMSE scores:', np.round(rmse_scores, 3))\n",
        "print('5folds 의 평균 RMSE: {0:.3f}'.format(avg_rmse))"
      ],
      "metadata": {
        "colab": {
          "base_uri": "https://localhost:8080/"
        },
        "id": "4hlIu9KfQkAk",
        "outputId": "76f8df92-cba2-43e6-99fe-88d2dab650ca"
      },
      "execution_count": 2,
      "outputs": [
        {
          "output_type": "stream",
          "name": "stdout",
          "text": [
            "5folds 의 개별 Negative MSE scores: [-11.422 -24.294 -28.144 -74.599 -28.517]\n",
            "5folds 의 개별 RMSE scores: [3.38  4.929 5.305 8.637 5.34 ]\n",
            "5folds 의 평균 RMSE: 5.518\n"
          ]
        }
      ]
    },
    {
      "cell_type": "markdown",
      "source": [
        "-> 릿지의 5개 폴드 세트의 평균 RMSE가 5.518 앞 규제가 없는 LinearRegression의 rsme평균보다 뛰어난 예측 성능 보임."
      ],
      "metadata": {
        "id": "yPfVcfwBA2dc"
      }
    },
    {
      "cell_type": "code",
      "source": [
        "#alpha값을 변화시키면서 RMSE와 회귀 계수 값 변화 살펴보기.\n",
        "alphas = [0, 0.1, 1, 10, 100]\n",
        "\n",
        "# alphas list 값을 반복하면서 alpha에 따른 평균 rmse 구함\n",
        "for alpha in alphas :\n",
        "    ridge = Ridge(alpha = alpha)\n",
        "\n",
        "    # cross_val_score를 이용하여 5 fold의 평균 RMSE 계산\n",
        "    neg_mse_scores = cross_val_score(ridge, X_data, y_target, scoring = \"neg_mean_squared_error\", cv = 5)\n",
        "    avg_rmse = np.mean(np.sqrt(-1 * neg_mse_scores))\n",
        "    print('alpha {0} 일 때 5 folds의 평균 RMSE : {1:.3f} '.format(alpha,avg_rmse))\n",
        "\n",
        "#alpha가 100일 때 평균 RMSE가 5.332로 가장 좋음"
      ],
      "metadata": {
        "colab": {
          "base_uri": "https://localhost:8080/"
        },
        "id": "6yoOfmBXUyVf",
        "outputId": "23eef5ac-d63b-47a8-aceb-20d1ce4ae1e9"
      },
      "execution_count": 3,
      "outputs": [
        {
          "output_type": "stream",
          "name": "stdout",
          "text": [
            "alpha 0 일 때 5 folds의 평균 RMSE : 5.829 \n",
            "alpha 0.1 일 때 5 folds의 평균 RMSE : 5.788 \n",
            "alpha 1 일 때 5 folds의 평균 RMSE : 5.653 \n",
            "alpha 10 일 때 5 folds의 평균 RMSE : 5.518 \n",
            "alpha 100 일 때 5 folds의 평균 RMSE : 5.330 \n"
          ]
        }
      ]
    },
    {
      "cell_type": "code",
      "source": [
        "#alpha값의 변화에 따른 피처의 회귀 계수 값을 가로 막대 그래프로 시각화\n",
        "\n",
        "#각 alpha에 따른 회귀 계수 값을 시각화하기 위해 5개의 열로 된 맷플롯립 축 생성\n",
        "fig, axs = plt.subplots(figsize = (18 ,6) , nrows = 1 , ncols = 5)\n",
        "\n",
        "# 각 alpha에 따른 회귀 계수 값을 데이터로 저장하기 위한 df생성\n",
        "coeff_df = pd.DataFrame()\n",
        "\n",
        "# alphas 리스트 값을 차례로 입력해 회귀 계수 값 시각화 및 데이터 저장. pos는 axis의 위치 지정\n",
        "for pos , alpha in enumerate(alphas) :\n",
        "    ridge = Ridge(alpha = alpha)\n",
        "    ridge.fit(X_data, y_target)\n",
        "  \n",
        "    # alpha에 따른 Feature 별 회귀 계수를 Series로 변환하고 이를 DataFrame의 컬럼으로 추가 \n",
        "    coeff = pd.Series(data = ridge.coef_, index = X_data.columns )\n",
        "    colname = 'alpha : ' + str(alpha) # Column 이름 설정\n",
        "    coeff_df[colname] = coeff\n",
        "\n",
        "    # 막대 그래프로 각 alpha 값에서의 회귀 계수를 시각화\n",
        "    coeff = coeff.sort_values(ascending = False) # 회귀 계수 값이 높은 순으로 표현\n",
        "    axs[pos].set_title(colname)\n",
        "    axs[pos].set_xlim(-3 ,6)\n",
        "    sns.barplot(x = coeff.values , y = coeff.index, ax = axs[pos])\n",
        "\n",
        "# for 문 밖에서 matplotlib의 show() 호출 및 alpha에 다른 피처별 회귀 계수를 dataframe으로 표시\n",
        "plt.show()"
      ],
      "metadata": {
        "colab": {
          "base_uri": "https://localhost:8080/",
          "height": 373
        },
        "id": "gXqURqvMBKWF",
        "outputId": "c860f9df-2ca2-45be-9ab3-872b3a4bde96"
      },
      "execution_count": 4,
      "outputs": [
        {
          "output_type": "display_data",
          "data": {
            "text/plain": [
              "<Figure size 1296x432 with 5 Axes>"
            ],
            "image/png": "[encoded data removed]"
          },
          "metadata": {
            "needs_background": "light"
          }
        }
      ]
    },
    {
      "cell_type": "markdown",
      "source": [
        "alpha 값을 증가시킬수록 회귀 계수 값은 지속적으로 작아짐. 특히 NOX 피처"
      ],
      "metadata": {
        "id": "3LsgXrpMBT7v"
      }
    },
    {
      "cell_type": "code",
      "source": [
        "ridge_alphas = [0, 0.1, 1, 10, 100]\n",
        "sort_column = 'alpha : ' + str(ridge_alphas[0])\n",
        "coeff_df.sort_values(by = sort_column, ascending = False)"
      ],
      "metadata": {
        "colab": {
          "base_uri": "https://localhost:8080/",
          "height": 457
        },
        "id": "dVFPLsCfBhVz",
        "outputId": "6cd0edd4-a8aa-45de-c3ed-f479ef322f06"
      },
      "execution_count": 5,
      "outputs": [
        {
          "output_type": "execute_result",
          "data": {
            "text/plain": [
              "         alpha : 0  alpha : 0.1  alpha : 1  alpha : 10  alpha : 100\n",
              "RM        3.809865     3.818233   3.854000    3.702272     2.334536\n",
              "CHAS      2.686734     2.670019   2.552393    1.952021     0.638335\n",
              "RAD       0.306049     0.303515   0.290142    0.279596     0.315358\n",
              "ZN        0.046420     0.046572   0.047443    0.049579     0.054496\n",
              "INDUS     0.020559     0.015999  -0.008805   -0.042962    -0.052826\n",
              "B         0.009312     0.009368   0.009673    0.010037     0.009393\n",
              "AGE       0.000692    -0.000269  -0.005415   -0.010707     0.001212\n",
              "TAX      -0.012335    -0.012421  -0.012912   -0.013993    -0.015856\n",
              "CRIM     -0.108011    -0.107474  -0.104595   -0.101435    -0.102202\n",
              "LSTAT    -0.524758    -0.525966  -0.533343   -0.559366    -0.660764\n",
              "PTRATIO  -0.952747    -0.940759  -0.876074   -0.797945    -0.829218\n",
              "DIS      -1.475567    -1.459626  -1.372654   -1.248808    -1.153390\n",
              "NOX     -17.766611   -16.684645 -10.777015   -2.371619    -0.262847"
            ],
            "text/html": [
              "\n",
              "  <div id=\"df-0f92bcbb-8c44-465e-97e6-178116309f8c\">\n",
              "    <div class=\"colab-df-container\">\n",
              "      <div>\n",
              "<style scoped>\n",
              "    .dataframe tbody tr th:only-of-type {\n",
              "        vertical-align: middle;\n",
              "    }\n",
              "\n",
              "    .dataframe tbody tr th {\n",
              "        vertical-align: top;\n",
              "    }\n",
              "\n",
              "    .dataframe thead th {\n",
              "        text-align: right;\n",
              "    }\n",
              "</style>\n",
              "<table border=\"1\" class=\"dataframe\">\n",
              "  <thead>\n",
              "    <tr style=\"text-align: right;\">\n",
              "      <th></th>\n",
              "      <th>alpha : 0</th>\n",
              "      <th>alpha : 0.1</th>\n",
              "      <th>alpha : 1</th>\n",
              "      <th>alpha : 10</th>\n",
              "      <th>alpha : 100</th>\n",
              "    </tr>\n",
              "  </thead>\n",
              "  <tbody>\n",
              "    <tr>\n",
              "      <th>RM</th>\n",
              "      <td>3.809865</td>\n",
              "      <td>3.818233</td>\n",
              "      <td>3.854000</td>\n",
              "      <td>3.702272</td>\n",
              "      <td>2.334536</td>\n",
              "    </tr>\n",
              "    <tr>\n",
              "      <th>CHAS</th>\n",
              "      <td>2.686734</td>\n",
              "      <td>2.670019</td>\n",
              "      <td>2.552393</td>\n",
              "      <td>1.952021</td>\n",
              "      <td>0.638335</td>\n",
              "    </tr>\n",
              "    <tr>\n",
              "      <th>RAD</th>\n",
              "      <td>0.306049</td>\n",
              "      <td>0.303515</td>\n",
              "      <td>0.290142</td>\n",
              "      <td>0.279596</td>\n",
              "      <td>0.315358</td>\n",
              "    </tr>\n",
              "    <tr>\n",
              "      <th>ZN</th>\n",
              "      <td>0.046420</td>\n",
              "      <td>0.046572</td>\n",
              "      <td>0.047443</td>\n",
              "      <td>0.049579</td>\n",
              "      <td>0.054496</td>\n",
              "    </tr>\n",
              "    <tr>\n",
              "      <th>INDUS</th>\n",
              "      <td>0.020559</td>\n",
              "      <td>0.015999</td>\n",
              "      <td>-0.008805</td>\n",
              "      <td>-0.042962</td>\n",
              "      <td>-0.052826</td>\n",
              "    </tr>\n",
              "    <tr>\n",
              "      <th>B</th>\n",
              "      <td>0.009312</td>\n",
              "      <td>0.009368</td>\n",
              "      <td>0.009673</td>\n",
              "      <td>0.010037</td>\n",
              "      <td>0.009393</td>\n",
              "    </tr>\n",
              "    <tr>\n",
              "      <th>AGE</th>\n",
              "      <td>0.000692</td>\n",
              "      <td>-0.000269</td>\n",
              "      <td>-0.005415</td>\n",
              "      <td>-0.010707</td>\n",
              "      <td>0.001212</td>\n",
              "    </tr>\n",
              "    <tr>\n",
              "      <th>TAX</th>\n",
              "      <td>-0.012335</td>\n",
              "      <td>-0.012421</td>\n",
              "      <td>-0.012912</td>\n",
              "      <td>-0.013993</td>\n",
              "      <td>-0.015856</td>\n",
              "    </tr>\n",
              "    <tr>\n",
              "      <th>CRIM</th>\n",
              "      <td>-0.108011</td>\n",
              "      <td>-0.107474</td>\n",
              "      <td>-0.104595</td>\n",
              "      <td>-0.101435</td>\n",
              "      <td>-0.102202</td>\n",
              "    </tr>\n",
              "    <tr>\n",
              "      <th>LSTAT</th>\n",
              "      <td>-0.524758</td>\n",
              "      <td>-0.525966</td>\n",
              "      <td>-0.533343</td>\n",
              "      <td>-0.559366</td>\n",
              "      <td>-0.660764</td>\n",
              "    </tr>\n",
              "    <tr>\n",
              "      <th>PTRATIO</th>\n",
              "      <td>-0.952747</td>\n",
              "      <td>-0.940759</td>\n",
              "      <td>-0.876074</td>\n",
              "      <td>-0.797945</td>\n",
              "      <td>-0.829218</td>\n",
              "    </tr>\n",
              "    <tr>\n",
              "      <th>DIS</th>\n",
              "      <td>-1.475567</td>\n",
              "      <td>-1.459626</td>\n",
              "      <td>-1.372654</td>\n",
              "      <td>-1.248808</td>\n",
              "      <td>-1.153390</td>\n",
              "    </tr>\n",
              "    <tr>\n",
              "      <th>NOX</th>\n",
              "      <td>-17.766611</td>\n",
              "      <td>-16.684645</td>\n",
              "      <td>-10.777015</td>\n",
              "      <td>-2.371619</td>\n",
              "      <td>-0.262847</td>\n",
              "    </tr>\n",
              "  </tbody>\n",
              "</table>\n",
              "</div>\n",
              "      <button class=\"colab-df-convert\" onclick=\"convertToInteractive('df-0f92bcbb-8c44-465e-97e6-178116309f8c')\"\n",
              "              title=\"Convert this dataframe to an interactive table.\"\n",
              "              style=\"display:none;\">\n",
              "        \n",
              "  <svg xmlns=\"http://www.w3.org/2000/svg\" height=\"24px\"viewBox=\"0 0 24 24\"\n",
              "       width=\"24px\">\n",
              "    <path d=\"M0 0h24v24H0V0z\" fill=\"none\"/>\n",
              "    <path d=\"M18.56 5.44l.94 2.06.94-2.06 2.06-.94-2.06-.94-.94-2.06-.94 2.06-2.06.94zm-11 1L8.5 8.5l.94-2.06 2.06-.94-2.06-.94L8.5 2.5l-.94 2.06-2.06.94zm10 10l.94 2.06.94-2.06 2.06-.94-2.06-.94-.94-2.06-.94 2.06-2.06.94z\"/><path d=\"M17.41 7.96l-1.37-1.37c-.4-.4-.92-.59-1.43-.59-.52 0-1.04.2-1.43.59L10.3 9.45l-7.72 7.72c-.78.78-.78 2.05 0 2.83L4 21.41c.39.39.9.59 1.41.59.51 0 1.02-.2 1.41-.59l7.78-7.78 2.81-2.81c.8-.78.8-2.07 0-2.86zM5.41 20L4 18.59l7.72-7.72 1.47 1.35L5.41 20z\"/>\n",
              "  </svg>\n",
              "      </button>\n",
              "      \n",
              "  <style>\n",
              "    .colab-df-container {\n",
              "      display:flex;\n",
              "      flex-wrap:wrap;\n",
              "      gap: 12px;\n",
              "    }\n",
              "\n",
              "    .colab-df-convert {\n",
              "      background-color: #E8F0FE;\n",
              "      border: none;\n",
              "      border-radius: 50%;\n",
              "      cursor: pointer;\n",
              "      display: none;\n",
              "      fill: #1967D2;\n",
              "      height: 32px;\n",
              "      padding: 0 0 0 0;\n",
              "      width: 32px;\n",
              "    }\n",
              "\n",
              "    .colab-df-convert:hover {\n",
              "      background-color: #E2EBFA;\n",
              "      box-shadow: 0px 1px 2px rgba(60, 64, 67, 0.3), 0px 1px 3px 1px rgba(60, 64, 67, 0.15);\n",
              "      fill: #174EA6;\n",
              "    }\n",
              "\n",
              "    [theme=dark] .colab-df-convert {\n",
              "      background-color: #3B4455;\n",
              "      fill: #D2E3FC;\n",
              "    }\n",
              "\n",
              "    [theme=dark] .colab-df-convert:hover {\n",
              "      background-color: #434B5C;\n",
              "      box-shadow: 0px 1px 3px 1px rgba(0, 0, 0, 0.15);\n",
              "      filter: drop-shadow(0px 1px 2px rgba(0, 0, 0, 0.3));\n",
              "      fill: #FFFFFF;\n",
              "    }\n",
              "  </style>\n",
              "\n",
              "      <script>\n",
              "        const buttonEl =\n",
              "          document.querySelector('#df-0f92bcbb-8c44-465e-97e6-178116309f8c button.colab-df-convert');\n",
              "        buttonEl.style.display =\n",
              "          google.colab.kernel.accessAllowed ? 'block' : 'none';\n",
              "\n",
              "        async function convertToInteractive(key) {\n",
              "          const element = document.querySelector('#df-0f92bcbb-8c44-465e-97e6-178116309f8c');\n",
              "          const dataTable =\n",
              "            await google.colab.kernel.invokeFunction('convertToInteractive',\n",
              "                                                     [key], {});\n",
              "          if (!dataTable) return;\n",
              "\n",
              "          const docLinkHtml = 'Like what you see? Visit the ' +\n",
              "            '<a target=\"_blank\" href=https://colab.research.google.com/notebooks/data_table.ipynb>data table notebook</a>'\n",
              "            + ' to learn more about interactive tables.';\n",
              "          element.innerHTML = '';\n",
              "          dataTable['output_type'] = 'display_data';\n",
              "          await google.colab.output.renderOutput(dataTable, element);\n",
              "          const docLink = document.createElement('div');\n",
              "          docLink.innerHTML = docLinkHtml;\n",
              "          element.appendChild(docLink);\n",
              "        }\n",
              "      </script>\n",
              "    </div>\n",
              "  </div>\n",
              "  "
            ]
          },
          "metadata": {},
          "execution_count": 5
        }
      ]
    },
    {
      "cell_type": "markdown",
      "source": [
        "alpha 값이 증가하면서 회귀 계수가 지속적으로 작아지고 있음, 0으로 만들지는 않음\n",
        "\n",
        "**라쏘 회귀**\n",
        "\n",
        ": L1규제를 선형회귀에 적용한 것\n",
        "\n",
        "- L2 규제가 회귀 계수의 크기를 감소시키는 데 반해, L1 규제는 불필요한 회귀 계수를 급격하게 감소시켜 0으로 만들고 제거"
      ],
      "metadata": {
        "id": "w9kdp3vdCCmp"
      }
    },
    {
      "cell_type": "code",
      "source": [
        "from sklearn.linear_model import Lasso, ElasticNet\n",
        "\n",
        "# alpha값에 따른 회귀 모델의 폴드 평균 RMSE를 출력하고 회귀 계수값들을 DataFrame으로 반환 \n",
        "def get_linear_reg_eval(model_name, params=None, X_data_n=None, y_target_n=None, verbose=True, return_coeff=True):\n",
        "    coeff_df = pd.DataFrame()\n",
        "    if verbose : print('####### ', model_name , '#######')\n",
        "    for param in params:\n",
        "        if model_name =='Ridge': model = Ridge(alpha = param)\n",
        "        elif model_name =='Lasso': model = Lasso(alpha = param)\n",
        "        elif model_name =='ElasticNet': model = ElasticNet(alpha = param, l1_ratio = 0.7)\n",
        "        neg_mse_scores = cross_val_score(model, X_data_n, y_target_n, scoring = \"neg_mean_squared_error\", cv = 5)\n",
        "        avg_rmse = np.mean(np.sqrt(-1 * neg_mse_scores))\n",
        "        print('alpha {0}일 때 5 폴드 세트의 평균 RMSE : {1:.3f} '.format(param, avg_rmse))\n",
        "        # cross_val_score는 evaluation metric만 반환하므로 모델을 다시 학습하여 회귀 계수 추출\n",
        "        \n",
        "        model.fit(X_data_n , y_target_n)\n",
        "        if return_coeff:\n",
        "            # alpha에 따른 피처별 회귀 계수를 Series로 변환하고 이를 DataFrame의 컬럼으로 추가. \n",
        "            coeff = pd.Series(data = model.coef_ , index = X_data_n.columns )\n",
        "            colname ='alpha : ' + str(param)\n",
        "            coeff_df[colname] = coeff\n",
        "    \n",
        "    return coeff_df\n",
        "# end of get_linear_regre_eval"
      ],
      "metadata": {
        "id": "slCQj8MxCLQU"
      },
      "execution_count": 6,
      "outputs": []
    },
    {
      "cell_type": "code",
      "source": [
        "# 라쏘에 사용될 alpha 파라미터의 값들을 정의하고 get_linear_reg_eval() 함수 호출\n",
        "lasso_alphas = [0.07, 0.1, 0.5, 1, 3]\n",
        "coeff_lasso_df = get_linear_reg_eval('Lasso', params = lasso_alphas, X_data_n = X_data, y_target_n = y_target)"
      ],
      "metadata": {
        "colab": {
          "base_uri": "https://localhost:8080/"
        },
        "id": "FwAVcwFVC4xE",
        "outputId": "c7b70ad3-59ff-4d53-de58-b2b2861c3dcb"
      },
      "execution_count": 7,
      "outputs": [
        {
          "output_type": "stream",
          "name": "stdout",
          "text": [
            "#######  Lasso #######\n",
            "alpha 0.07일 때 5 폴드 세트의 평균 RMSE : 5.612 \n",
            "alpha 0.1일 때 5 폴드 세트의 평균 RMSE : 5.615 \n",
            "alpha 0.5일 때 5 폴드 세트의 평균 RMSE : 5.669 \n",
            "alpha 1일 때 5 폴드 세트의 평균 RMSE : 5.776 \n",
            "alpha 3일 때 5 폴드 세트의 평균 RMSE : 6.189 \n"
          ]
        }
      ]
    },
    {
      "cell_type": "markdown",
      "source": [
        "alpha가 0.07일 때 가장 좋은 평균 RMSE를 보여줌 5.612"
      ],
      "metadata": {
        "id": "N603hoTKC8vC"
      }
    },
    {
      "cell_type": "code",
      "source": [
        "# alpha 값에 따른 피처별 회귀 계수\n",
        "# 반환된 coeff_lasso_df를 첫번째 Column 순으로 내림차순 정렬하여 회귀계수 DataFrame 력\n",
        "sort_column = 'alpha : ' + str(lasso_alphas[0])\n",
        "coeff_lasso_df.sort_values(by = sort_column, ascending = False)"
      ],
      "metadata": {
        "colab": {
          "base_uri": "https://localhost:8080/",
          "height": 457
        },
        "id": "PsBBshTxDGSb",
        "outputId": "2ae91a61-8b95-45dd-c067-f9f9af7eebc9"
      },
      "execution_count": 8,
      "outputs": [
        {
          "output_type": "execute_result",
          "data": {
            "text/plain": [
              "         alpha : 0.07  alpha : 0.1  alpha : 0.5  alpha : 1  alpha : 3\n",
              "RM           3.789725     3.703202     2.498212   0.949811   0.000000\n",
              "CHAS         1.434343     0.955190     0.000000   0.000000   0.000000\n",
              "RAD          0.270936     0.274707     0.277451   0.264206   0.061864\n",
              "ZN           0.049059     0.049211     0.049544   0.049165   0.037231\n",
              "B            0.010248     0.010249     0.009469   0.008247   0.006510\n",
              "NOX         -0.000000    -0.000000    -0.000000  -0.000000   0.000000\n",
              "AGE         -0.011706    -0.010037     0.003604   0.020910   0.042495\n",
              "TAX         -0.014290    -0.014570    -0.015442  -0.015212  -0.008602\n",
              "INDUS       -0.042120    -0.036619    -0.005253  -0.000000  -0.000000\n",
              "CRIM        -0.098193    -0.097894    -0.083289  -0.063437  -0.000000\n",
              "LSTAT       -0.560431    -0.568769    -0.656290  -0.761115  -0.807679\n",
              "PTRATIO     -0.765107    -0.770654    -0.758752  -0.722966  -0.265072\n",
              "DIS         -1.176583    -1.160538    -0.936605  -0.668790  -0.000000"
            ],
            "text/html": [
              "\n",
              "  <div id=\"df-6347de3e-f0d6-477d-8fb5-1b684f73ca21\">\n",
              "    <div class=\"colab-df-container\">\n",
              "      <div>\n",
              "<style scoped>\n",
              "    .dataframe tbody tr th:only-of-type {\n",
              "        vertical-align: middle;\n",
              "    }\n",
              "\n",
              "    .dataframe tbody tr th {\n",
              "        vertical-align: top;\n",
              "    }\n",
              "\n",
              "    .dataframe thead th {\n",
              "        text-align: right;\n",
              "    }\n",
              "</style>\n",
              "<table border=\"1\" class=\"dataframe\">\n",
              "  <thead>\n",
              "    <tr style=\"text-align: right;\">\n",
              "      <th></th>\n",
              "      <th>alpha : 0.07</th>\n",
              "      <th>alpha : 0.1</th>\n",
              "      <th>alpha : 0.5</th>\n",
              "      <th>alpha : 1</th>\n",
              "      <th>alpha : 3</th>\n",
              "    </tr>\n",
              "  </thead>\n",
              "  <tbody>\n",
              "    <tr>\n",
              "      <th>RM</th>\n",
              "      <td>3.789725</td>\n",
              "      <td>3.703202</td>\n",
              "      <td>2.498212</td>\n",
              "      <td>0.949811</td>\n",
              "      <td>0.000000</td>\n",
              "    </tr>\n",
              "    <tr>\n",
              "      <th>CHAS</th>\n",
              "      <td>1.434343</td>\n",
              "      <td>0.955190</td>\n",
              "      <td>0.000000</td>\n",
              "      <td>0.000000</td>\n",
              "      <td>0.000000</td>\n",
              "    </tr>\n",
              "    <tr>\n",
              "      <th>RAD</th>\n",
              "      <td>0.270936</td>\n",
              "      <td>0.274707</td>\n",
              "      <td>0.277451</td>\n",
              "      <td>0.264206</td>\n",
              "      <td>0.061864</td>\n",
              "    </tr>\n",
              "    <tr>\n",
              "      <th>ZN</th>\n",
              "      <td>0.049059</td>\n",
              "      <td>0.049211</td>\n",
              "      <td>0.049544</td>\n",
              "      <td>0.049165</td>\n",
              "      <td>0.037231</td>\n",
              "    </tr>\n",
              "    <tr>\n",
              "      <th>B</th>\n",
              "      <td>0.010248</td>\n",
              "      <td>0.010249</td>\n",
              "      <td>0.009469</td>\n",
              "      <td>0.008247</td>\n",
              "      <td>0.006510</td>\n",
              "    </tr>\n",
              "    <tr>\n",
              "      <th>NOX</th>\n",
              "      <td>-0.000000</td>\n",
              "      <td>-0.000000</td>\n",
              "      <td>-0.000000</td>\n",
              "      <td>-0.000000</td>\n",
              "      <td>0.000000</td>\n",
              "    </tr>\n",
              "    <tr>\n",
              "      <th>AGE</th>\n",
              "      <td>-0.011706</td>\n",
              "      <td>-0.010037</td>\n",
              "      <td>0.003604</td>\n",
              "      <td>0.020910</td>\n",
              "      <td>0.042495</td>\n",
              "    </tr>\n",
              "    <tr>\n",
              "      <th>TAX</th>\n",
              "      <td>-0.014290</td>\n",
              "      <td>-0.014570</td>\n",
              "      <td>-0.015442</td>\n",
              "      <td>-0.015212</td>\n",
              "      <td>-0.008602</td>\n",
              "    </tr>\n",
              "    <tr>\n",
              "      <th>INDUS</th>\n",
              "      <td>-0.042120</td>\n",
              "      <td>-0.036619</td>\n",
              "      <td>-0.005253</td>\n",
              "      <td>-0.000000</td>\n",
              "      <td>-0.000000</td>\n",
              "    </tr>\n",
              "    <tr>\n",
              "      <th>CRIM</th>\n",
              "      <td>-0.098193</td>\n",
              "      <td>-0.097894</td>\n",
              "      <td>-0.083289</td>\n",
              "      <td>-0.063437</td>\n",
              "      <td>-0.000000</td>\n",
              "    </tr>\n",
              "    <tr>\n",
              "      <th>LSTAT</th>\n",
              "      <td>-0.560431</td>\n",
              "      <td>-0.568769</td>\n",
              "      <td>-0.656290</td>\n",
              "      <td>-0.761115</td>\n",
              "      <td>-0.807679</td>\n",
              "    </tr>\n",
              "    <tr>\n",
              "      <th>PTRATIO</th>\n",
              "      <td>-0.765107</td>\n",
              "      <td>-0.770654</td>\n",
              "      <td>-0.758752</td>\n",
              "      <td>-0.722966</td>\n",
              "      <td>-0.265072</td>\n",
              "    </tr>\n",
              "    <tr>\n",
              "      <th>DIS</th>\n",
              "      <td>-1.176583</td>\n",
              "      <td>-1.160538</td>\n",
              "      <td>-0.936605</td>\n",
              "      <td>-0.668790</td>\n",
              "      <td>-0.000000</td>\n",
              "    </tr>\n",
              "  </tbody>\n",
              "</table>\n",
              "</div>\n",
              "      <button class=\"colab-df-convert\" onclick=\"convertToInteractive('df-6347de3e-f0d6-477d-8fb5-1b684f73ca21')\"\n",
              "              title=\"Convert this dataframe to an interactive table.\"\n",
              "              style=\"display:none;\">\n",
              "        \n",
              "  <svg xmlns=\"http://www.w3.org/2000/svg\" height=\"24px\"viewBox=\"0 0 24 24\"\n",
              "       width=\"24px\">\n",
              "    <path d=\"M0 0h24v24H0V0z\" fill=\"none\"/>\n",
              "    <path d=\"M18.56 5.44l.94 2.06.94-2.06 2.06-.94-2.06-.94-.94-2.06-.94 2.06-2.06.94zm-11 1L8.5 8.5l.94-2.06 2.06-.94-2.06-.94L8.5 2.5l-.94 2.06-2.06.94zm10 10l.94 2.06.94-2.06 2.06-.94-2.06-.94-.94-2.06-.94 2.06-2.06.94z\"/><path d=\"M17.41 7.96l-1.37-1.37c-.4-.4-.92-.59-1.43-.59-.52 0-1.04.2-1.43.59L10.3 9.45l-7.72 7.72c-.78.78-.78 2.05 0 2.83L4 21.41c.39.39.9.59 1.41.59.51 0 1.02-.2 1.41-.59l7.78-7.78 2.81-2.81c.8-.78.8-2.07 0-2.86zM5.41 20L4 18.59l7.72-7.72 1.47 1.35L5.41 20z\"/>\n",
              "  </svg>\n",
              "      </button>\n",
              "      \n",
              "  <style>\n",
              "    .colab-df-container {\n",
              "      display:flex;\n",
              "      flex-wrap:wrap;\n",
              "      gap: 12px;\n",
              "    }\n",
              "\n",
              "    .colab-df-convert {\n",
              "      background-color: #E8F0FE;\n",
              "      border: none;\n",
              "      border-radius: 50%;\n",
              "      cursor: pointer;\n",
              "      display: none;\n",
              "      fill: #1967D2;\n",
              "      height: 32px;\n",
              "      padding: 0 0 0 0;\n",
              "      width: 32px;\n",
              "    }\n",
              "\n",
              "    .colab-df-convert:hover {\n",
              "      background-color: #E2EBFA;\n",
              "      box-shadow: 0px 1px 2px rgba(60, 64, 67, 0.3), 0px 1px 3px 1px rgba(60, 64, 67, 0.15);\n",
              "      fill: #174EA6;\n",
              "    }\n",
              "\n",
              "    [theme=dark] .colab-df-convert {\n",
              "      background-color: #3B4455;\n",
              "      fill: #D2E3FC;\n",
              "    }\n",
              "\n",
              "    [theme=dark] .colab-df-convert:hover {\n",
              "      background-color: #434B5C;\n",
              "      box-shadow: 0px 1px 3px 1px rgba(0, 0, 0, 0.15);\n",
              "      filter: drop-shadow(0px 1px 2px rgba(0, 0, 0, 0.3));\n",
              "      fill: #FFFFFF;\n",
              "    }\n",
              "  </style>\n",
              "\n",
              "      <script>\n",
              "        const buttonEl =\n",
              "          document.querySelector('#df-6347de3e-f0d6-477d-8fb5-1b684f73ca21 button.colab-df-convert');\n",
              "        buttonEl.style.display =\n",
              "          google.colab.kernel.accessAllowed ? 'block' : 'none';\n",
              "\n",
              "        async function convertToInteractive(key) {\n",
              "          const element = document.querySelector('#df-6347de3e-f0d6-477d-8fb5-1b684f73ca21');\n",
              "          const dataTable =\n",
              "            await google.colab.kernel.invokeFunction('convertToInteractive',\n",
              "                                                     [key], {});\n",
              "          if (!dataTable) return;\n",
              "\n",
              "          const docLinkHtml = 'Like what you see? Visit the ' +\n",
              "            '<a target=\"_blank\" href=https://colab.research.google.com/notebooks/data_table.ipynb>data table notebook</a>'\n",
              "            + ' to learn more about interactive tables.';\n",
              "          element.innerHTML = '';\n",
              "          dataTable['output_type'] = 'display_data';\n",
              "          await google.colab.output.renderOutput(dataTable, element);\n",
              "          const docLink = document.createElement('div');\n",
              "          docLink.innerHTML = docLinkHtml;\n",
              "          element.appendChild(docLink);\n",
              "        }\n",
              "      </script>\n",
              "    </div>\n",
              "  </div>\n",
              "  "
            ]
          },
          "metadata": {},
          "execution_count": 8
        }
      ]
    },
    {
      "cell_type": "markdown",
      "source": [
        "alpha의 크기가 증가함에 따라 일부 피쳐의 회귀 계수는 0으로 바뀜 -> 피쳐 선택의 효과\n",
        "\n",
        "**엘라스틱넷 회귀**\n",
        "\n",
        ": L2 규제와 L1 규제를 결합한 회귀\n",
        "\n",
        "- 엘라스틱넷의 규제는 a*L1 + b*L2, a는 L1 규제의 alpha값, b는 L2규제의 alpha 값\n",
        "- alpha 파라미터 값은 a+b, l1_ratio 파라미터 값은 a/(a+b)"
      ],
      "metadata": {
        "id": "QqnjAx6iDP-8"
      }
    },
    {
      "cell_type": "code",
      "source": [
        "# 엘라스틱넷에 사용될 alpha 파라미터의 값들을 정의 하고 get_linear_reg_eval()함수 호출\n",
        "# l1_ratio는 0.7로 고정\n",
        "elastic_alphas = [ 0.07, 0.1, 0.5, 1, 3]\n",
        "coeff_elastic_df = get_linear_reg_eval('ElasticNet', params = elastic_alphas, X_data_n = X_data, y_target_n = y_target)"
      ],
      "metadata": {
        "colab": {
          "base_uri": "https://localhost:8080/"
        },
        "id": "tmZVGRTCOsmZ",
        "outputId": "276d1085-1558-4949-e9db-72a1d4d56691"
      },
      "execution_count": 9,
      "outputs": [
        {
          "output_type": "stream",
          "name": "stdout",
          "text": [
            "#######  ElasticNet #######\n",
            "alpha 0.07일 때 5 폴드 세트의 평균 RMSE : 5.542 \n",
            "alpha 0.1일 때 5 폴드 세트의 평균 RMSE : 5.526 \n",
            "alpha 0.5일 때 5 폴드 세트의 평균 RMSE : 5.467 \n",
            "alpha 1일 때 5 폴드 세트의 평균 RMSE : 5.597 \n",
            "alpha 3일 때 5 폴드 세트의 평균 RMSE : 6.068 \n"
          ]
        }
      ]
    },
    {
      "cell_type": "code",
      "source": [
        "# 반환된 coeff_elastic_df를 내림차순 정렬하여 회귀계수 DataFrame 출력\n",
        "sort_column = 'alpha : ' + str(elastic_alphas[0])\n",
        "coeff_elastic_df.sort_values(by = sort_column, ascending = False)"
      ],
      "metadata": {
        "colab": {
          "base_uri": "https://localhost:8080/",
          "height": 457
        },
        "id": "i0hozb4pOurL",
        "outputId": "ed131af3-24c4-49a7-d6fa-2ab57fd2b1cd"
      },
      "execution_count": 10,
      "outputs": [
        {
          "output_type": "execute_result",
          "data": {
            "text/plain": [
              "         alpha : 0.07  alpha : 0.1  alpha : 0.5  alpha : 1  alpha : 3\n",
              "RM           3.574162     3.414154     1.918419   0.938789   0.000000\n",
              "CHAS         1.330724     0.979706     0.000000   0.000000   0.000000\n",
              "RAD          0.278880     0.283443     0.300761   0.289299   0.146846\n",
              "ZN           0.050107     0.050617     0.052878   0.052136   0.038268\n",
              "B            0.010122     0.010067     0.009114   0.008320   0.007020\n",
              "AGE         -0.010116    -0.008276     0.007760   0.020348   0.043446\n",
              "TAX         -0.014522    -0.014814    -0.016046  -0.016218  -0.011417\n",
              "INDUS       -0.044855    -0.042719    -0.023252  -0.000000  -0.000000\n",
              "CRIM        -0.099468    -0.099213    -0.089070  -0.073577  -0.019058\n",
              "NOX         -0.175072    -0.000000    -0.000000  -0.000000  -0.000000\n",
              "LSTAT       -0.574822    -0.587702    -0.693861  -0.760457  -0.800368\n",
              "PTRATIO     -0.779498    -0.784725    -0.790969  -0.738672  -0.423065\n",
              "DIS         -1.189438    -1.173647    -0.975902  -0.725174  -0.031208"
            ],
            "text/html": [
              "\n",
              "  <div id=\"df-04583e45-c4eb-4b3b-b8d5-bf3aa526ecdb\">\n",
              "    <div class=\"colab-df-container\">\n",
              "      <div>\n",
              "<style scoped>\n",
              "    .dataframe tbody tr th:only-of-type {\n",
              "        vertical-align: middle;\n",
              "    }\n",
              "\n",
              "    .dataframe tbody tr th {\n",
              "        vertical-align: top;\n",
              "    }\n",
              "\n",
              "    .dataframe thead th {\n",
              "        text-align: right;\n",
              "    }\n",
              "</style>\n",
              "<table border=\"1\" class=\"dataframe\">\n",
              "  <thead>\n",
              "    <tr style=\"text-align: right;\">\n",
              "      <th></th>\n",
              "      <th>alpha : 0.07</th>\n",
              "      <th>alpha : 0.1</th>\n",
              "      <th>alpha : 0.5</th>\n",
              "      <th>alpha : 1</th>\n",
              "      <th>alpha : 3</th>\n",
              "    </tr>\n",
              "  </thead>\n",
              "  <tbody>\n",
              "    <tr>\n",
              "      <th>RM</th>\n",
              "      <td>3.574162</td>\n",
              "      <td>3.414154</td>\n",
              "      <td>1.918419</td>\n",
              "      <td>0.938789</td>\n",
              "      <td>0.000000</td>\n",
              "    </tr>\n",
              "    <tr>\n",
              "      <th>CHAS</th>\n",
              "      <td>1.330724</td>\n",
              "      <td>0.979706</td>\n",
              "      <td>0.000000</td>\n",
              "      <td>0.000000</td>\n",
              "      <td>0.000000</td>\n",
              "    </tr>\n",
              "    <tr>\n",
              "      <th>RAD</th>\n",
              "      <td>0.278880</td>\n",
              "      <td>0.283443</td>\n",
              "      <td>0.300761</td>\n",
              "      <td>0.289299</td>\n",
              "      <td>0.146846</td>\n",
              "    </tr>\n",
              "    <tr>\n",
              "      <th>ZN</th>\n",
              "      <td>0.050107</td>\n",
              "      <td>0.050617</td>\n",
              "      <td>0.052878</td>\n",
              "      <td>0.052136</td>\n",
              "      <td>0.038268</td>\n",
              "    </tr>\n",
              "    <tr>\n",
              "      <th>B</th>\n",
              "      <td>0.010122</td>\n",
              "      <td>0.010067</td>\n",
              "      <td>0.009114</td>\n",
              "      <td>0.008320</td>\n",
              "      <td>0.007020</td>\n",
              "    </tr>\n",
              "    <tr>\n",
              "      <th>AGE</th>\n",
              "      <td>-0.010116</td>\n",
              "      <td>-0.008276</td>\n",
              "      <td>0.007760</td>\n",
              "      <td>0.020348</td>\n",
              "      <td>0.043446</td>\n",
              "    </tr>\n",
              "    <tr>\n",
              "      <th>TAX</th>\n",
              "      <td>-0.014522</td>\n",
              "      <td>-0.014814</td>\n",
              "      <td>-0.016046</td>\n",
              "      <td>-0.016218</td>\n",
              "      <td>-0.011417</td>\n",
              "    </tr>\n",
              "    <tr>\n",
              "      <th>INDUS</th>\n",
              "      <td>-0.044855</td>\n",
              "      <td>-0.042719</td>\n",
              "      <td>-0.023252</td>\n",
              "      <td>-0.000000</td>\n",
              "      <td>-0.000000</td>\n",
              "    </tr>\n",
              "    <tr>\n",
              "      <th>CRIM</th>\n",
              "      <td>-0.099468</td>\n",
              "      <td>-0.099213</td>\n",
              "      <td>-0.089070</td>\n",
              "      <td>-0.073577</td>\n",
              "      <td>-0.019058</td>\n",
              "    </tr>\n",
              "    <tr>\n",
              "      <th>NOX</th>\n",
              "      <td>-0.175072</td>\n",
              "      <td>-0.000000</td>\n",
              "      <td>-0.000000</td>\n",
              "      <td>-0.000000</td>\n",
              "      <td>-0.000000</td>\n",
              "    </tr>\n",
              "    <tr>\n",
              "      <th>LSTAT</th>\n",
              "      <td>-0.574822</td>\n",
              "      <td>-0.587702</td>\n",
              "      <td>-0.693861</td>\n",
              "      <td>-0.760457</td>\n",
              "      <td>-0.800368</td>\n",
              "    </tr>\n",
              "    <tr>\n",
              "      <th>PTRATIO</th>\n",
              "      <td>-0.779498</td>\n",
              "      <td>-0.784725</td>\n",
              "      <td>-0.790969</td>\n",
              "      <td>-0.738672</td>\n",
              "      <td>-0.423065</td>\n",
              "    </tr>\n",
              "    <tr>\n",
              "      <th>DIS</th>\n",
              "      <td>-1.189438</td>\n",
              "      <td>-1.173647</td>\n",
              "      <td>-0.975902</td>\n",
              "      <td>-0.725174</td>\n",
              "      <td>-0.031208</td>\n",
              "    </tr>\n",
              "  </tbody>\n",
              "</table>\n",
              "</div>\n",
              "      <button class=\"colab-df-convert\" onclick=\"convertToInteractive('df-04583e45-c4eb-4b3b-b8d5-bf3aa526ecdb')\"\n",
              "              title=\"Convert this dataframe to an interactive table.\"\n",
              "              style=\"display:none;\">\n",
              "        \n",
              "  <svg xmlns=\"http://www.w3.org/2000/svg\" height=\"24px\"viewBox=\"0 0 24 24\"\n",
              "       width=\"24px\">\n",
              "    <path d=\"M0 0h24v24H0V0z\" fill=\"none\"/>\n",
              "    <path d=\"M18.56 5.44l.94 2.06.94-2.06 2.06-.94-2.06-.94-.94-2.06-.94 2.06-2.06.94zm-11 1L8.5 8.5l.94-2.06 2.06-.94-2.06-.94L8.5 2.5l-.94 2.06-2.06.94zm10 10l.94 2.06.94-2.06 2.06-.94-2.06-.94-.94-2.06-.94 2.06-2.06.94z\"/><path d=\"M17.41 7.96l-1.37-1.37c-.4-.4-.92-.59-1.43-.59-.52 0-1.04.2-1.43.59L10.3 9.45l-7.72 7.72c-.78.78-.78 2.05 0 2.83L4 21.41c.39.39.9.59 1.41.59.51 0 1.02-.2 1.41-.59l7.78-7.78 2.81-2.81c.8-.78.8-2.07 0-2.86zM5.41 20L4 18.59l7.72-7.72 1.47 1.35L5.41 20z\"/>\n",
              "  </svg>\n",
              "      </button>\n",
              "      \n",
              "  <style>\n",
              "    .colab-df-container {\n",
              "      display:flex;\n",
              "      flex-wrap:wrap;\n",
              "      gap: 12px;\n",
              "    }\n",
              "\n",
              "    .colab-df-convert {\n",
              "      background-color: #E8F0FE;\n",
              "      border: none;\n",
              "      border-radius: 50%;\n",
              "      cursor: pointer;\n",
              "      display: none;\n",
              "      fill: #1967D2;\n",
              "      height: 32px;\n",
              "      padding: 0 0 0 0;\n",
              "      width: 32px;\n",
              "    }\n",
              "\n",
              "    .colab-df-convert:hover {\n",
              "      background-color: #E2EBFA;\n",
              "      box-shadow: 0px 1px 2px rgba(60, 64, 67, 0.3), 0px 1px 3px 1px rgba(60, 64, 67, 0.15);\n",
              "      fill: #174EA6;\n",
              "    }\n",
              "\n",
              "    [theme=dark] .colab-df-convert {\n",
              "      background-color: #3B4455;\n",
              "      fill: #D2E3FC;\n",
              "    }\n",
              "\n",
              "    [theme=dark] .colab-df-convert:hover {\n",
              "      background-color: #434B5C;\n",
              "      box-shadow: 0px 1px 3px 1px rgba(0, 0, 0, 0.15);\n",
              "      filter: drop-shadow(0px 1px 2px rgba(0, 0, 0, 0.3));\n",
              "      fill: #FFFFFF;\n",
              "    }\n",
              "  </style>\n",
              "\n",
              "      <script>\n",
              "        const buttonEl =\n",
              "          document.querySelector('#df-04583e45-c4eb-4b3b-b8d5-bf3aa526ecdb button.colab-df-convert');\n",
              "        buttonEl.style.display =\n",
              "          google.colab.kernel.accessAllowed ? 'block' : 'none';\n",
              "\n",
              "        async function convertToInteractive(key) {\n",
              "          const element = document.querySelector('#df-04583e45-c4eb-4b3b-b8d5-bf3aa526ecdb');\n",
              "          const dataTable =\n",
              "            await google.colab.kernel.invokeFunction('convertToInteractive',\n",
              "                                                     [key], {});\n",
              "          if (!dataTable) return;\n",
              "\n",
              "          const docLinkHtml = 'Like what you see? Visit the ' +\n",
              "            '<a target=\"_blank\" href=https://colab.research.google.com/notebooks/data_table.ipynb>data table notebook</a>'\n",
              "            + ' to learn more about interactive tables.';\n",
              "          element.innerHTML = '';\n",
              "          dataTable['output_type'] = 'display_data';\n",
              "          await google.colab.output.renderOutput(dataTable, element);\n",
              "          const docLink = document.createElement('div');\n",
              "          docLink.innerHTML = docLinkHtml;\n",
              "          element.appendChild(docLink);\n",
              "        }\n",
              "      </script>\n",
              "    </div>\n",
              "  </div>\n",
              "  "
            ]
          },
          "metadata": {},
          "execution_count": 10
        }
      ]
    },
    {
      "cell_type": "markdown",
      "source": [
        "alpha가 0.5일때 RMSE가 5.467로 가장 좋음, 라쏘 회귀에 비해 0이 되는 값이 적음\n",
        "\n",
        "**선형 회귀 모델을 위한 데이터 변환**\n",
        "\n",
        "- 타깃값의 경우 정규 분포 형태가 아니라 특정값의 분포가 치우친 왜곡(skew)된 형태의 분포도일 경우 예측 성능에 부정적인 영향을 미칠 가능성이 높으므로 선형 회귀 모델을 적용하기 전에 먼저 데이터에 대한 스케일링/정규화 작업을 수행하는 것이 일반적임\n",
        "\n",
        "1. StandardScaler 클래스를 이용해 평균 0, 분산 1인 표준정규분포를 가진 데이터세트로 변환하거나 MinMaxScaler 클래스를 이용해 최솟값이 0, 최댓값이 1인 값으로 정규화 수행\n",
        "\n",
        "2. 스케일링/정규화를 수행한 데이터 세트에 다시 다항 특성을 적용하여 변환\n",
        "\n",
        "3. 로그 변환\n",
        "\n",
        "-> 타깃값은 일반적으로 로그 변환을 적용한다."
      ],
      "metadata": {
        "id": "OUU6I0Y2OxwK"
      }
    },
    {
      "cell_type": "code",
      "source": [
        "from sklearn.preprocessing import StandardScaler, MinMaxScaler, PolynomialFeatures\n",
        "\n",
        "# method는 표준 정규 분포 변환(Standard), 최대값/최소값 정규화(MinMax), 로그변환(Log) 결정\n",
        "# p_degree는 다향식 특성을 추가할 때 적용. p_degree는 2이상 부여하지 않음. \n",
        "def get_scaled_data(method='None', p_degree=None, input_data=None):\n",
        "    if method == 'Standard':\n",
        "        scaled_data = StandardScaler().fit_transform(input_data)\n",
        "    elif method == 'MinMax':\n",
        "        scaled_data = MinMaxScaler().fit_transform(input_data)\n",
        "    elif method == 'Log':\n",
        "        scaled_data = np.log1p(input_data)\n",
        "    else:\n",
        "        scaled_data = input_data\n",
        "\n",
        "    if p_degree != None:\n",
        "        scaled_data = PolynomialFeatures(degree=p_degree, \n",
        "                                         include_bias=False).fit_transform(scaled_data)\n",
        "    \n",
        "    return scaled_data"
      ],
      "metadata": {
        "id": "ukI4nvnW97g7"
      },
      "execution_count": 14,
      "outputs": []
    },
    {
      "cell_type": "code",
      "source": [
        "#Ridge의 alpha값을 다르게 적용하고 다양한 데이터 변환 방법에 따른 rmse 추출.\n",
        "alphas = [0.1, 1, 10, 100]\n",
        "\n",
        "# 5개 방식으로 변환. 먼저 원본 그대로, 표준 정규분포, 표준정규 분포 + 다항식 특성\n",
        "# 최대/최소 정규화, 최대/최소 정규화+다항식 특성, 로그변환 \n",
        "\n",
        "scale_methods = [(None, None), ('Standard', None), ('Standard', 2), ('MinMax', None), ('MinMax', 2), ('Log', None)]\n",
        "\n",
        "for scale_method in scale_methods:\n",
        "    X_data_scaled = get_scaled_data(method = scale_method[0], p_degree = scale_method[1], input_data = X_data)\n",
        "    print('\\n## 변환 유형 : {0}, Polynomial Degree : {1}'.format(scale_method[0], scale_method[1]))\n",
        "\n",
        "    get_linear_reg_eval('Ridge', params = alphas, X_data_n = X_data_scaled, y_target_n = y_target, verbose = False, return_coeff = False)"
      ],
      "metadata": {
        "colab": {
          "base_uri": "https://localhost:8080/"
        },
        "id": "TXwheZYn_xyP",
        "outputId": "ae9ff8c9-c7e7-445a-daf6-b3211f4445c2"
      },
      "execution_count": 15,
      "outputs": [
        {
          "output_type": "stream",
          "name": "stdout",
          "text": [
            "\n",
            "## 변환 유형 : None, Polynomial Degree : None\n",
            "alpha 0.1일 때 5 폴드 세트의 평균 RMSE : 5.788 \n",
            "alpha 1일 때 5 폴드 세트의 평균 RMSE : 5.653 \n",
            "alpha 10일 때 5 폴드 세트의 평균 RMSE : 5.518 \n",
            "alpha 100일 때 5 폴드 세트의 평균 RMSE : 5.330 \n",
            "\n",
            "## 변환 유형 : Standard, Polynomial Degree : None\n",
            "alpha 0.1일 때 5 폴드 세트의 평균 RMSE : 5.826 \n",
            "alpha 1일 때 5 폴드 세트의 평균 RMSE : 5.803 \n",
            "alpha 10일 때 5 폴드 세트의 평균 RMSE : 5.637 \n",
            "alpha 100일 때 5 폴드 세트의 평균 RMSE : 5.421 \n",
            "\n",
            "## 변환 유형 : Standard, Polynomial Degree : 2\n",
            "alpha 0.1일 때 5 폴드 세트의 평균 RMSE : 8.827 \n",
            "alpha 1일 때 5 폴드 세트의 평균 RMSE : 6.871 \n",
            "alpha 10일 때 5 폴드 세트의 평균 RMSE : 5.485 \n",
            "alpha 100일 때 5 폴드 세트의 평균 RMSE : 4.634 \n",
            "\n",
            "## 변환 유형 : MinMax, Polynomial Degree : None\n",
            "alpha 0.1일 때 5 폴드 세트의 평균 RMSE : 5.764 \n",
            "alpha 1일 때 5 폴드 세트의 평균 RMSE : 5.465 \n",
            "alpha 10일 때 5 폴드 세트의 평균 RMSE : 5.754 \n",
            "alpha 100일 때 5 폴드 세트의 평균 RMSE : 7.635 \n",
            "\n",
            "## 변환 유형 : MinMax, Polynomial Degree : 2\n",
            "alpha 0.1일 때 5 폴드 세트의 평균 RMSE : 5.298 \n",
            "alpha 1일 때 5 폴드 세트의 평균 RMSE : 4.323 \n",
            "alpha 10일 때 5 폴드 세트의 평균 RMSE : 5.185 \n",
            "alpha 100일 때 5 폴드 세트의 평균 RMSE : 6.538 \n",
            "\n",
            "## 변환 유형 : Log, Polynomial Degree : None\n",
            "alpha 0.1일 때 5 폴드 세트의 평균 RMSE : 4.770 \n",
            "alpha 1일 때 5 폴드 세트의 평균 RMSE : 4.676 \n",
            "alpha 10일 때 5 폴드 세트의 평균 RMSE : 4.836 \n",
            "alpha 100일 때 5 폴드 세트의 평균 RMSE : 6.241 \n"
          ]
        }
      ]
    },
    {
      "cell_type": "markdown",
      "source": [
        "- 표준 정규 분포와 최솟값 / 최댓값 정규화로 피처 데이터 세트를 변경해도 성능상의 개선은 없음\n",
        "\n",
        "- 다항식 변화는 성능이 개선됨. 하지만 다항식 변환은 피처의 개수가 많을 경우 적용하기 힘들고 시간이 소모됨\n",
        "\n",
        "- 로그변환은 모두 좋은 성능 향상이 있음"
      ],
      "metadata": {
        "id": "YU17NGoM_4sb"
      }
    },
    {
      "cell_type": "markdown",
      "source": [
        "### 로지스틱 회귀\n",
        "\n",
        ": 선형 회귀 방식을 분류에 적용한 알고리즘 (시그모이드 함수를 이용해 분류 수행)"
      ],
      "metadata": {
        "id": "DjXghJ2vAEYq"
      }
    },
    {
      "cell_type": "code",
      "source": [
        "#위스콘신 유방암 데이터 세트를 이용해 로지스틱 회귀로 암 여부 판단\n",
        "import pandas as pd\n",
        "import matplotlib.pyplot as plt\n",
        "%matplotlib inline\n",
        "\n",
        "from sklearn.datasets import load_breast_cancer\n",
        "from sklearn.linear_model import LogisticRegression\n",
        "\n",
        "cancer = load_breast_cancer()"
      ],
      "metadata": {
        "id": "6Xxd-jcGApMb"
      },
      "execution_count": 16,
      "outputs": []
    },
    {
      "cell_type": "code",
      "source": [
        "from sklearn.preprocessing import StandardScaler\n",
        "from sklearn.model_selection import train_test_split\n",
        "\n",
        "# StandardScaler()로 평균이 0, 분산 1로 데이터 분포 변환\n",
        "scaler = StandardScaler() #정규 분포 형태의 표준 스케일링을 적용\n",
        "data_scaled = scaler.fit_transform(cancer.data)\n",
        "#데이터 셑 분리\n",
        "X_train, X_test, y_train, y_test = train_test_split(data_scaled, cancer.target, test_size = 0.3, random_state = 0)"
      ],
      "metadata": {
        "id": "eaXcuI2zAwgF"
      },
      "execution_count": 17,
      "outputs": []
    },
    {
      "cell_type": "code",
      "source": [
        "from sklearn.metrics import accuracy_score, roc_auc_score\n",
        "\n",
        "# 로지스틱 회귀를 이용하여 학습 및 예측 수행. \n",
        "lr_clf = LogisticRegression()\n",
        "lr_clf.fit(X_train, y_train)\n",
        "lr_preds = lr_clf.predict(X_test)\n",
        "\n",
        "# accuracy와 roc_auc 측정\n",
        "print('accuracy : {:0.3f}'.format(accuracy_score(y_test, lr_preds)))\n",
        "print('roc_auc : {:0.3f}'.format(roc_auc_score(y_test , lr_preds)))"
      ],
      "metadata": {
        "colab": {
          "base_uri": "https://localhost:8080/"
        },
        "id": "6a-OIqOVA19c",
        "outputId": "e64cfa10-a44b-4395-94c0-ca4255892ac8"
      },
      "execution_count": 18,
      "outputs": [
        {
          "output_type": "stream",
          "name": "stdout",
          "text": [
            "accuracy : 0.977\n",
            "roc_auc : 0.972\n"
          ]
        }
      ]
    },
    {
      "cell_type": "markdown",
      "source": [
        "[LogisticRegression클래스의 주요 하이퍼 파라미터]\n",
        "\n",
        "penalty = L1 규제 or L2 규제\n",
        "\n",
        "C = 1/alpha\n"
      ],
      "metadata": {
        "id": "yJCcaempA5jQ"
      }
    },
    {
      "cell_type": "code",
      "source": [
        "from sklearn.model_selection import GridSearchCV\n",
        "\n",
        "params={'penalty':['l2', 'l1'],\n",
        "        'C':[0.01, 0.1, 1, 1, 5, 10]}\n",
        "\n",
        "grid_clf = GridSearchCV(lr_clf, param_grid = params, scoring = 'accuracy', cv = 3 )\n",
        "grid_clf.fit(data_scaled, cancer.target)\n",
        "print('최적 하이퍼 파라미터 : {0}, 최적 평균 정확도 : {1:.3f}'.format(grid_clf.best_params_, grid_clf.best_score_))"
      ],
      "metadata": {
        "colab": {
          "base_uri": "https://localhost:8080/"
        },
        "id": "FF_GxbI_BRjy",
        "outputId": "b4bbe1de-a6fa-41c5-9ce8-253d2c1f7447"
      },
      "execution_count": 19,
      "outputs": [
        {
          "output_type": "stream",
          "name": "stdout",
          "text": [
            "최적 하이퍼 파라미터 : {'C': 1, 'penalty': 'l2'}, 최적 평균 정확도 : 0.975\n"
          ]
        }
      ]
    },
    {
      "cell_type": "markdown",
      "source": [
        "### 회귀 트리\n",
        "회귀 트리:\n",
        "- 회귀를 위한 트리를 생성하고 이를 기반으로 회귀 예측\n",
        "- 분류 트리가 특정 클래스 레이블을 결정하는 것과 달리 회귀 트리는 리프 노드에 속한 데이터 값의 평균값을 구해 회귀 예측값을 계산"
      ],
      "metadata": {
        "id": "1AWPEPkABX3W"
      }
    },
    {
      "cell_type": "code",
      "source": [
        "#RandomForestRegressor이용 보스턴 주택 가격 예측\n",
        "from sklearn.datasets import load_boston\n",
        "from sklearn.model_selection import cross_val_score\n",
        "from sklearn.ensemble import RandomForestRegressor\n",
        "import pandas as pd\n",
        "import numpy as np\n",
        "\n",
        "# 보스턴 데이터셋 로드\n",
        "boston = load_boston()\n",
        "bostonDF = pd.DataFrame(boston.data, columns = boston.feature_names)\n",
        "\n",
        "bostonDF['PRICE'] = boston.target\n",
        "y_target = bostonDF['PRICE']\n",
        "X_data = bostonDF.drop(['PRICE'], axis=1,inplace=False)\n",
        "\n",
        "rf = RandomForestRegressor(random_state = 0, n_estimators = 1000)\n",
        "neg_mse_scores = cross_val_score(rf, X_data, y_target, scoring = \"neg_mean_squared_error\", cv = 5)\n",
        "rmse_scores  = np.sqrt(-1 * neg_mse_scores)\n",
        "avg_rmse = np.mean(rmse_scores)\n",
        "\n",
        "print(' 5 교차 검증의 개별 Negative MSE scores : ', np.round(neg_mse_scores, 2))\n",
        "print(' 5 교차 검증의 개별 RMSE scores : ', np.round(rmse_scores, 2))\n",
        "print(' 5 교차 검증의 평균 RMSE : {0:.3f} '.format(avg_rmse))"
      ],
      "metadata": {
        "colab": {
          "base_uri": "https://localhost:8080/"
        },
        "id": "QMArF2EAB4TO",
        "outputId": "0dd827bf-9730-4ccf-ddc1-0d3a230dff12"
      },
      "execution_count": 20,
      "outputs": [
        {
          "output_type": "stream",
          "name": "stdout",
          "text": [
            " 5 교차 검증의 개별 Negative MSE scores :  [ -7.88 -13.14 -20.57 -46.23 -18.88]\n",
            " 5 교차 검증의 개별 RMSE scores :  [2.81 3.63 4.54 6.8  4.34]\n",
            " 5 교차 검증의 평균 RMSE : 4.423 \n"
          ]
        }
      ]
    },
    {
      "cell_type": "code",
      "source": [
        "#랜덤포레스트 이외에 결정트리, XGB, XGBoost, LightGBMdml regressor을 모두 이용해 예측을 수행\n",
        "def get_model_cv_prediction(model, X_data, y_target):\n",
        "    neg_mse_scores = cross_val_score(model, X_data, y_target, scoring = \"neg_mean_squared_error\", cv = 5)\n",
        "    rmse_scores  = np.sqrt(-1 * neg_mse_scores)\n",
        "    avg_rmse = np.mean(rmse_scores)\n",
        "\n",
        "    print('##### ', model.__class__.__name__ , ' #####')\n",
        "    print(' 5 교차 검증의 평균 RMSE : {0:.3f} '.format(avg_rmse))"
      ],
      "metadata": {
        "id": "UK4pvW4TCIxb"
      },
      "execution_count": 22,
      "outputs": []
    },
    {
      "cell_type": "code",
      "source": [
        "from sklearn.tree import DecisionTreeRegressor\n",
        "from sklearn.ensemble import GradientBoostingRegressor\n",
        "from xgboost import XGBRegressor\n",
        "from lightgbm import LGBMRegressor\n",
        "\n",
        "dt_reg = DecisionTreeRegressor(random_state = 0, max_depth = 4)\n",
        "rf_reg = RandomForestRegressor(random_state = 0, n_estimators = 1000)\n",
        "gb_reg = GradientBoostingRegressor(random_state = 0, n_estimators = 1000)\n",
        "xgb_reg = XGBRegressor(n_estimators = 1000)\n",
        "lgb_reg = LGBMRegressor(n_estimators = 1000)\n",
        "\n",
        "# 트리 기반의 회귀 모델을 반복하면서 평가 수행 \n",
        "models = [dt_reg, rf_reg, gb_reg, xgb_reg, lgb_reg]\n",
        "\n",
        "for model in models:  \n",
        "    get_model_cv_prediction(model, X_data, y_target)"
      ],
      "metadata": {
        "colab": {
          "base_uri": "https://localhost:8080/"
        },
        "id": "38nIHUNPCMpP",
        "outputId": "1a59d9c0-35f5-4d4e-a3f4-7841d7e86a8f"
      },
      "execution_count": 23,
      "outputs": [
        {
          "output_type": "stream",
          "name": "stdout",
          "text": [
            "#####  DecisionTreeRegressor  #####\n",
            " 5 교차 검증의 평균 RMSE : 5.978 \n",
            "#####  RandomForestRegressor  #####\n",
            " 5 교차 검증의 평균 RMSE : 4.423 \n",
            "#####  GradientBoostingRegressor  #####\n",
            " 5 교차 검증의 평균 RMSE : 4.269 \n",
            "[07:00:20] WARNING: /workspace/src/objective/regression_obj.cu:152: reg:linear is now deprecated in favor of reg:squarederror.\n",
            "[07:00:21] WARNING: /workspace/src/objective/regression_obj.cu:152: reg:linear is now deprecated in favor of reg:squarederror.\n",
            "[07:00:21] WARNING: /workspace/src/objective/regression_obj.cu:152: reg:linear is now deprecated in favor of reg:squarederror.\n",
            "[07:00:22] WARNING: /workspace/src/objective/regression_obj.cu:152: reg:linear is now deprecated in favor of reg:squarederror.\n",
            "[07:00:22] WARNING: /workspace/src/objective/regression_obj.cu:152: reg:linear is now deprecated in favor of reg:squarederror.\n",
            "#####  XGBRegressor  #####\n",
            " 5 교차 검증의 평균 RMSE : 4.089 \n",
            "#####  LGBMRegressor  #####\n",
            " 5 교차 검증의 평균 RMSE : 4.646 \n"
          ]
        }
      ]
    },
    {
      "cell_type": "markdown",
      "source": [
        "coef_ 속성 없음. 대신 feature_importances_를 이용해 피처별 중요도 알 수 있음"
      ],
      "metadata": {
        "id": "p3_kHnh7CYhs"
      }
    },
    {
      "cell_type": "code",
      "source": [
        "import seaborn as sns\n",
        "%matplotlib inline\n",
        "\n",
        "rf_reg = RandomForestRegressor(n_estimators = 1000)\n",
        "\n",
        "# 앞 예제에서 만들어진 X_data, y_target 데이터셋을 적용해 학습  \n",
        "rf_reg.fit(X_data, y_target)\n",
        "\n",
        "feature_series = pd.Series(data = rf_reg.feature_importances_, index = X_data.columns )\n",
        "feature_series = feature_series.sort_values(ascending = False) # 내림차순\n",
        "sns.barplot(x = feature_series, y = feature_series.index)"
      ],
      "metadata": {
        "colab": {
          "base_uri": "https://localhost:8080/",
          "height": 283
        },
        "id": "-JuVTOg5Ciwr",
        "outputId": "803b57da-f0ac-4658-ab35-d4d078225361"
      },
      "execution_count": 24,
      "outputs": [
        {
          "output_type": "execute_result",
          "data": {
            "text/plain": [
              "<matplotlib.axes._subplots.AxesSubplot at 0x7f668357fbd0>"
            ]
          },
          "metadata": {},
          "execution_count": 24
        },
        {
          "output_type": "display_data",
          "data": {
            "text/plain": [
              "<Figure size 432x288 with 1 Axes>"
            ],
            "image/png": "[encoded data removed]"
          },
          "metadata": {
            "needs_background": "light"
          }
        }
      ]
    },
    {
      "cell_type": "code",
      "source": [
        "#선형 회귀와 비교해 시각화\n",
        "bostonDF_sample = bostonDF[['RM','PRICE']]\n",
        "bostonDF_sample = bostonDF_sample.sample( n =100, random_state = 0)\n",
        "print(bostonDF_sample.shape)\n",
        "plt.figure()\n",
        "plt.scatter(bostonDF_sample.RM, bostonDF_sample.PRICE, c = \"darkorange\")"
      ],
      "metadata": {
        "colab": {
          "base_uri": "https://localhost:8080/",
          "height": 302
        },
        "id": "TbIpiNTACsQn",
        "outputId": "199194f8-2542-47d7-9863-c771c1fe9ecd"
      },
      "execution_count": 25,
      "outputs": [
        {
          "output_type": "stream",
          "name": "stdout",
          "text": [
            "(100, 2)\n"
          ]
        },
        {
          "output_type": "execute_result",
          "data": {
            "text/plain": [
              "<matplotlib.collections.PathCollection at 0x7f667a1bb1d0>"
            ]
          },
          "metadata": {},
          "execution_count": 25
        },
        {
          "output_type": "display_data",
          "data": {
            "text/plain": [
              "<Figure size 432x288 with 1 Axes>"
            ],
            "image/png": "[encoded data removed]"
          },
          "metadata": {
            "needs_background": "light"
          }
        }
      ]
    },
    {
      "cell_type": "code",
      "source": [
        "import numpy as np\n",
        "from sklearn.linear_model import LinearRegression\n",
        "\n",
        "# 선형 회귀와 결정 트리 기반의 Regressor 생성. DecisionTreeRegressor의 max_depth는 각각 2, 7\n",
        "lr_reg = LinearRegression()\n",
        "rf_reg2 = DecisionTreeRegressor(max_depth = 2)\n",
        "rf_reg7 = DecisionTreeRegressor(max_depth = 7)\n",
        "\n",
        "# 실제 예측을 적용할 테스트용 데이터 셋을 4.5 ~ 8.5 까지 100개 테스트 데이터셋 생성\n",
        "X_test = np.arange(4.5, 8.5, 0.04).reshape(-1, 1)\n",
        "\n",
        "# 보스턴 주택가격 데이터에서 시각화를 위해 RM, PRICE 추출\n",
        "X_feature = bostonDF_sample['RM'].values.reshape(-1,1)\n",
        "y_target = bostonDF_sample['PRICE'].values.reshape(-1,1)\n",
        "\n",
        "# 학습과 예측 수행.\n",
        "lr_reg.fit(X_feature, y_target)\n",
        "rf_reg2.fit(X_feature, y_target)\n",
        "rf_reg7.fit(X_feature, y_target)\n",
        "\n",
        "pred_lr = lr_reg.predict(X_test)\n",
        "pred_rf2 = rf_reg2.predict(X_test)\n",
        "pred_rf7 = rf_reg7.predict(X_test)"
      ],
      "metadata": {
        "id": "C9A_mR5VC3vB"
      },
      "execution_count": 26,
      "outputs": []
    },
    {
      "cell_type": "code",
      "source": [
        "fig , (ax1, ax2, ax3) = plt.subplots(figsize = (14,4), ncols = 3)\n",
        "\n",
        "# X축 값을 4.5~ 8.5로 변환하며 입력했을 때 선형회귀와 결정 트리 회귀 예측선 시각화\n",
        "#선형 회귀로 학습된 모델 회귀 예측선 \n",
        "ax1.set_title('Linear Regression')\n",
        "ax1.scatter(bostonDF_sample.RM, bostonDF_sample.PRICE, c = \"darkorange\")\n",
        "ax1.plot(X_test, pred_lr,label = \"linear\", linewidth = 2 )\n",
        "\n",
        "# DecisionTreeRegressor의 max_depth를 2로 했을 때 회귀 예측선 \n",
        "ax2.set_title('Decision Tree Regression : \\n max_depth = 2')\n",
        "ax2.scatter(bostonDF_sample.RM, bostonDF_sample.PRICE, c = \"darkorange\")\n",
        "ax2.plot(X_test, pred_rf2, label = \"max_depth : 3\", linewidth = 2 )\n",
        "\n",
        "# DecisionTreeRegressor의 max_depth를 7로 했을 때 회귀 예측선 \n",
        "ax3.set_title('Decision Tree Regression : \\n max_depth = 7')\n",
        "ax3.scatter(bostonDF_sample.RM, bostonDF_sample.PRICE, c = \"darkorange\")\n",
        "ax3.plot(X_test, pred_rf7, label = \"max_depth : 7\", linewidth = 2)"
      ],
      "metadata": {
        "colab": {
          "base_uri": "https://localhost:8080/",
          "height": 314
        },
        "id": "L6zu_6BJDB3X",
        "outputId": "0d8a833b-a9fc-4927-d6dc-2a3d2daac6ee"
      },
      "execution_count": 27,
      "outputs": [
        {
          "output_type": "execute_result",
          "data": {
            "text/plain": [
              "[<matplotlib.lines.Line2D at 0x7f667a0bbc50>]"
            ]
          },
          "metadata": {},
          "execution_count": 27
        },
        {
          "output_type": "display_data",
          "data": {
            "text/plain": [
              "<Figure size 1008x288 with 3 Axes>"
            ],
            "image/png": "[encoded data removed]"
          },
          "metadata": {
            "needs_background": "light"
          }
        }
      ]
    },
    {
      "cell_type": "markdown",
      "source": [
        "- 선형 회귀는 직선으로 예측 회귀선을 표현하는데 반해, 회귀 트리의 경우 분할되는 데이터 지점에 다라 브랜치를 만들면서 계단 형태로 회귀선을 만든다.\n",
        "\n",
        "- DecisionTreeRegressor의 max_depth=7인 경우에는 학습 데이터 세트의 이상치 데이터도 학습하면서 복잡한 계단 형태의 회귀선을 만들어 과적합이 되기 쉬운 모델이 되었음을 알 수 있음"
      ],
      "metadata": {
        "id": "vXu65zmjDL13"
      }
    }
  ]
}