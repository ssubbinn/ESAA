{
  "nbformat": 4,
  "nbformat_minor": 0,
  "metadata": {
    "colab": {
      "provenance": [],
      "authorship_tag": "ABX9TyM9CPZPoTOxtMDy5sv5UAwR",
      "include_colab_link": true
    },
    "kernelspec": {
      "name": "python3",
      "display_name": "Python 3"
    },
    "language_info": {
      "name": "python"
    }
  },
  "cells": [
    {
      "cell_type": "markdown",
      "metadata": {
        "id": "view-in-github",
        "colab_type": "text"
      },
      "source": [
        "<a href=\"https://colab.research.google.com/github/ssubbinn/ESAA/blob/main/12%EC%A3%BC%EC%B0%A8_%EA%B3%BC%EC%A0%9C_2.ipynb\" target=\"_parent\"><img src=\"https://colab.research.google.com/assets/colab-badge.svg\" alt=\"Open In Colab\"/></a>"
      ]
    },
    {
      "cell_type": "markdown",
      "source": [
        "### 회귀\n",
        "\n",
        "**[회귀 소개]**\n",
        "\n",
        "회귀 : 여러 개의 독립변수와 한 개의 종속변수 간의 상관관계를 모델링하는 기법 통칭\n",
        "\n",
        "회귀 계수: 독립변수의 값에 영향을 미치는 계수 -> 최적의 회귀 계수를 찾는것이 머신러닝 회귀 예측의 핵심!\n",
        "\n",
        "<지도학습>\n",
        "\n",
        "1. 분류 : 예측값이 category 값 같은 이산형 클래스 값\n",
        "2. 회귀 : 예측값이 숫자값 같은 연속값\n",
        "\n",
        "<선형 회귀 모델>\n",
        "- 일반 선형 회귀 : 예측값과 실제 값의 RSS를 최소화할 수 있도록 회귀 계수를 최적화하며, 규제를 적용하지 않은 모델\n",
        "\n",
        "- 릿지 : 릿지 회귀는 선형 회귀에 L2 규제를 추가한 회귀 모델. L2 규제는 상대적으로 큰 회귀 계수 값의 예측 영향도를 감소시키기 위해서 회귀 계수값을 더 작게 만드는 모델\n",
        "\n",
        "- 라쏘 : 선형 회귀에 L1 규제를 적용한 방식. L2 규제가 회귀 계수 값의 크기를 줄이는 데 반해, L1 규제는 예측 영향력이 작은 피쳐의 회귀 계수를 0으로 만들어 회귀 예측 시 피처가 선택되지 않게 하는 것\n",
        "\n",
        "- 엘라스틱넷 : L2, L1 규제를 함께 결합한 모델. 주로 피처가 많은 데이터 세트에 적용, L1 규제로 피처의 개수를 줄임과 동시에 L2 규제로 계수 값의 크기 조정\n",
        "\n",
        "- 로지스틱 회귀 : 분류에 사용되는 선형 모델. 이진 분류뿐만 아니라 희소 영역의 분류, 예를 들어 텍스트 분류와 같은 영역에서 뛰어난 예측 성능을 보임\n",
        "\n"
      ],
      "metadata": {
        "id": "ewcGBvaTmO7Y"
      }
    },
    {
      "cell_type": "markdown",
      "source": [
        "**[단순 선형 회귀를 통한 회귀 이해]**\n",
        "\n",
        "단순 선형 회귀 : 독립변수도 하나, 종속변수도 하나\n",
        "\n",
        "잔차 : 회귀 모델의 차이에 따른 오류 값 -> 잔차 최소\n",
        "\n",
        "- yhat=w0+w1*x+오류 값\n",
        "\n",
        "\n"
      ],
      "metadata": {
        "id": "u-qtlOwfpM2U"
      }
    },
    {
      "cell_type": "markdown",
      "source": [
        "**[비용 최소화하기 - 경사 하강법 소개]**\n",
        "\n",
        "경사하강법 \n",
        "- 고차원 방정식에 대한 문제를 해결해 주면서 비용 함수 RSS 를 최소화하는 방법을 직관적으로 제공하는 방식 \n",
        "- 점진적으로 반복적인 계산을 통해 W 파라미터 값을 업데이트하면서 오류 최소가 되는 W 구하는 방식"
      ],
      "metadata": {
        "id": "wCfZsbUrp9Ph"
      }
    },
    {
      "cell_type": "code",
      "source": [
        "import numpy as np\n",
        "import matplotlib.pyplot as plt\n",
        "%matplotlib inline\n",
        "\n",
        "np.random.seed(0)\n",
        "#y= 4X + 6을 근사. 임의의 값은 노이즈를 위해 만듦\n",
        "X=2*np.random.rand(100,1)\n",
        "y=6+4*X+np.random.randn(100,1)\n",
        "\n",
        "# X,y 데이터 세트 산점도로 시각화\n",
        "plt.scatter(X,y)"
      ],
      "metadata": {
        "colab": {
          "base_uri": "https://localhost:8080/",
          "height": 283
        },
        "id": "9JhzoN7r6hCR",
        "outputId": "a6a66f8d-dbfa-4eef-dc26-593e8c67125b"
      },
      "execution_count": 1,
      "outputs": [
        {
          "output_type": "execute_result",
          "data": {
            "text/plain": [
              "<matplotlib.collections.PathCollection at 0x7f07d883da50>"
            ]
          },
          "metadata": {},
          "execution_count": 1
        },
        {
          "output_type": "display_data",
          "data": {
            "text/plain": [
              "<Figure size 432x288 with 1 Axes>"
            ],
            "image/png": "[encoded data removed]"
          },
          "metadata": {
            "needs_background": "light"
          }
        }
      ]
    },
    {
      "cell_type": "code",
      "source": [
        "#비용 함수 정의\n",
        "def get_cost(y, y_pred):\n",
        "  N=len(y)\n",
        "  cost=np.sum(np.square(y-y_pred))/N\n",
        "  return cost"
      ],
      "metadata": {
        "id": "kqO1mzEO7HoT"
      },
      "execution_count": 2,
      "outputs": []
    },
    {
      "cell_type": "code",
      "source": [
        "#w1과 w0을 업데이트 할 w1_update, w0_update를 반환\n",
        "def get_weight_updates(w1,w0,X,y,learning_rate=0.01):\n",
        "  N=len(y)\n",
        "  #먼저 w1_update,w0_update를 각각 w1,w0의 shape와 동일한 크기를 가진 0 값으로초기화\n",
        "  w1_update=np.zeros_like(w1)\n",
        "  w0_update=np.zeros_like(w0)\n",
        "  #예측 배열 계산하고 예측과 실제 값의 차이 계산\n",
        "  y_pred=np.dot(X,w1.T)+w0\n",
        "  diff=y-y_pred\n",
        "\n",
        "  #w0_update를 dot 행렬 연산으로 구하기 위해 모두 1 값을 가진 행렬 생성\n",
        "  w0_factors=np.ones((N,1))\n",
        "\n",
        "  #w1과 w0을 업데이트 할 w1_update, w0_update 계산\n",
        "  w1_update=-(2/N)*learning_rate*(np.dot(X.T,diff))\n",
        "  w0_update=-(2/N)*learning_rate*(np.dot(w0_factors.T,diff))\n",
        "\n",
        "  return w1_update, w0_update"
      ],
      "metadata": {
        "id": "OVWBj8wU7fRk"
      },
      "execution_count": 3,
      "outputs": []
    },
    {
      "cell_type": "code",
      "source": [
        "# 입력 인자 iters로 주어진 횟수만큼 반복적으로 w1과 w0를 업데이트 적용함\n",
        "def gradient_descent_steps(X,y,iters=10000):\n",
        "  #w0과 w1을 모두 0으로 초기화\n",
        "  w1=np.zeros((1,1))\n",
        "  w0=np.zeros((1,1))\n",
        "\n",
        "  #인자로 주어진iters 만큼 반복적으로 get_weight_updates() 호출해 w1,w0 업데이트 수행\n",
        "  for ind in range(iters):\n",
        "   w1_update, w0_update= get_weight_updates(w1,w0,X,y,learning_rate=0.01)\n",
        "   w1=w1-w1_update\n",
        "   w0=w0-w0_update\n",
        "\n",
        "  return w1,w0"
      ],
      "metadata": {
        "id": "-0SpoDaP9E95"
      },
      "execution_count": 4,
      "outputs": []
    },
    {
      "cell_type": "code",
      "source": [
        "def get_cost(y, y_pred):\n",
        "  N=len(y)\n",
        "  cost=np.sum(np.square(y-y_pred))/N\n",
        "  return cost\n",
        "\n",
        "w1,w0=gradient_descent_steps(X,y,iters=10000)\n",
        "print(\"w1:{0:.3f} w0:{1:.3f}\".format(w1[0,0],w0[0,0]))\n",
        "y_pred=w1[0,0]*X+w0\n",
        "print('Gradient Descent Total Cost:{0:.4f}'.format(get_cost(y,y_pred)))\n",
        "#실제와 비슷"
      ],
      "metadata": {
        "colab": {
          "base_uri": "https://localhost:8080/"
        },
        "id": "had20nQ-_Fn3",
        "outputId": "4e64f485-6923-4227-c573-8d3a0a06700c"
      },
      "execution_count": 5,
      "outputs": [
        {
          "output_type": "stream",
          "name": "stdout",
          "text": [
            "w1:3.968 w0:6.222\n",
            "Gradient Descent Total Cost:0.9924\n"
          ]
        }
      ]
    },
    {
      "cell_type": "code",
      "source": [
        "plt.scatter(X,y)\n",
        "plt.plot(X,y_pred)"
      ],
      "metadata": {
        "colab": {
          "base_uri": "https://localhost:8080/",
          "height": 283
        },
        "id": "i2Aiok7n_u_D",
        "outputId": "b310514c-4527-4b94-8537-82c2089b728f"
      },
      "execution_count": 6,
      "outputs": [
        {
          "output_type": "execute_result",
          "data": {
            "text/plain": [
              "[<matplotlib.lines.Line2D at 0x7f07ceaba250>]"
            ]
          },
          "metadata": {},
          "execution_count": 6
        },
        {
          "output_type": "display_data",
          "data": {
            "text/plain": [
              "<Figure size 432x288 with 1 Axes>"
            ],
            "image/png": "[encoded data removed]"
          },
          "metadata": {
            "needs_background": "light"
          }
        }
      ]
    },
    {
      "cell_type": "markdown",
      "source": [
        "실전에서는 시간이 오래걸리기 때문에 확률적 경사 하강법 이용"
      ],
      "metadata": {
        "id": "DfuppPEaAOfz"
      }
    },
    {
      "cell_type": "code",
      "source": [
        "def stochastic_gradient_descent_steps(X,y, batch_size=10,iters=1000):\n",
        "  #w0과 w1을 모두 0으로 초기화\n",
        "  w1=np.zeros((1,1))\n",
        "  w0=np.zeros((1,1))\n",
        "\n",
        "  prev_cost=100000\n",
        "  iter_index=0\n",
        "\n",
        "  #인자로 주어진iters 만큼 반복적으로 get_weight_updates() 호출해 w1,w0 업데이트 수행\n",
        "  for ind in range(iters):\n",
        "    np.random.seed(ind)\n",
        "    #전체 데이터에서 랜덤하게 batch size만큼 데이터를 추출해 sample_X, sample_y로 저장\n",
        "    stochastic_random_index=np.random.permutation(X.shape[0])\n",
        "    sample_X=X[stochastic_random_index[0:batch_size]]\n",
        "    sample_y=y[stochastic_random_index[0:batch_size]]\n",
        "\n",
        "    w1_update, w0_update= get_weight_updates(w1,w0,sample_X,sample_y,learning_rate=0.01)\n",
        "    w1=w1-w1_update\n",
        "    w0=w0-w0_update\n",
        "\n",
        "  return w1,w0"
      ],
      "metadata": {
        "id": "W3M99ytT_4dI"
      },
      "execution_count": 7,
      "outputs": []
    },
    {
      "cell_type": "code",
      "source": [
        "w1,w0=stochastic_gradient_descent_steps(X,y,iters=1000)\n",
        "print(\"w1:\", round(w1[0,0],3), \"w0:\", round(w0[0,0],3))\n",
        "y_pred=w1[0,0]*X+w0\n",
        "print('Stochastic Gradient Descent Total Cost:{0:.4f}'.format(get_cost(y,y_pred)))"
      ],
      "metadata": {
        "colab": {
          "base_uri": "https://localhost:8080/"
        },
        "id": "WIfOgApkBdX6",
        "outputId": "aa5d9c5e-eb06-4fcf-cb13-f7faa4bfaad3"
      },
      "execution_count": 8,
      "outputs": [
        {
          "output_type": "stream",
          "name": "stdout",
          "text": [
            "w1: 4.028 w0: 6.156\n",
            "Stochastic Gradient Descent Total Cost:0.9937\n"
          ]
        }
      ]
    },
    {
      "cell_type": "markdown",
      "source": [
        "**[다항 회귀와 과적합 / 과소적합 이해]**\n",
        "1. 다항 회귀 이해\n",
        "모든 관계를 직선으로만 표현할 수 없고 독립변수의 단항식이 아니라 2차, 3차 방정식과 같은 다항식으로 표현되는 것을 말함.\n",
        "\n",
        "- 다항 회귀는 선형 회귀이다. 회귀에서 선형을 따지는 것은 회귀 계수가 선형/비선형인지 따른 것이기 때문이다."
      ],
      "metadata": {
        "id": "YxVoudG1C9jB"
      }
    },
    {
      "cell_type": "code",
      "source": [
        "#polynomialFeatures를 이용해 단항값[x1,x2]를 2차 다항갑승로 [1,x1,x2,x1^2,x1x2,x2^2]로 변환하느 ㄴ예제\n",
        "from sklearn.preprocessing import PolynomialFeatures\n",
        "import numpy as np\n",
        "\n",
        "#다항식으로 변환한 단항식 생성, [[0,1],[2,3]]의 2x2행렬 생성\n",
        "X= np.arange(4).reshape(2,2)\n",
        "print('일차 단항식 계수 피처 : \\n',X)\n",
        "\n",
        "#degree= 2인 2차 다항식으로 변환하기 위해 PolynomialFeatures를 이용해 반환\n",
        "poly = PolynomialFeatures(degree=2)\n",
        "poly.fit(X)\n",
        "poly_ftr = poly.transform(X)\n",
        "print(\"변환된 2차 다항식 계수 피처 : \\n\", poly_ftr)"
      ],
      "metadata": {
        "colab": {
          "base_uri": "https://localhost:8080/"
        },
        "id": "-6PMV6HbDIIf",
        "outputId": "eddf83ef-4d7f-4e40-b5f5-b499fa6c80d3"
      },
      "execution_count": 9,
      "outputs": [
        {
          "output_type": "stream",
          "name": "stdout",
          "text": [
            "일차 단항식 계수 피처 : \n",
            " [[0 1]\n",
            " [2 3]]\n",
            "변환된 2차 다항식 계수 피처 : \n",
            " [[1. 0. 1. 0. 0. 1.]\n",
            " [1. 2. 3. 4. 6. 9.]]\n"
          ]
        }
      ]
    },
    {
      "cell_type": "code",
      "source": [
        "#3차 다항 계수 피처 값이 입력되면 결정 값을 반환하는 함수\n",
        "\n",
        "def polynomial_func(X):\n",
        "  y= 1+2*X[:,0] + 3*X[:,0]**2 + 4*X[:,1]**3\n",
        "  return y\n",
        "\n",
        "X = np.arange(4).reshape(2,2)\n",
        "print('일차 단항식 계수 feature:\\n',X)\n",
        "y=polynomial_func(X)\n",
        "print(\"삼차 다항식 결정값 : \\n\",y)"
      ],
      "metadata": {
        "colab": {
          "base_uri": "https://localhost:8080/"
        },
        "id": "BnmwPQ7SDKIh",
        "outputId": "30d5d36e-b184-4fc5-c959-58d42dcef196"
      },
      "execution_count": 10,
      "outputs": [
        {
          "output_type": "stream",
          "name": "stdout",
          "text": [
            "일차 단항식 계수 feature:\n",
            " [[0 1]\n",
            " [2 3]]\n",
            "삼차 다항식 결정값 : \n",
            " [  5 125]\n"
          ]
        }
      ]
    },
    {
      "cell_type": "code",
      "source": [
        "#3차 다항식 변환\n",
        "poly_tfr = PolynomialFeatures(degree=3).fit_transform(X)\n",
        "print(\"삼차 다항식 계수 feature:\\n\",poly_ftr)\n",
        "\n",
        "from sklearn.linear_model import LinearRegression\n",
        "#Lineaer Regression 에 차 다항식 계쑤 feature와 3차 다항식 결정값으로 학습 후 회귀 계수 확인\n",
        "model=LinearRegression()\n",
        "model.fit(poly_ftr,y)\n",
        "print('Polynomial 회귀 계수 \\n',np.round(model.coef_, 2))\n",
        "print('Polynomial 회귀 shape :',model.coef_.shape)"
      ],
      "metadata": {
        "colab": {
          "base_uri": "https://localhost:8080/"
        },
        "id": "aialgQK3DLwF",
        "outputId": "a0e1dd33-7de7-4856-822b-49fc2e64b242"
      },
      "execution_count": 11,
      "outputs": [
        {
          "output_type": "stream",
          "name": "stdout",
          "text": [
            "삼차 다항식 계수 feature:\n",
            " [[1. 0. 1. 0. 0. 1.]\n",
            " [1. 2. 3. 4. 6. 9.]]\n",
            "Polynomial 회귀 계수 \n",
            " [0.   1.94 1.94 3.87 5.81 7.74]\n",
            "Polynomial 회귀 shape : (6,)\n"
          ]
        }
      ]
    },
    {
      "cell_type": "markdown",
      "source": [
        "일차 단항식 계수 피처는 2개였지만 3차 다항식 polynomial변환 이후에는 다항시 ㄱ꼐수 피처가 10개로 늘어남."
      ],
      "metadata": {
        "id": "1ZUuslDUDSai"
      }
    },
    {
      "cell_type": "markdown",
      "source": [
        "- 다항 회귀 구현 : 피처 데이터 세트에 LinearRegression을 통해 3차 다항 회귀 형태의 다항 회귀를 적용하면 회귀 계쑤가 늘어남."
      ],
      "metadata": {
        "id": "m0n6mui-DUqR"
      }
    },
    {
      "cell_type": "code",
      "source": [
        "# 사이킷런의 Pipeline객체를 이용해 한 번에 다항 회귀를 구현해봄\n",
        "from sklearn.preprocessing import PolynomialFeatures\n",
        "from sklearn.linear_model import LinearRegression\n",
        "from sklearn.pipeline import Pipeline\n",
        "import numpy as np\n",
        "\n",
        "def polynomial_func(X):\n",
        "   y=1+2*X[:,0] + 3*X[:,0]**2 + 4*X[:,1]**3\n",
        "   return y\n",
        "\n",
        "#Pipeline객체로 Streamline하게 polynomial featre변환과 Linear Regression을 연결\n",
        "model = Pipeline([('poly',PolynomialFeatures(degree=3)),('linear', LinearRegression())])\n",
        "\n",
        "X=np.arange(4).reshape(2,2)\n",
        "y=polynomial_func(X)\n",
        "\n",
        "model= model.fit(X,y)\n",
        "print('Polynomial 회귀 계수 \\n', np.round(model.named_steps['linear'].coef_, 2))"
      ],
      "metadata": {
        "colab": {
          "base_uri": "https://localhost:8080/"
        },
        "id": "6EhGe3JSDPqG",
        "outputId": "0a908c1e-65ba-4d65-cb6e-61c4d2c4af4a"
      },
      "execution_count": 12,
      "outputs": [
        {
          "output_type": "stream",
          "name": "stdout",
          "text": [
            "Polynomial 회귀 계수 \n",
            " [0.   0.18 0.18 0.36 0.54 0.72 0.72 1.08 1.62 2.34]\n"
          ]
        }
      ]
    },
    {
      "cell_type": "markdown",
      "source": [
        "**[다항 회귀를 이용한 과소적합 및 과적합 이해]**\n",
        "\n",
        "다항 회귀는 피처의 직선적 관계가 아닌 복잡한 다항 관계를 모델링할 수있다. 다항식의 차수가 높아질수록 매우 복잡한 피처 간의 관계까지 모델링이 가능하다."
      ],
      "metadata": {
        "id": "XtkerwYNDcPV"
      }
    },
    {
      "cell_type": "code",
      "source": [
        "import numpy as np\n",
        "import matplotlib.pyplot as plt\n",
        "from sklearn.pipeline import Pipeline\n",
        "from sklearn.linear_model import LinearRegression\n",
        "from sklearn.model_selection import cross_val_score\n",
        "%matplotlib inline\n",
        "\n",
        "#임의의 값으로 구성된 X값에 대해 코사인 변환 값을 반환.\n",
        "def true_fun(X):\n",
        "  return np.cos(1.5 * np.pi * X)\n",
        "\n",
        "#X는 0부터 1까지 30개의 임의의 값을 순서대로 샘플링한 데이터\n",
        "np.random.seed(0)\n",
        "n_samples =30\n",
        "X= np.sort(np.random.rand(n_samples))\n",
        "\n",
        "# y 값은 코사인 기반의 true_fun()에서 약간의 노이즈 변동 값을 더한 값\n",
        "y= true_fun(X) +np.random.randn(n_samples)*0.1"
      ],
      "metadata": {
        "id": "NvNSkLdZDn7i"
      },
      "execution_count": 13,
      "outputs": []
    },
    {
      "cell_type": "code",
      "source": [
        "#예측 결과를 비교할 다항식 차수를 각각 1,4,15로 변경하면서 예측결과 비교\n",
        "plt.figure(figsize=(14,5))\n",
        "degrees=[1,4,15]\n",
        "\n",
        "\n",
        "#다항 회귀의 차수를 1,4,15로 각각 변화시키면서 비교\n",
        "for i in range(len(degrees)):\n",
        "  ax=plt.subplot(1,len(degrees),i+1)\n",
        "  plt.setp(ax,xticks=(), yticks=())\n",
        "\n",
        "  #개별 degree별로 Polynomial 변환\n",
        "  polynomial_features=PolynomialFeatures(degree=degrees[i],include_bias=False)\n",
        "  linear_regression=LinearRegression()\n",
        "  pipeline=Pipeline([(\"polynomial_features\",polynomial_features),(\"linear_regression\",linear_regression)])\n",
        "  pipeline.fit(X.reshape(-1,1),y)\n",
        "\n",
        "  #교차 검증으로 다항 회귀 평가\n",
        "  scores=cross_val_score(pipeline,X.reshape(-1,1),y,scoring='neg_mean_squared_error',cv=10)\n",
        "  #pipeline을 구성하는 세부 객체를 접근하는 named_steps['객체명']을 이용해 회귀계수 추출\n",
        "  coefficients=pipeline.named_steps['linear_regression'].coef_\n",
        "  print('\\nDegree {0} 회귀 계수는 {1} 입니다.'.format(degrees[i],np.round(coefficients,2)))\n",
        "  print('\\nDegree {0} MSE는 {1} 입니다.'.format(degrees[i],-1*np.mean(scores)))\n",
        "  \n",
        "  #0부터 1까지 테스트 데이터 세트르 100개로 나눠 예측을 수행\n",
        "  #테스트 데이터 세트에 회귀 예측을 수행하고 예측 곡선과 실제 곡선을 그려서 비교\n",
        "  X_test=np.linspace(0,1,100)\n",
        "  #예측값 곡선\n",
        "  plt.plot(X_test,pipeline.predict(X_test[:,np.newaxis]),label='model')\n",
        "  #실제값 곡선\n",
        "  plt.plot(X_test,true_fun(X_test),'--',label='True function')\n",
        "  plt.scatter(X,y,edgecolor='b',s=20,label='Samples')\n",
        "\n",
        "  plt.xlabel('x');plt.ylabel('y');plt.xlim((0,1));plt.ylim((-2,2));plt.legend(loc='best')\n",
        "  plt.title('Degree {}\\n MSE={:.2e}(+/- {:.2e})'.format(degrees[i],-scores.mean(),scores.std()))\n",
        "\n",
        "plt.show()"
      ],
      "metadata": {
        "colab": {
          "base_uri": "https://localhost:8080/",
          "height": 623
        },
        "id": "_68BNoslDpCD",
        "outputId": "a74bfd2b-e744-4d16-b347-373136ee59bf"
      },
      "execution_count": 15,
      "outputs": [
        {
          "output_type": "stream",
          "name": "stdout",
          "text": [
            "\n",
            "Degree 1 회귀 계수는 [-1.61] 입니다.\n",
            "\n",
            "Degree 1 MSE는 0.4077289625098685 입니다.\n",
            "\n",
            "Degree 4 회귀 계수는 [  0.47 -17.79  23.59  -7.26] 입니다.\n",
            "\n",
            "Degree 4 MSE는 0.04320874987232072 입니다.\n",
            "\n",
            "Degree 15 회귀 계수는 [-2.98291000e+03  1.03898770e+05 -1.87415056e+06  2.03715126e+07\n",
            " -1.44872551e+08  7.09311979e+08 -2.47064676e+09  6.24558367e+09\n",
            " -1.15676035e+10  1.56894317e+10 -1.54005437e+10  1.06456871e+10\n",
            " -4.91375763e+09  1.35919168e+09 -1.70380199e+08] 입니다.\n",
            "\n",
            "Degree 15 MSE는 180526263.3177066 입니다.\n"
          ]
        },
        {
          "output_type": "display_data",
          "data": {
            "text/plain": [
              "<Figure size 1008x360 with 3 Axes>"
            ],
            "image/png": "[encoded data removed]"
          },
          "metadata": {}
        }
      ]
    },
    {
      "cell_type": "markdown",
      "source": [
        "실선 곡선 : 다항 회귀 예측 곡선\n",
        "점선 ㄱ곡선:  실제 데이터 세트의 코사인 곡선\n",
        "\n",
        "- 맨 왼쪽의 DEGREE1예측 곡선은 단순한 직선으로서 단순선형회귀와 같다.\n",
        "\n",
        "- 가운데 DEGRES4예측 곡선은 실제 데이터 세트와 유관한 모습\n",
        "\n",
        "- 맨 오른쪽 DEGREE15예측 곡선은 mse값이 어처구니 없는 값 발생.\n",
        "\n",
        "-> 좋은 모델 : 학습 데이터의 패턴을 하나하나 감안한 지나치게 복잡한 과적합 모델도 아닌 학습 데이터의 패턴을 잘 반영하면서도 복잡하지 않은 균형잡힌 모델\n",
        "\n",
        "**[편향 - 분산 프레이드 오프]**\n",
        "\n",
        "- 지나치게 한 방향으로 치우친 경향이 있으며 이런 모델을 고분산성을 가졌다고 표현\n",
        "\n",
        "- 높은 평향/낮은 분산에서 과소적합되기 쉬우며 낮은 평향/높은 분산에서 과적합 되기 쉽다.\n",
        "\n",
        "- 편향과 분산이 서로 프레이드 오프를 이루면서 오류 COST값이 최대로 낮아지는 모델을 구축하는 것이 가장 "
      ],
      "metadata": {
        "id": "GrbgpB5QDxtY"
      }
    }
  ]
}